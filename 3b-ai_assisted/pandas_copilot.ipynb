{
 "cells": [
  {
   "cell_type": "markdown",
   "metadata": {},
   "source": [
    "# Data Files and pandas DataFrames\n",
    "\n",
    "In the previous section we tried some very basic things with Copilot. Now let's try a more complex example. In the previous chapter, we worked with the Gapminder dataset, which is a CSV file. We used the `pandas` library to read the CSV file into a `DataFrame`, and then used the `DataFrame` to do some analysis. Let's do that again, but this time we'll use Copilot to help us.\n",
    "\n",
    "First, let's prompt Copilot to read the CSV file containing the data for Europe. I've deliberately started with a very minimal prompt, to help illustrate how the wording of the prompt can affect the results. "
   ]
  },
  {
   "cell_type": "code",
   "execution_count": 5,
   "metadata": {},
   "outputs": [
    {
     "ename": "NameError",
     "evalue": "name 'pd' is not defined",
     "output_type": "error",
     "traceback": [
      "\u001b[0;31m---------------------------------------------------------------------------\u001b[0m",
      "\u001b[0;31mNameError\u001b[0m                                 Traceback (most recent call last)",
      "Cell \u001b[0;32mIn[5], line 2\u001b[0m\n\u001b[1;32m      1\u001b[0m \u001b[39m# read the gapminder data file for Europe\u001b[39;00m\n\u001b[0;32m----> 2\u001b[0m gapminder_europe \u001b[39m=\u001b[39m pd\u001b[39m.\u001b[39mread_csv(\u001b[39m'\u001b[39m\u001b[39mgapminder_gdp_europe.csv\u001b[39m\u001b[39m'\u001b[39m, index_col\u001b[39m=\u001b[39m\u001b[39m'\u001b[39m\u001b[39mcountry\u001b[39m\u001b[39m'\u001b[39m)\n",
      "\u001b[0;31mNameError\u001b[0m: name 'pd' is not defined"
     ]
    }
   ],
   "source": [
    "# read the gapminder data file for Europe\n",
    "gapminder_europe = pd.read_csv('gapminder_gdp_europe.csv', index_col='country')"
   ]
  },
  {
   "cell_type": "markdown",
   "metadata": {},
   "source": [
    "That generated a scary looking error message! This is human error, not AI error. But before we sort that out, let's marvel at what Copilot did there. We gave it a pretty poor prompt (\"the gapminder data for europe\"), and it guessed that the file was named `gapminder_gdp_europe.csv`. It also guessed that we wanted to use the `pandas` library (`pd`) to read the CSV file into a `DataFrame`. That's pretty impressive!\n",
    "\n",
    "Fortunately, the error is pretty self-explanatory. If we want to work with pandas, we always need to first import the pandas library. By convention we give it the alias `pd`. So let's add that to our prompt, and see what happens. Note that Copilot may generate code one line at a time, so you may have to accept the suggestion for the first line of code before it generates the next line of code."
   ]
  },
  {
   "cell_type": "code",
   "execution_count": 6,
   "metadata": {},
   "outputs": [
    {
     "ename": "FileNotFoundError",
     "evalue": "[Errno 2] No such file or directory: 'gapminder_gdp_europe.csv'",
     "output_type": "error",
     "traceback": [
      "\u001b[0;31m---------------------------------------------------------------------------\u001b[0m",
      "\u001b[0;31mFileNotFoundError\u001b[0m                         Traceback (most recent call last)",
      "Cell \u001b[0;32mIn[6], line 3\u001b[0m\n\u001b[1;32m      1\u001b[0m \u001b[39m# import the pandas library as pd and then read the gapminder data file for Europe\u001b[39;00m\n\u001b[1;32m      2\u001b[0m \u001b[39mimport\u001b[39;00m \u001b[39mpandas\u001b[39;00m \u001b[39mas\u001b[39;00m \u001b[39mpd\u001b[39;00m\n\u001b[0;32m----> 3\u001b[0m gapminder_europe \u001b[39m=\u001b[39m pd\u001b[39m.\u001b[39;49mread_csv(\u001b[39m'\u001b[39;49m\u001b[39mgapminder_gdp_europe.csv\u001b[39;49m\u001b[39m'\u001b[39;49m, index_col\u001b[39m=\u001b[39;49m\u001b[39m'\u001b[39;49m\u001b[39mcountry\u001b[39;49m\u001b[39m'\u001b[39;49m)\n",
      "File \u001b[0;32m~/mambaforge/envs/ncil/lib/python3.10/site-packages/pandas/io/parsers/readers.py:912\u001b[0m, in \u001b[0;36mread_csv\u001b[0;34m(filepath_or_buffer, sep, delimiter, header, names, index_col, usecols, dtype, engine, converters, true_values, false_values, skipinitialspace, skiprows, skipfooter, nrows, na_values, keep_default_na, na_filter, verbose, skip_blank_lines, parse_dates, infer_datetime_format, keep_date_col, date_parser, date_format, dayfirst, cache_dates, iterator, chunksize, compression, thousands, decimal, lineterminator, quotechar, quoting, doublequote, escapechar, comment, encoding, encoding_errors, dialect, on_bad_lines, delim_whitespace, low_memory, memory_map, float_precision, storage_options, dtype_backend)\u001b[0m\n\u001b[1;32m    899\u001b[0m kwds_defaults \u001b[39m=\u001b[39m _refine_defaults_read(\n\u001b[1;32m    900\u001b[0m     dialect,\n\u001b[1;32m    901\u001b[0m     delimiter,\n\u001b[0;32m   (...)\u001b[0m\n\u001b[1;32m    908\u001b[0m     dtype_backend\u001b[39m=\u001b[39mdtype_backend,\n\u001b[1;32m    909\u001b[0m )\n\u001b[1;32m    910\u001b[0m kwds\u001b[39m.\u001b[39mupdate(kwds_defaults)\n\u001b[0;32m--> 912\u001b[0m \u001b[39mreturn\u001b[39;00m _read(filepath_or_buffer, kwds)\n",
      "File \u001b[0;32m~/mambaforge/envs/ncil/lib/python3.10/site-packages/pandas/io/parsers/readers.py:577\u001b[0m, in \u001b[0;36m_read\u001b[0;34m(filepath_or_buffer, kwds)\u001b[0m\n\u001b[1;32m    574\u001b[0m _validate_names(kwds\u001b[39m.\u001b[39mget(\u001b[39m\"\u001b[39m\u001b[39mnames\u001b[39m\u001b[39m\"\u001b[39m, \u001b[39mNone\u001b[39;00m))\n\u001b[1;32m    576\u001b[0m \u001b[39m# Create the parser.\u001b[39;00m\n\u001b[0;32m--> 577\u001b[0m parser \u001b[39m=\u001b[39m TextFileReader(filepath_or_buffer, \u001b[39m*\u001b[39;49m\u001b[39m*\u001b[39;49mkwds)\n\u001b[1;32m    579\u001b[0m \u001b[39mif\u001b[39;00m chunksize \u001b[39mor\u001b[39;00m iterator:\n\u001b[1;32m    580\u001b[0m     \u001b[39mreturn\u001b[39;00m parser\n",
      "File \u001b[0;32m~/mambaforge/envs/ncil/lib/python3.10/site-packages/pandas/io/parsers/readers.py:1407\u001b[0m, in \u001b[0;36mTextFileReader.__init__\u001b[0;34m(self, f, engine, **kwds)\u001b[0m\n\u001b[1;32m   1404\u001b[0m     \u001b[39mself\u001b[39m\u001b[39m.\u001b[39moptions[\u001b[39m\"\u001b[39m\u001b[39mhas_index_names\u001b[39m\u001b[39m\"\u001b[39m] \u001b[39m=\u001b[39m kwds[\u001b[39m\"\u001b[39m\u001b[39mhas_index_names\u001b[39m\u001b[39m\"\u001b[39m]\n\u001b[1;32m   1406\u001b[0m \u001b[39mself\u001b[39m\u001b[39m.\u001b[39mhandles: IOHandles \u001b[39m|\u001b[39m \u001b[39mNone\u001b[39;00m \u001b[39m=\u001b[39m \u001b[39mNone\u001b[39;00m\n\u001b[0;32m-> 1407\u001b[0m \u001b[39mself\u001b[39m\u001b[39m.\u001b[39m_engine \u001b[39m=\u001b[39m \u001b[39mself\u001b[39;49m\u001b[39m.\u001b[39;49m_make_engine(f, \u001b[39mself\u001b[39;49m\u001b[39m.\u001b[39;49mengine)\n",
      "File \u001b[0;32m~/mambaforge/envs/ncil/lib/python3.10/site-packages/pandas/io/parsers/readers.py:1661\u001b[0m, in \u001b[0;36mTextFileReader._make_engine\u001b[0;34m(self, f, engine)\u001b[0m\n\u001b[1;32m   1659\u001b[0m     \u001b[39mif\u001b[39;00m \u001b[39m\"\u001b[39m\u001b[39mb\u001b[39m\u001b[39m\"\u001b[39m \u001b[39mnot\u001b[39;00m \u001b[39min\u001b[39;00m mode:\n\u001b[1;32m   1660\u001b[0m         mode \u001b[39m+\u001b[39m\u001b[39m=\u001b[39m \u001b[39m\"\u001b[39m\u001b[39mb\u001b[39m\u001b[39m\"\u001b[39m\n\u001b[0;32m-> 1661\u001b[0m \u001b[39mself\u001b[39m\u001b[39m.\u001b[39mhandles \u001b[39m=\u001b[39m get_handle(\n\u001b[1;32m   1662\u001b[0m     f,\n\u001b[1;32m   1663\u001b[0m     mode,\n\u001b[1;32m   1664\u001b[0m     encoding\u001b[39m=\u001b[39;49m\u001b[39mself\u001b[39;49m\u001b[39m.\u001b[39;49moptions\u001b[39m.\u001b[39;49mget(\u001b[39m\"\u001b[39;49m\u001b[39mencoding\u001b[39;49m\u001b[39m\"\u001b[39;49m, \u001b[39mNone\u001b[39;49;00m),\n\u001b[1;32m   1665\u001b[0m     compression\u001b[39m=\u001b[39;49m\u001b[39mself\u001b[39;49m\u001b[39m.\u001b[39;49moptions\u001b[39m.\u001b[39;49mget(\u001b[39m\"\u001b[39;49m\u001b[39mcompression\u001b[39;49m\u001b[39m\"\u001b[39;49m, \u001b[39mNone\u001b[39;49;00m),\n\u001b[1;32m   1666\u001b[0m     memory_map\u001b[39m=\u001b[39;49m\u001b[39mself\u001b[39;49m\u001b[39m.\u001b[39;49moptions\u001b[39m.\u001b[39;49mget(\u001b[39m\"\u001b[39;49m\u001b[39mmemory_map\u001b[39;49m\u001b[39m\"\u001b[39;49m, \u001b[39mFalse\u001b[39;49;00m),\n\u001b[1;32m   1667\u001b[0m     is_text\u001b[39m=\u001b[39;49mis_text,\n\u001b[1;32m   1668\u001b[0m     errors\u001b[39m=\u001b[39;49m\u001b[39mself\u001b[39;49m\u001b[39m.\u001b[39;49moptions\u001b[39m.\u001b[39;49mget(\u001b[39m\"\u001b[39;49m\u001b[39mencoding_errors\u001b[39;49m\u001b[39m\"\u001b[39;49m, \u001b[39m\"\u001b[39;49m\u001b[39mstrict\u001b[39;49m\u001b[39m\"\u001b[39;49m),\n\u001b[1;32m   1669\u001b[0m     storage_options\u001b[39m=\u001b[39;49m\u001b[39mself\u001b[39;49m\u001b[39m.\u001b[39;49moptions\u001b[39m.\u001b[39;49mget(\u001b[39m\"\u001b[39;49m\u001b[39mstorage_options\u001b[39;49m\u001b[39m\"\u001b[39;49m, \u001b[39mNone\u001b[39;49;00m),\n\u001b[1;32m   1670\u001b[0m )\n\u001b[1;32m   1671\u001b[0m \u001b[39massert\u001b[39;00m \u001b[39mself\u001b[39m\u001b[39m.\u001b[39mhandles \u001b[39mis\u001b[39;00m \u001b[39mnot\u001b[39;00m \u001b[39mNone\u001b[39;00m\n\u001b[1;32m   1672\u001b[0m f \u001b[39m=\u001b[39m \u001b[39mself\u001b[39m\u001b[39m.\u001b[39mhandles\u001b[39m.\u001b[39mhandle\n",
      "File \u001b[0;32m~/mambaforge/envs/ncil/lib/python3.10/site-packages/pandas/io/common.py:859\u001b[0m, in \u001b[0;36mget_handle\u001b[0;34m(path_or_buf, mode, encoding, compression, memory_map, is_text, errors, storage_options)\u001b[0m\n\u001b[1;32m    854\u001b[0m \u001b[39melif\u001b[39;00m \u001b[39misinstance\u001b[39m(handle, \u001b[39mstr\u001b[39m):\n\u001b[1;32m    855\u001b[0m     \u001b[39m# Check whether the filename is to be opened in binary mode.\u001b[39;00m\n\u001b[1;32m    856\u001b[0m     \u001b[39m# Binary mode does not support 'encoding' and 'newline'.\u001b[39;00m\n\u001b[1;32m    857\u001b[0m     \u001b[39mif\u001b[39;00m ioargs\u001b[39m.\u001b[39mencoding \u001b[39mand\u001b[39;00m \u001b[39m\"\u001b[39m\u001b[39mb\u001b[39m\u001b[39m\"\u001b[39m \u001b[39mnot\u001b[39;00m \u001b[39min\u001b[39;00m ioargs\u001b[39m.\u001b[39mmode:\n\u001b[1;32m    858\u001b[0m         \u001b[39m# Encoding\u001b[39;00m\n\u001b[0;32m--> 859\u001b[0m         handle \u001b[39m=\u001b[39m \u001b[39mopen\u001b[39;49m(\n\u001b[1;32m    860\u001b[0m             handle,\n\u001b[1;32m    861\u001b[0m             ioargs\u001b[39m.\u001b[39;49mmode,\n\u001b[1;32m    862\u001b[0m             encoding\u001b[39m=\u001b[39;49mioargs\u001b[39m.\u001b[39;49mencoding,\n\u001b[1;32m    863\u001b[0m             errors\u001b[39m=\u001b[39;49merrors,\n\u001b[1;32m    864\u001b[0m             newline\u001b[39m=\u001b[39;49m\u001b[39m\"\u001b[39;49m\u001b[39m\"\u001b[39;49m,\n\u001b[1;32m    865\u001b[0m         )\n\u001b[1;32m    866\u001b[0m     \u001b[39melse\u001b[39;00m:\n\u001b[1;32m    867\u001b[0m         \u001b[39m# Binary mode\u001b[39;00m\n\u001b[1;32m    868\u001b[0m         handle \u001b[39m=\u001b[39m \u001b[39mopen\u001b[39m(handle, ioargs\u001b[39m.\u001b[39mmode)\n",
      "\u001b[0;31mFileNotFoundError\u001b[0m: [Errno 2] No such file or directory: 'gapminder_gdp_europe.csv'"
     ]
    }
   ],
   "source": [
    "# import the pandas library as pd and then read the gapminder data file for Europe\n",
    "import pandas as pd\n",
    "gapminder_europe = pd.read_csv('gapminder_gdp_europe.csv', index_col='country')"
   ]
  },
  {
   "cell_type": "markdown",
   "metadata": {},
   "source": [
    "More scary error messages! This time, the last line is the most informative. It's telling us that it can't find the file we asked it to read. That's because we haven't told it where to look for the file. When we just list the name of a file, `pd.read_csv()` assumes that the file is in the same directory as the notebook. But in this case, the file is in a subdirectory called `data`. So let's add that to our prompt, and see what happens."
   ]
  },
  {
   "cell_type": "code",
   "execution_count": 8,
   "metadata": {},
   "outputs": [],
   "source": [
    "# import the pandas library as pd and then read the gapminder data file for Europe. \n",
    "# The file is in a subfolder called data\n",
    "import pandas as pd\n",
    "gapminder_europe = pd.read_csv('data/gapminder_gdp_europe.csv', index_col='country')"
   ]
  },
  {
   "cell_type": "markdown",
   "metadata": {},
   "source": [
    ":::{tip}\n",
    "In many cases, Copilot might not have enough information to correctly guess the name of a file you want to load. In such cases, you could include the name of the file, as well as its path, in your prompt.\n",
    ":::"
   ]
  },
  {
   "cell_type": "markdown",
   "metadata": {},
   "source": [
    "Now we're getting somewhere! Let's view the first few lines of the `DataFrame` to make sure it looks right. "
   ]
  },
  {
   "cell_type": "code",
   "execution_count": 10,
   "metadata": {},
   "outputs": [
    {
     "name": "stdout",
     "output_type": "stream",
     "text": [
      "                        gdpPercap_1952  gdpPercap_1957  gdpPercap_1962  \\\n",
      "country                                                                  \n",
      "Albania                    1601.056136     1942.284244     2312.888958   \n",
      "Austria                    6137.076492     8842.598030    10750.721110   \n",
      "Belgium                    8343.105127     9714.960623    10991.206760   \n",
      "Bosnia and Herzegovina      973.533195     1353.989176     1709.683679   \n",
      "Bulgaria                   2444.286648     3008.670727     4254.337839   \n",
      "\n",
      "                        gdpPercap_1967  gdpPercap_1972  gdpPercap_1977  \\\n",
      "country                                                                  \n",
      "Albania                    2760.196931     3313.422188     3533.003910   \n",
      "Austria                   12834.602400    16661.625600    19749.422300   \n",
      "Belgium                   13149.041190    16672.143560    19117.974480   \n",
      "Bosnia and Herzegovina     2172.352423     2860.169750     3528.481305   \n",
      "Bulgaria                   5577.002800     6597.494398     7612.240438   \n",
      "\n",
      "                        gdpPercap_1982  gdpPercap_1987  gdpPercap_1992  \\\n",
      "country                                                                  \n",
      "Albania                    3630.880722     3738.932735     2497.437901   \n",
      "Austria                   21597.083620    23687.826070    27042.018680   \n",
      "Belgium                   20979.845890    22525.563080    25575.570690   \n",
      "Bosnia and Herzegovina     4126.613157     4314.114757     2546.781445   \n",
      "Bulgaria                   8224.191647     8239.854824     6302.623438   \n",
      "\n",
      "                        gdpPercap_1997  gdpPercap_2002  gdpPercap_2007  \n",
      "country                                                                 \n",
      "Albania                    3193.054604     4604.211737     5937.029526  \n",
      "Austria                   29095.920660    32417.607690    36126.492700  \n",
      "Belgium                   27561.196630    30485.883750    33692.605080  \n",
      "Bosnia and Herzegovina     4766.355904     6018.975239     7446.298803  \n",
      "Bulgaria                   5970.388760     7696.777725    10680.792820  \n"
     ]
    }
   ],
   "source": [
    "# show me the first few lines of the gapminder europe data\n",
    "print(gapminder_europe.head())"
   ]
  },
  {
   "cell_type": "markdown",
   "metadata": {},
   "source": [
    " Again, we used a pretty minimal prompt to get the output. That is, we didn't need to use the exact name of the `DataFrame` (`gapminder_europe`), nor the exact name of the method (`head()`). \n",
    "\n",
    "The code that we got in developing this lesson was `print(gapminder_europe.head())`. However, the output of passing a `DataFrame` to `print()` is not formatted as nicely as if we ask the `DataFrame` to print itself. So let's try modifying our prompt to get nicely formatted output:"
   ]
  },
  {
   "cell_type": "code",
   "execution_count": null,
   "metadata": {},
   "outputs": [
    {
     "name": "stdout",
     "output_type": "stream",
     "text": [
      "                        gdpPercap_1952  gdpPercap_1957  gdpPercap_1962  gdpPercap_1967  gdpPercap_1972  gdpPercap_1977  gdpPercap_1982  gdpPercap_1987  gdpPercap_1992  gdpPercap_1997  gdpPercap_2002  gdpPercap_2007\n",
      "country                                                                                                                                                                                                               \n",
      "Albania                    1601.056136     1942.284244     2312.888958     2760.196931     3313.422188     3533.003910     3630.880722     3738.932735     2497.437901     3193.054604     4604.211737     5937.029526\n",
      "Austria                    6137.076492     8842.598030    10750.721110    12834.602400    16661.625600    19749.422300    21597.083620    23687.826070    27042.018680    29095.920660    32417.607690    36126.492700\n",
      "Belgium                    8343.105127     9714.960623    10991.206760    13149.041190    16672.143560    19117.974480    20979.845890    22525.563080    25575.570690    27561.196630    30485.883750    33692.605080\n",
      "Bosnia and Herzegovina      973.533195     1353.989176     1709.683679     2172.352423     2860.169750     3528.481305     4126.613157     4314.114757     2546.781445     4766.355904     6018.975239     7446.298803\n",
      "Bulgaria                   2444.286648     3008.670727     4254.337839     5577.002800     6597.494398     7612.240438     8224.191647     8239.854824     6302.623438     5970.388760     7696.777725    10680.792820\n"
     ]
    }
   ],
   "source": [
    "# show me the first few lines of the gapminder europe data\n",
    "# format the table nicely\n",
    "print(gapminder_europe.head().to_string())"
   ]
  },
  {
   "cell_type": "markdown",
   "metadata": {},
   "source": [
    "Still not what we wanted (athough at least each row in the DataFrame is now one row in the output) — and Copilot didn't have any alternative suggestions. This is where prompt engineering becomes important. Let's try a different prompt."
   ]
  },
  {
   "cell_type": "code",
   "execution_count": null,
   "metadata": {},
   "outputs": [
    {
     "data": {
      "text/html": [
       "<div>\n",
       "<style scoped>\n",
       "    .dataframe tbody tr th:only-of-type {\n",
       "        vertical-align: middle;\n",
       "    }\n",
       "\n",
       "    .dataframe tbody tr th {\n",
       "        vertical-align: top;\n",
       "    }\n",
       "\n",
       "    .dataframe thead th {\n",
       "        text-align: right;\n",
       "    }\n",
       "</style>\n",
       "<table border=\"1\" class=\"dataframe\">\n",
       "  <thead>\n",
       "    <tr style=\"text-align: right;\">\n",
       "      <th></th>\n",
       "      <th>gdpPercap_1952</th>\n",
       "      <th>gdpPercap_1957</th>\n",
       "      <th>gdpPercap_1962</th>\n",
       "      <th>gdpPercap_1967</th>\n",
       "      <th>gdpPercap_1972</th>\n",
       "      <th>gdpPercap_1977</th>\n",
       "      <th>gdpPercap_1982</th>\n",
       "      <th>gdpPercap_1987</th>\n",
       "      <th>gdpPercap_1992</th>\n",
       "      <th>gdpPercap_1997</th>\n",
       "      <th>gdpPercap_2002</th>\n",
       "      <th>gdpPercap_2007</th>\n",
       "    </tr>\n",
       "    <tr>\n",
       "      <th>country</th>\n",
       "      <th></th>\n",
       "      <th></th>\n",
       "      <th></th>\n",
       "      <th></th>\n",
       "      <th></th>\n",
       "      <th></th>\n",
       "      <th></th>\n",
       "      <th></th>\n",
       "      <th></th>\n",
       "      <th></th>\n",
       "      <th></th>\n",
       "      <th></th>\n",
       "    </tr>\n",
       "  </thead>\n",
       "  <tbody>\n",
       "    <tr>\n",
       "      <th>Albania</th>\n",
       "      <td>1601.056136</td>\n",
       "      <td>1942.284244</td>\n",
       "      <td>2312.888958</td>\n",
       "      <td>2760.196931</td>\n",
       "      <td>3313.422188</td>\n",
       "      <td>3533.003910</td>\n",
       "      <td>3630.880722</td>\n",
       "      <td>3738.932735</td>\n",
       "      <td>2497.437901</td>\n",
       "      <td>3193.054604</td>\n",
       "      <td>4604.211737</td>\n",
       "      <td>5937.029526</td>\n",
       "    </tr>\n",
       "    <tr>\n",
       "      <th>Austria</th>\n",
       "      <td>6137.076492</td>\n",
       "      <td>8842.598030</td>\n",
       "      <td>10750.721110</td>\n",
       "      <td>12834.602400</td>\n",
       "      <td>16661.625600</td>\n",
       "      <td>19749.422300</td>\n",
       "      <td>21597.083620</td>\n",
       "      <td>23687.826070</td>\n",
       "      <td>27042.018680</td>\n",
       "      <td>29095.920660</td>\n",
       "      <td>32417.607690</td>\n",
       "      <td>36126.492700</td>\n",
       "    </tr>\n",
       "    <tr>\n",
       "      <th>Belgium</th>\n",
       "      <td>8343.105127</td>\n",
       "      <td>9714.960623</td>\n",
       "      <td>10991.206760</td>\n",
       "      <td>13149.041190</td>\n",
       "      <td>16672.143560</td>\n",
       "      <td>19117.974480</td>\n",
       "      <td>20979.845890</td>\n",
       "      <td>22525.563080</td>\n",
       "      <td>25575.570690</td>\n",
       "      <td>27561.196630</td>\n",
       "      <td>30485.883750</td>\n",
       "      <td>33692.605080</td>\n",
       "    </tr>\n",
       "    <tr>\n",
       "      <th>Bosnia and Herzegovina</th>\n",
       "      <td>973.533195</td>\n",
       "      <td>1353.989176</td>\n",
       "      <td>1709.683679</td>\n",
       "      <td>2172.352423</td>\n",
       "      <td>2860.169750</td>\n",
       "      <td>3528.481305</td>\n",
       "      <td>4126.613157</td>\n",
       "      <td>4314.114757</td>\n",
       "      <td>2546.781445</td>\n",
       "      <td>4766.355904</td>\n",
       "      <td>6018.975239</td>\n",
       "      <td>7446.298803</td>\n",
       "    </tr>\n",
       "    <tr>\n",
       "      <th>Bulgaria</th>\n",
       "      <td>2444.286648</td>\n",
       "      <td>3008.670727</td>\n",
       "      <td>4254.337839</td>\n",
       "      <td>5577.002800</td>\n",
       "      <td>6597.494398</td>\n",
       "      <td>7612.240438</td>\n",
       "      <td>8224.191647</td>\n",
       "      <td>8239.854824</td>\n",
       "      <td>6302.623438</td>\n",
       "      <td>5970.388760</td>\n",
       "      <td>7696.777725</td>\n",
       "      <td>10680.792820</td>\n",
       "    </tr>\n",
       "  </tbody>\n",
       "</table>\n",
       "</div>"
      ],
      "text/plain": [
       "                        gdpPercap_1952  gdpPercap_1957  gdpPercap_1962  \\\n",
       "country                                                                  \n",
       "Albania                    1601.056136     1942.284244     2312.888958   \n",
       "Austria                    6137.076492     8842.598030    10750.721110   \n",
       "Belgium                    8343.105127     9714.960623    10991.206760   \n",
       "Bosnia and Herzegovina      973.533195     1353.989176     1709.683679   \n",
       "Bulgaria                   2444.286648     3008.670727     4254.337839   \n",
       "\n",
       "                        gdpPercap_1967  gdpPercap_1972  gdpPercap_1977  \\\n",
       "country                                                                  \n",
       "Albania                    2760.196931     3313.422188     3533.003910   \n",
       "Austria                   12834.602400    16661.625600    19749.422300   \n",
       "Belgium                   13149.041190    16672.143560    19117.974480   \n",
       "Bosnia and Herzegovina     2172.352423     2860.169750     3528.481305   \n",
       "Bulgaria                   5577.002800     6597.494398     7612.240438   \n",
       "\n",
       "                        gdpPercap_1982  gdpPercap_1987  gdpPercap_1992  \\\n",
       "country                                                                  \n",
       "Albania                    3630.880722     3738.932735     2497.437901   \n",
       "Austria                   21597.083620    23687.826070    27042.018680   \n",
       "Belgium                   20979.845890    22525.563080    25575.570690   \n",
       "Bosnia and Herzegovina     4126.613157     4314.114757     2546.781445   \n",
       "Bulgaria                   8224.191647     8239.854824     6302.623438   \n",
       "\n",
       "                        gdpPercap_1997  gdpPercap_2002  gdpPercap_2007  \n",
       "country                                                                 \n",
       "Albania                    3193.054604     4604.211737     5937.029526  \n",
       "Austria                   29095.920660    32417.607690    36126.492700  \n",
       "Belgium                   27561.196630    30485.883750    33692.605080  \n",
       "Bosnia and Herzegovina     4766.355904     6018.975239     7446.298803  \n",
       "Bulgaria                   5970.388760     7696.777725    10680.792820  "
      ]
     },
     "metadata": {},
     "output_type": "display_data"
    }
   ],
   "source": [
    "# show me the first few lines of the gapminder europe data\n",
    "# the output should be a table\n",
    "gapminder_europe.head()"
   ]
  },
  {
   "cell_type": "markdown",
   "metadata": {},
   "source": [
    "That did it! We just needed to be a bit more specific about what we wanted to do, by asking for the output as a table. \n",
    "\n",
    "It's worth noting that others working through this lesson got `gapminder_europe.head()` to the original prompt above, but we kept this series of outputs to illustrate how the wording of the prompt can affect the results."
   ]
  },
  {
   "cell_type": "markdown",
   "metadata": {},
   "source": [
    "## Split-Apply-Combine\n",
    "\n",
    "In the previous chapter, we learned about the [split-apply-combine](https://neuraldatascience.io/3-python/pandas_dataframes.html#split-apply-combine) strategy for data analysis. That's when we split the data into different groups (e.g., according to a particular variable), apply an operation to each group separately, and then combine the results back into a single table. Let's try that again, but this time we'll use Copilot to help us.\n",
    "\n",
    "Let's replicate the split-apply-combine analysis we did in the previous chapter, where we calculate the average GDP per capita for each of four regions in Europe: Northern Europe, Southern Europe, Eastern Europe, and Western Europe. We'll start with a very high-level prompt, and see if we get what we want. \n",
    "\n",
    "Note that in the code cell below, I only typed the first three-line prompt. Copilot generated the rest of the code, including a series of prompts (comments) to help me fill in the details. In order to get it to generate additional prompts and code, I had to hit enter twice after the first prompt. Apparently Copilot is insistent that your code be nicely formatted, with empty lines between different sections of code that do different steps. This is a good thing, but if you forget to hit `Enter` twice, you may get nothing an think Copilot isn't working. Just hit `Enter` twice, and you should get the prompts you need. Otherwise, try going back to the end of your prompt and hitting `Enter` again."
   ]
  },
  {
   "cell_type": "code",
   "execution_count": null,
   "metadata": {},
   "outputs": [
    {
     "ename": "KeyError",
     "evalue": "'group'",
     "output_type": "error",
     "traceback": [
      "\u001b[0;31m---------------------------------------------------------------------------\u001b[0m\n",
      "\u001b[0;31mKeyError\u001b[0m                                  Traceback (most recent call last)\n",
      "Cell \u001b[0;32mIn[21], line 7\u001b[0m\n",
      "\u001b[1;32m      1\u001b[0m \u001b[39m# use split-apply-combine to calculate the average gdp per capita \u001b[39;00m\n",
      "\u001b[1;32m      2\u001b[0m \u001b[39m# for each of four regions in Europe: Northern Europe, Southern Europe, \u001b[39;00m\n",
      "\u001b[1;32m      3\u001b[0m \u001b[39m# Eastern Europe, and Western Europe\u001b[39;00m\n",
      "\u001b[1;32m      4\u001b[0m \n",
      "\u001b[1;32m      5\u001b[0m \u001b[39m# split the data into four regions\u001b[39;00m\n",
      "\u001b[1;32m      6\u001b[0m regions \u001b[39m=\u001b[39m [\u001b[39m'\u001b[39m\u001b[39mNorthern Europe\u001b[39m\u001b[39m'\u001b[39m, \u001b[39m'\u001b[39m\u001b[39mSouthern Europe\u001b[39m\u001b[39m'\u001b[39m, \u001b[39m'\u001b[39m\u001b[39mEastern Europe\u001b[39m\u001b[39m'\u001b[39m, \u001b[39m'\u001b[39m\u001b[39mWestern Europe\u001b[39m\u001b[39m'\u001b[39m]\n",
      "\u001b[0;32m----> 7\u001b[0m grouped \u001b[39m=\u001b[39m gapminder_europe\u001b[39m.\u001b[39;49mgroupby([\u001b[39m'\u001b[39;49m\u001b[39mgroup\u001b[39;49m\u001b[39m'\u001b[39;49m, \u001b[39m'\u001b[39;49m\u001b[39myear\u001b[39;49m\u001b[39m'\u001b[39;49m])\n",
      "\u001b[1;32m      9\u001b[0m \u001b[39m# apply the mean function to calculate the average gdp per capita for each region\u001b[39;00m\n",
      "\u001b[1;32m     10\u001b[0m gdp_per_capita \u001b[39m=\u001b[39m grouped[\u001b[39m'\u001b[39m\u001b[39mgdpPercap\u001b[39m\u001b[39m'\u001b[39m]\u001b[39m.\u001b[39mmean()\n",
      "\n",
      "File \u001b[0;32m~/mambaforge/envs/ncil/lib/python3.10/site-packages/pandas/core/frame.py:8252\u001b[0m, in \u001b[0;36mDataFrame.groupby\u001b[0;34m(self, by, axis, level, as_index, sort, group_keys, observed, dropna)\u001b[0m\n",
      "\u001b[1;32m   8249\u001b[0m     \u001b[39mraise\u001b[39;00m \u001b[39mTypeError\u001b[39;00m(\u001b[39m\"\u001b[39m\u001b[39mYou have to supply one of \u001b[39m\u001b[39m'\u001b[39m\u001b[39mby\u001b[39m\u001b[39m'\u001b[39m\u001b[39m and \u001b[39m\u001b[39m'\u001b[39m\u001b[39mlevel\u001b[39m\u001b[39m'\u001b[39m\u001b[39m\"\u001b[39m)\n",
      "\u001b[1;32m   8250\u001b[0m axis \u001b[39m=\u001b[39m \u001b[39mself\u001b[39m\u001b[39m.\u001b[39m_get_axis_number(axis)\n",
      "\u001b[0;32m-> 8252\u001b[0m \u001b[39mreturn\u001b[39;00m DataFrameGroupBy(\n",
      "\u001b[1;32m   8253\u001b[0m     obj\u001b[39m=\u001b[39;49m\u001b[39mself\u001b[39;49m,\n",
      "\u001b[1;32m   8254\u001b[0m     keys\u001b[39m=\u001b[39;49mby,\n",
      "\u001b[1;32m   8255\u001b[0m     axis\u001b[39m=\u001b[39;49maxis,\n",
      "\u001b[1;32m   8256\u001b[0m     level\u001b[39m=\u001b[39;49mlevel,\n",
      "\u001b[1;32m   8257\u001b[0m     as_index\u001b[39m=\u001b[39;49mas_index,\n",
      "\u001b[1;32m   8258\u001b[0m     sort\u001b[39m=\u001b[39;49msort,\n",
      "\u001b[1;32m   8259\u001b[0m     group_keys\u001b[39m=\u001b[39;49mgroup_keys,\n",
      "\u001b[1;32m   8260\u001b[0m     observed\u001b[39m=\u001b[39;49mobserved,\n",
      "\u001b[1;32m   8261\u001b[0m     dropna\u001b[39m=\u001b[39;49mdropna,\n",
      "\u001b[1;32m   8262\u001b[0m )\n",
      "\n",
      "File \u001b[0;32m~/mambaforge/envs/ncil/lib/python3.10/site-packages/pandas/core/groupby/groupby.py:931\u001b[0m, in \u001b[0;36mGroupBy.__init__\u001b[0;34m(self, obj, keys, axis, level, grouper, exclusions, selection, as_index, sort, group_keys, observed, dropna)\u001b[0m\n",
      "\u001b[1;32m    928\u001b[0m \u001b[39mself\u001b[39m\u001b[39m.\u001b[39mdropna \u001b[39m=\u001b[39m dropna\n",
      "\u001b[1;32m    930\u001b[0m \u001b[39mif\u001b[39;00m grouper \u001b[39mis\u001b[39;00m \u001b[39mNone\u001b[39;00m:\n",
      "\u001b[0;32m--> 931\u001b[0m     grouper, exclusions, obj \u001b[39m=\u001b[39m get_grouper(\n",
      "\u001b[1;32m    932\u001b[0m         obj,\n",
      "\u001b[1;32m    933\u001b[0m         keys,\n",
      "\u001b[1;32m    934\u001b[0m         axis\u001b[39m=\u001b[39;49maxis,\n",
      "\u001b[1;32m    935\u001b[0m         level\u001b[39m=\u001b[39;49mlevel,\n",
      "\u001b[1;32m    936\u001b[0m         sort\u001b[39m=\u001b[39;49msort,\n",
      "\u001b[1;32m    937\u001b[0m         observed\u001b[39m=\u001b[39;49mobserved,\n",
      "\u001b[1;32m    938\u001b[0m         dropna\u001b[39m=\u001b[39;49m\u001b[39mself\u001b[39;49m\u001b[39m.\u001b[39;49mdropna,\n",
      "\u001b[1;32m    939\u001b[0m     )\n",
      "\u001b[1;32m    941\u001b[0m \u001b[39mself\u001b[39m\u001b[39m.\u001b[39mobj \u001b[39m=\u001b[39m obj\n",
      "\u001b[1;32m    942\u001b[0m \u001b[39mself\u001b[39m\u001b[39m.\u001b[39maxis \u001b[39m=\u001b[39m obj\u001b[39m.\u001b[39m_get_axis_number(axis)\n",
      "\n",
      "File \u001b[0;32m~/mambaforge/envs/ncil/lib/python3.10/site-packages/pandas/core/groupby/grouper.py:985\u001b[0m, in \u001b[0;36mget_grouper\u001b[0;34m(obj, key, axis, level, sort, observed, validate, dropna)\u001b[0m\n",
      "\u001b[1;32m    983\u001b[0m         in_axis, level, gpr \u001b[39m=\u001b[39m \u001b[39mFalse\u001b[39;00m, gpr, \u001b[39mNone\u001b[39;00m\n",
      "\u001b[1;32m    984\u001b[0m     \u001b[39melse\u001b[39;00m:\n",
      "\u001b[0;32m--> 985\u001b[0m         \u001b[39mraise\u001b[39;00m \u001b[39mKeyError\u001b[39;00m(gpr)\n",
      "\u001b[1;32m    986\u001b[0m \u001b[39melif\u001b[39;00m \u001b[39misinstance\u001b[39m(gpr, Grouper) \u001b[39mand\u001b[39;00m gpr\u001b[39m.\u001b[39mkey \u001b[39mis\u001b[39;00m \u001b[39mnot\u001b[39;00m \u001b[39mNone\u001b[39;00m:\n",
      "\u001b[1;32m    987\u001b[0m     \u001b[39m# Add key to exclusions\u001b[39;00m\n",
      "\u001b[1;32m    988\u001b[0m     exclusions\u001b[39m.\u001b[39madd(gpr\u001b[39m.\u001b[39mkey)\n",
      "\n",
      "\u001b[0;31mKeyError\u001b[0m: 'group'"
     ]
    }
   ],
   "source": [
    "# use split-apply-combine to calculate the average gdp per capita \n",
    "# for each of four regions in Europe: Northern Europe, Southern Europe, \n",
    "# Eastern Europe, and Western Europe\n",
    "\n",
    "# split the data into four regions\n",
    "regions = ['Northern Europe', 'Southern Europe', 'Eastern Europe', 'Western Europe']\n",
    "grouped = gapminder_europe.groupby(['group', 'year'])\n",
    "\n",
    "# apply the mean function to calculate the average gdp per capita for each region\n",
    "gdp_per_capita = grouped['gdpPercap'].mean()\n",
    "\n",
    "# combine the results into a new table\n",
    "gdp_per_capita.head()"
   ]
  },
  {
   "cell_type": "markdown",
   "metadata": {},
   "source": [
    "## Prompt Engineering — Writing Better Prompts\n",
    "\n",
    "Can you figure out why this error happened? Ideally, you should be able to do this by re-reading the code the Copilot generated. But, the error message also provides guidance, because it tells us there is an error on line 7 (this information is near the top of the error message), and the error is `KeyError: 'group'`. That means that `gapminder_europe` doesn't have a column named `group`. Indeed, if we look at line 7 we see it's attempting to group the data by two columns, `year` and `group`. But `gapminder_europe` doesn't have a column named `group`, which is why we got an error. \n",
    "\n",
    "There are actually a few problems with this code. Not only does `group` not exist as a column, but it's not a great name for a column, because the column should indicate region of Europe. So a better name would be `region`. Another issue is that the `.groupby()` method was given another variable, `year`. But our instructions didn't say anything about year, so we don't want to group by year. We just want to group by region. \n",
    "\n",
    "Let's try fix those issues through better **prompt engineering**. One thing you'll encounter frequently is that you give Copilot too big a job, and doing what you're asking will require a number of intermediate steps. Copilot isn't great about long-term planning. Remember that LLMs are just advanced versions of the same kind of language model that suggests words when you're typing on your phone. It's often good at predicting the next word you want to type, but if you keep just picking the \"best\" suggestion, you will get a sentence of gibberish more times than not. The same is true with Copilot. If you give it a big job, it will often generate code that doesn't work, because it's trying to do too much at once.\n",
    "\n",
    "So you need to break the job down into smaller steps. In this case, we're doing split-apply-combine, so let's try writing our own prompts for each of those conceptual steps. So let's start with the first step, 'split', and see if we can get Copilot to generate the code to group the data by region."
   ]
  },
  {
   "cell_type": "code",
   "execution_count": null,
   "metadata": {},
   "outputs": [],
   "source": [
    "# create a new column in the gapminder_europe data frame called 'region'. \n",
    "# Label each country as belonging to 'Northern Europe', 'Southern Europe',\n",
    "# 'Eastern Europe', or 'Western Europe'\n",
    "\n",
    "# create a new column in the gapminder_europe data frame called 'region'.\n",
    "# Label each country as belonging to 'Northern Europe', 'Southern Europe',  \n",
    "# 'Eastern Europe', or 'Western Europe'\n",
    "gapminder_europe['region'] = 'Western Europe'"
   ]
  },
  {
   "cell_type": "markdown",
   "metadata": {},
   "source": [
    "AI may be seeming less magical now. Firstly, it repeated the entire prompt before generating any code. Secondly, it has labelled every country as `Western Europe`, which is wrong. In the previous chapter, we had to manually create lists for each region label, containing the names of each country in that region. We could do that here to help Copilot along, but hopefully AI is smart enough to know what geographical region each European country is in. This is a reasonable prediction in this case, especially because the open-source Gapminder dataset is widely used in teaching data science, so there should be many versions of this specific example in Copilot's training set. We just need to figure out how to get our prompting right.\n"
   ]
  },
  {
   "cell_type": "markdown",
   "metadata": {},
   "source": [
    "\n",
    "## Break the Problem Down into Smaller Steps\n",
    "\n",
    "Although our prompt may be readily interpretable by a human brain, in terms of communicating what we want, apparently it's too complex for Copilot's AI. If we think about the task we're asking Copilot to do, there are several sub-tasks. That is, in one prompt we're asking Copilot to create four different lists. What if, instead, we ask for one list at a time? \n",
    "\n",
    "It turns out that if we start with the prompt:\n",
    "```python\n",
    "# create a list of the countries in Northern Europe\n",
    "```\n",
    "\n",
    "Copilot will generate the code to create a list of the countries in Northern Europe. \n",
    "\n",
    "```python\n",
    "northern_europe = ['Denmark', 'Finland', 'Iceland', 'Norway', 'Sweden']\n",
    "```\n",
    "\n",
    "That's a good start. But we need to do this for each region. So if we hit `Enter` a couple of times to get a blank line, and then type the prompt:\n",
    "```python\n",
    "# create a list of the countries in \n",
    "```\n",
    "Copilot is smart enough to complete this prompt with `Southern Europe`, and generate the code to create a list of the countries in Southern Europe. \n",
    "\n",
    "Even better, if we accept that code and hit `Enter` two more times, Copilot will actually generate the complete next prompt for us:\n",
    "```python\n",
    "# create a list of the countries in Eastern Europe\n",
    "```\n",
    "\n",
    "And if we accept that one, it generates the code for us, *and* generates the next prompt:\n",
    "```python\n",
    "# create a list of the countries in Western Europe\n",
    "```\n",
    "\n",
    "Once we accept that last prompt, and the code it generates, and again hit `Enter` twice, Copilot really shines. It generates the same prompts we saw above, and the code to create a new column called `region`, and then starts by labelling all countries as `Western Europe`. It generated this code earlier, but it didn't work because we hadn't first used the right prompts to get the four lists of countries in each region. Copilot then goes on to generate code to change the region labels for each country, based on the lists we created above. \n",
    "\n",
    "However, when we try to run this code, we get an error:"
   ]
  },
  {
   "cell_type": "code",
   "execution_count": null,
   "metadata": {},
   "outputs": [
    {
     "ename": "KeyError",
     "evalue": "\"['Malta'] not in index\"",
     "output_type": "error",
     "traceback": [
      "\u001b[0;31m---------------------------------------------------------------------------\u001b[0m\n",
      "\u001b[0;31mKeyError\u001b[0m                                  Traceback (most recent call last)\n",
      "Cell \u001b[0;32mIn[7], line 22\u001b[0m\n",
      "\u001b[1;32m     19\u001b[0m gapminder_europe\u001b[39m.\u001b[39mloc[northern_europe, \u001b[39m'\u001b[39m\u001b[39mregion\u001b[39m\u001b[39m'\u001b[39m] \u001b[39m=\u001b[39m \u001b[39m'\u001b[39m\u001b[39mNorthern Europe\u001b[39m\u001b[39m'\u001b[39m\n",
      "\u001b[1;32m     21\u001b[0m \u001b[39m# label the countries in Southern Europe as 'Southern Europe'\u001b[39;00m\n",
      "\u001b[0;32m---> 22\u001b[0m gapminder_europe\u001b[39m.\u001b[39;49mloc[southern_europe, \u001b[39m'\u001b[39;49m\u001b[39mregion\u001b[39;49m\u001b[39m'\u001b[39;49m] \u001b[39m=\u001b[39m \u001b[39m'\u001b[39m\u001b[39mSouthern Europe\u001b[39m\u001b[39m'\u001b[39m\n",
      "\u001b[1;32m     24\u001b[0m \u001b[39m# label the countries in Eastern Europe as 'Eastern Europe'\u001b[39;00m\n",
      "\u001b[1;32m     25\u001b[0m gapminder_europe\u001b[39m.\u001b[39mloc[eastern_europe, \u001b[39m'\u001b[39m\u001b[39mregion\u001b[39m\u001b[39m'\u001b[39m] \u001b[39m=\u001b[39m \u001b[39m'\u001b[39m\u001b[39mEastern Europe\u001b[39m\u001b[39m'\u001b[39m\n",
      "\n",
      "File \u001b[0;32m~/mambaforge/envs/ncil/lib/python3.10/site-packages/pandas/core/indexing.py:845\u001b[0m, in \u001b[0;36m_LocationIndexer.__setitem__\u001b[0;34m(self, key, value)\u001b[0m\n",
      "\u001b[1;32m    843\u001b[0m \u001b[39melse\u001b[39;00m:\n",
      "\u001b[1;32m    844\u001b[0m     key \u001b[39m=\u001b[39m com\u001b[39m.\u001b[39mapply_if_callable(key, \u001b[39mself\u001b[39m\u001b[39m.\u001b[39mobj)\n",
      "\u001b[0;32m--> 845\u001b[0m indexer \u001b[39m=\u001b[39m \u001b[39mself\u001b[39;49m\u001b[39m.\u001b[39;49m_get_setitem_indexer(key)\n",
      "\u001b[1;32m    846\u001b[0m \u001b[39mself\u001b[39m\u001b[39m.\u001b[39m_has_valid_setitem_indexer(key)\n",
      "\u001b[1;32m    848\u001b[0m iloc \u001b[39m=\u001b[39m \u001b[39mself\u001b[39m \u001b[39mif\u001b[39;00m \u001b[39mself\u001b[39m\u001b[39m.\u001b[39mname \u001b[39m==\u001b[39m \u001b[39m\"\u001b[39m\u001b[39miloc\u001b[39m\u001b[39m\"\u001b[39m \u001b[39melse\u001b[39;00m \u001b[39mself\u001b[39m\u001b[39m.\u001b[39mobj\u001b[39m.\u001b[39miloc\n",
      "\n",
      "File \u001b[0;32m~/mambaforge/envs/ncil/lib/python3.10/site-packages/pandas/core/indexing.py:710\u001b[0m, in \u001b[0;36m_LocationIndexer._get_setitem_indexer\u001b[0;34m(self, key)\u001b[0m\n",
      "\u001b[1;32m    707\u001b[0m \u001b[39mif\u001b[39;00m \u001b[39misinstance\u001b[39m(key, \u001b[39mtuple\u001b[39m):\n",
      "\u001b[1;32m    708\u001b[0m     \u001b[39mwith\u001b[39;00m suppress(IndexingError):\n",
      "\u001b[1;32m    709\u001b[0m         \u001b[39m# suppress \"Too many indexers\"\u001b[39;00m\n",
      "\u001b[0;32m--> 710\u001b[0m         \u001b[39mreturn\u001b[39;00m \u001b[39mself\u001b[39;49m\u001b[39m.\u001b[39;49m_convert_tuple(key)\n",
      "\u001b[1;32m    712\u001b[0m \u001b[39mif\u001b[39;00m \u001b[39misinstance\u001b[39m(key, \u001b[39mrange\u001b[39m):\n",
      "\u001b[1;32m    713\u001b[0m     \u001b[39m# GH#45479 test_loc_setitem_range_key\u001b[39;00m\n",
      "\u001b[1;32m    714\u001b[0m     key \u001b[39m=\u001b[39m \u001b[39mlist\u001b[39m(key)\n",
      "\n",
      "File \u001b[0;32m~/mambaforge/envs/ncil/lib/python3.10/site-packages/pandas/core/indexing.py:927\u001b[0m, in \u001b[0;36m_LocationIndexer._convert_tuple\u001b[0;34m(self, key)\u001b[0m\n",
      "\u001b[1;32m    923\u001b[0m \u001b[39m@final\u001b[39m\n",
      "\u001b[1;32m    924\u001b[0m \u001b[39mdef\u001b[39;00m \u001b[39m_convert_tuple\u001b[39m(\u001b[39mself\u001b[39m, key: \u001b[39mtuple\u001b[39m) \u001b[39m-\u001b[39m\u001b[39m>\u001b[39m \u001b[39mtuple\u001b[39m:\n",
      "\u001b[1;32m    925\u001b[0m     \u001b[39m# Note: we assume _tupleize_axis_indexer has been called, if necessary.\u001b[39;00m\n",
      "\u001b[1;32m    926\u001b[0m     \u001b[39mself\u001b[39m\u001b[39m.\u001b[39m_validate_key_length(key)\n",
      "\u001b[0;32m--> 927\u001b[0m     keyidx \u001b[39m=\u001b[39m [\u001b[39mself\u001b[39m\u001b[39m.\u001b[39m_convert_to_indexer(k, axis\u001b[39m=\u001b[39mi) \u001b[39mfor\u001b[39;00m i, k \u001b[39min\u001b[39;00m \u001b[39menumerate\u001b[39m(key)]\n",
      "\u001b[1;32m    928\u001b[0m     \u001b[39mreturn\u001b[39;00m \u001b[39mtuple\u001b[39m(keyidx)\n",
      "\n",
      "File \u001b[0;32m~/mambaforge/envs/ncil/lib/python3.10/site-packages/pandas/core/indexing.py:927\u001b[0m, in \u001b[0;36m<listcomp>\u001b[0;34m(.0)\u001b[0m\n",
      "\u001b[1;32m    923\u001b[0m \u001b[39m@final\u001b[39m\n",
      "\u001b[1;32m    924\u001b[0m \u001b[39mdef\u001b[39;00m \u001b[39m_convert_tuple\u001b[39m(\u001b[39mself\u001b[39m, key: \u001b[39mtuple\u001b[39m) \u001b[39m-\u001b[39m\u001b[39m>\u001b[39m \u001b[39mtuple\u001b[39m:\n",
      "\u001b[1;32m    925\u001b[0m     \u001b[39m# Note: we assume _tupleize_axis_indexer has been called, if necessary.\u001b[39;00m\n",
      "\u001b[1;32m    926\u001b[0m     \u001b[39mself\u001b[39m\u001b[39m.\u001b[39m_validate_key_length(key)\n",
      "\u001b[0;32m--> 927\u001b[0m     keyidx \u001b[39m=\u001b[39m [\u001b[39mself\u001b[39;49m\u001b[39m.\u001b[39;49m_convert_to_indexer(k, axis\u001b[39m=\u001b[39;49mi) \u001b[39mfor\u001b[39;00m i, k \u001b[39min\u001b[39;00m \u001b[39menumerate\u001b[39m(key)]\n",
      "\u001b[1;32m    928\u001b[0m     \u001b[39mreturn\u001b[39;00m \u001b[39mtuple\u001b[39m(keyidx)\n",
      "\n",
      "File \u001b[0;32m~/mambaforge/envs/ncil/lib/python3.10/site-packages/pandas/core/indexing.py:1426\u001b[0m, in \u001b[0;36m_LocIndexer._convert_to_indexer\u001b[0;34m(self, key, axis)\u001b[0m\n",
      "\u001b[1;32m   1424\u001b[0m         \u001b[39mreturn\u001b[39;00m key\n",
      "\u001b[1;32m   1425\u001b[0m     \u001b[39melse\u001b[39;00m:\n",
      "\u001b[0;32m-> 1426\u001b[0m         \u001b[39mreturn\u001b[39;00m \u001b[39mself\u001b[39;49m\u001b[39m.\u001b[39;49m_get_listlike_indexer(key, axis)[\u001b[39m1\u001b[39m]\n",
      "\u001b[1;32m   1427\u001b[0m \u001b[39melse\u001b[39;00m:\n",
      "\u001b[1;32m   1428\u001b[0m     \u001b[39mtry\u001b[39;00m:\n",
      "\n",
      "File \u001b[0;32m~/mambaforge/envs/ncil/lib/python3.10/site-packages/pandas/core/indexing.py:1462\u001b[0m, in \u001b[0;36m_LocIndexer._get_listlike_indexer\u001b[0;34m(self, key, axis)\u001b[0m\n",
      "\u001b[1;32m   1459\u001b[0m ax \u001b[39m=\u001b[39m \u001b[39mself\u001b[39m\u001b[39m.\u001b[39mobj\u001b[39m.\u001b[39m_get_axis(axis)\n",
      "\u001b[1;32m   1460\u001b[0m axis_name \u001b[39m=\u001b[39m \u001b[39mself\u001b[39m\u001b[39m.\u001b[39mobj\u001b[39m.\u001b[39m_get_axis_name(axis)\n",
      "\u001b[0;32m-> 1462\u001b[0m keyarr, indexer \u001b[39m=\u001b[39m ax\u001b[39m.\u001b[39;49m_get_indexer_strict(key, axis_name)\n",
      "\u001b[1;32m   1464\u001b[0m \u001b[39mreturn\u001b[39;00m keyarr, indexer\n",
      "\n",
      "File \u001b[0;32m~/mambaforge/envs/ncil/lib/python3.10/site-packages/pandas/core/indexes/base.py:5877\u001b[0m, in \u001b[0;36mIndex._get_indexer_strict\u001b[0;34m(self, key, axis_name)\u001b[0m\n",
      "\u001b[1;32m   5874\u001b[0m \u001b[39melse\u001b[39;00m:\n",
      "\u001b[1;32m   5875\u001b[0m     keyarr, indexer, new_indexer \u001b[39m=\u001b[39m \u001b[39mself\u001b[39m\u001b[39m.\u001b[39m_reindex_non_unique(keyarr)\n",
      "\u001b[0;32m-> 5877\u001b[0m \u001b[39mself\u001b[39;49m\u001b[39m.\u001b[39;49m_raise_if_missing(keyarr, indexer, axis_name)\n",
      "\u001b[1;32m   5879\u001b[0m keyarr \u001b[39m=\u001b[39m \u001b[39mself\u001b[39m\u001b[39m.\u001b[39mtake(indexer)\n",
      "\u001b[1;32m   5880\u001b[0m \u001b[39mif\u001b[39;00m \u001b[39misinstance\u001b[39m(key, Index):\n",
      "\u001b[1;32m   5881\u001b[0m     \u001b[39m# GH 42790 - Preserve name from an Index\u001b[39;00m\n",
      "\n",
      "File \u001b[0;32m~/mambaforge/envs/ncil/lib/python3.10/site-packages/pandas/core/indexes/base.py:5941\u001b[0m, in \u001b[0;36mIndex._raise_if_missing\u001b[0;34m(self, key, indexer, axis_name)\u001b[0m\n",
      "\u001b[1;32m   5938\u001b[0m     \u001b[39mraise\u001b[39;00m \u001b[39mKeyError\u001b[39;00m(\u001b[39mf\u001b[39m\u001b[39m\"\u001b[39m\u001b[39mNone of [\u001b[39m\u001b[39m{\u001b[39;00mkey\u001b[39m}\u001b[39;00m\u001b[39m] are in the [\u001b[39m\u001b[39m{\u001b[39;00maxis_name\u001b[39m}\u001b[39;00m\u001b[39m]\u001b[39m\u001b[39m\"\u001b[39m)\n",
      "\u001b[1;32m   5940\u001b[0m not_found \u001b[39m=\u001b[39m \u001b[39mlist\u001b[39m(ensure_index(key)[missing_mask\u001b[39m.\u001b[39mnonzero()[\u001b[39m0\u001b[39m]]\u001b[39m.\u001b[39munique())\n",
      "\u001b[0;32m-> 5941\u001b[0m \u001b[39mraise\u001b[39;00m \u001b[39mKeyError\u001b[39;00m(\u001b[39mf\u001b[39m\u001b[39m\"\u001b[39m\u001b[39m{\u001b[39;00mnot_found\u001b[39m}\u001b[39;00m\u001b[39m not in index\u001b[39m\u001b[39m\"\u001b[39m)\n",
      "\n",
      "\u001b[0;31mKeyError\u001b[0m: \"['Malta'] not in index\""
     ]
    }
   ],
   "source": [
    "# create a list of the countries in Northern Europe\n",
    "northern_europe = ['Denmark', 'Finland', 'Iceland', 'Norway', 'Sweden']\n",
    "\n",
    "# create a list of the countries in Southern Europe\n",
    "southern_europe = ['Albania', 'Bosnia and Herzegovina', 'Croatia', 'Greece', 'Italy', 'Malta', 'Montenegro', 'Portugal', 'Serbia', 'Slovenia', 'Spain']\n",
    "\n",
    "# create a list of the countries in Eastern Europe\n",
    "eastern_europe = ['Belarus', 'Bulgaria', 'Czech Republic', 'Hungary', 'Poland', 'Romania', 'Slovak Republic']\n",
    "\n",
    "# create a list of the countries in Western Europe\n",
    "western_europe = ['Austria', 'Belgium', 'France', 'Germany', 'Ireland', 'Luxembourg', 'Netherlands', 'United Kingdom']\n",
    "\n",
    "# create a new column in the gapminder_europe data frame called 'region'.\n",
    "# Label each country as belonging to 'Northern Europe', 'Southern Europe',\n",
    "# 'Eastern Europe', or 'Western Europe'\n",
    "gapminder_europe['region'] = 'Western Europe'\n",
    "\n",
    "# label the countries in Northern Europe as 'Northern Europe'\n",
    "gapminder_europe.loc[northern_europe, 'region'] = 'Northern Europe'\n",
    "\n",
    "# label the countries in Southern Europe as 'Southern Europe'\n",
    "gapminder_europe.loc[southern_europe, 'region'] = 'Southern Europe'\n",
    "\n",
    "# label the countries in Eastern Europe as 'Eastern Europe'\n",
    "gapminder_europe.loc[eastern_europe, 'region'] = 'Eastern Europe'"
   ]
  },
  {
   "cell_type": "markdown",
   "metadata": {},
   "source": [
    "The error message tells us that `['Malta'] not in index`. Remember that the index is a set of labels for the rows of the DataFrame. If you look back at the code we used, `country` was set as the index when we read the CSV file into a DataFrame. So this error is telling us that `Malta` is not in the index.\n",
    "\n",
    "If we look at the code that generated the error, we can see that `Malta` is listed in the countries of Southern Europe. The error we get suggests that data for Malta don't exist in the DataFrame. Let's check that. We can get Copilot to help, by writing a prompt asking it to check if Malta is in the index of the DataFrame."
   ]
  },
  {
   "cell_type": "code",
   "execution_count": null,
   "metadata": {},
   "outputs": [
    {
     "name": "stdout",
     "output_type": "stream",
     "text": [
      "False\n"
     ]
    }
   ],
   "source": [
    "# check if 'Malta' is in gapminder_europe\n",
    "print('Malta' in gapminder_europe.index)"
   ]
  },
  {
   "cell_type": "markdown",
   "metadata": {},
   "source": [
    "To correct this, we can remove Malta from the `Southern Europe` list. Hopefully you remember how to remove a particular item from a list, from a previous lesson. But there's so much to remember! You would probably need to go back and look it up, or Google it. But as you might anticipate, we can prompt Copilot to do this, too! \n",
    "\n",
    "As I wrote the prompt below, however, Copilot made many incorrect guesses as to what I wanted. Initially rather than `southern_europe` it suggested `gapminder_europe` — but that would be completely wrong, because the issue is that `Malta` *isn't in* `gapminder_europe`! When I started typing `s` rather than accepting `gapminder_europe`, Copilot suggested `south_europe` – but if you look at the code above, Copilot had named that list `southern_europe`. So, even though Copilot *can* be sensitive to the context of the file you're working in, it's still not perfect, and may suggest erroneous code such as the wrong variable name. If you're not paying attention, and understanding the code you're generating with Copilot, it's highly likely that you will make a lot of errors. But after manually editing the Copilot-generated code (changing `south_europe` to `southern_europe`), Copilot did produce a correct suggestion for how to remove `Malta` from the `southern_europe` list:"
   ]
  },
  {
   "cell_type": "code",
   "execution_count": null,
   "metadata": {},
   "outputs": [],
   "source": [
    "# remove 'Malta' from southern_europe\n",
    "southern_europe.remove('Malta')"
   ]
  },
  {
   "cell_type": "markdown",
   "metadata": {},
   "source": [
    "An alternative approach – and probably a better one in practice – would have been to go back to the cell that labelled all the regions, and manually remove `Malta` from `southern_europe`. That would ensure that our notebook file had clean, functional, and accurate code, rather than the ugly history of our attempts to generate that code. However, the point here is to illustrate the process of working with Copilot, so we are deliberately not doing that."
   ]
  },
  {
   "cell_type": "markdown",
   "metadata": {},
   "source": [
    "Now we want to re-run the code above. Let's cut and paste it from the cell above into the cell below, and then run it. Make sure not to copy over the code that define the lists of countries in each region, because those are already defined, and we don't want to add `Malta` back into `southern_europe`!"
   ]
  },
  {
   "cell_type": "code",
   "execution_count": null,
   "metadata": {},
   "outputs": [
    {
     "ename": "KeyError",
     "evalue": "\"['Belarus'] not in index\"",
     "output_type": "error",
     "traceback": [
      "\u001b[0;31m---------------------------------------------------------------------------\u001b[0m\n",
      "\u001b[0;31mKeyError\u001b[0m                                  Traceback (most recent call last)\n",
      "Cell \u001b[0;32mIn[11], line 13\u001b[0m\n",
      "\u001b[1;32m     10\u001b[0m gapminder_europe\u001b[39m.\u001b[39mloc[southern_europe, \u001b[39m'\u001b[39m\u001b[39mregion\u001b[39m\u001b[39m'\u001b[39m] \u001b[39m=\u001b[39m \u001b[39m'\u001b[39m\u001b[39mSouthern Europe\u001b[39m\u001b[39m'\u001b[39m\n",
      "\u001b[1;32m     12\u001b[0m \u001b[39m# label the countries in Eastern Europe as 'Eastern Europe'\u001b[39;00m\n",
      "\u001b[0;32m---> 13\u001b[0m gapminder_europe\u001b[39m.\u001b[39;49mloc[eastern_europe, \u001b[39m'\u001b[39;49m\u001b[39mregion\u001b[39;49m\u001b[39m'\u001b[39;49m] \u001b[39m=\u001b[39m \u001b[39m'\u001b[39m\u001b[39mEastern Europe\u001b[39m\u001b[39m'\u001b[39m\n",
      "\n",
      "File \u001b[0;32m~/mambaforge/envs/ncil/lib/python3.10/site-packages/pandas/core/indexing.py:845\u001b[0m, in \u001b[0;36m_LocationIndexer.__setitem__\u001b[0;34m(self, key, value)\u001b[0m\n",
      "\u001b[1;32m    843\u001b[0m \u001b[39melse\u001b[39;00m:\n",
      "\u001b[1;32m    844\u001b[0m     key \u001b[39m=\u001b[39m com\u001b[39m.\u001b[39mapply_if_callable(key, \u001b[39mself\u001b[39m\u001b[39m.\u001b[39mobj)\n",
      "\u001b[0;32m--> 845\u001b[0m indexer \u001b[39m=\u001b[39m \u001b[39mself\u001b[39;49m\u001b[39m.\u001b[39;49m_get_setitem_indexer(key)\n",
      "\u001b[1;32m    846\u001b[0m \u001b[39mself\u001b[39m\u001b[39m.\u001b[39m_has_valid_setitem_indexer(key)\n",
      "\u001b[1;32m    848\u001b[0m iloc \u001b[39m=\u001b[39m \u001b[39mself\u001b[39m \u001b[39mif\u001b[39;00m \u001b[39mself\u001b[39m\u001b[39m.\u001b[39mname \u001b[39m==\u001b[39m \u001b[39m\"\u001b[39m\u001b[39miloc\u001b[39m\u001b[39m\"\u001b[39m \u001b[39melse\u001b[39;00m \u001b[39mself\u001b[39m\u001b[39m.\u001b[39mobj\u001b[39m.\u001b[39miloc\n",
      "\n",
      "File \u001b[0;32m~/mambaforge/envs/ncil/lib/python3.10/site-packages/pandas/core/indexing.py:710\u001b[0m, in \u001b[0;36m_LocationIndexer._get_setitem_indexer\u001b[0;34m(self, key)\u001b[0m\n",
      "\u001b[1;32m    707\u001b[0m \u001b[39mif\u001b[39;00m \u001b[39misinstance\u001b[39m(key, \u001b[39mtuple\u001b[39m):\n",
      "\u001b[1;32m    708\u001b[0m     \u001b[39mwith\u001b[39;00m suppress(IndexingError):\n",
      "\u001b[1;32m    709\u001b[0m         \u001b[39m# suppress \"Too many indexers\"\u001b[39;00m\n",
      "\u001b[0;32m--> 710\u001b[0m         \u001b[39mreturn\u001b[39;00m \u001b[39mself\u001b[39;49m\u001b[39m.\u001b[39;49m_convert_tuple(key)\n",
      "\u001b[1;32m    712\u001b[0m \u001b[39mif\u001b[39;00m \u001b[39misinstance\u001b[39m(key, \u001b[39mrange\u001b[39m):\n",
      "\u001b[1;32m    713\u001b[0m     \u001b[39m# GH#45479 test_loc_setitem_range_key\u001b[39;00m\n",
      "\u001b[1;32m    714\u001b[0m     key \u001b[39m=\u001b[39m \u001b[39mlist\u001b[39m(key)\n",
      "\n",
      "File \u001b[0;32m~/mambaforge/envs/ncil/lib/python3.10/site-packages/pandas/core/indexing.py:927\u001b[0m, in \u001b[0;36m_LocationIndexer._convert_tuple\u001b[0;34m(self, key)\u001b[0m\n",
      "\u001b[1;32m    923\u001b[0m \u001b[39m@final\u001b[39m\n",
      "\u001b[1;32m    924\u001b[0m \u001b[39mdef\u001b[39;00m \u001b[39m_convert_tuple\u001b[39m(\u001b[39mself\u001b[39m, key: \u001b[39mtuple\u001b[39m) \u001b[39m-\u001b[39m\u001b[39m>\u001b[39m \u001b[39mtuple\u001b[39m:\n",
      "\u001b[1;32m    925\u001b[0m     \u001b[39m# Note: we assume _tupleize_axis_indexer has been called, if necessary.\u001b[39;00m\n",
      "\u001b[1;32m    926\u001b[0m     \u001b[39mself\u001b[39m\u001b[39m.\u001b[39m_validate_key_length(key)\n",
      "\u001b[0;32m--> 927\u001b[0m     keyidx \u001b[39m=\u001b[39m [\u001b[39mself\u001b[39m\u001b[39m.\u001b[39m_convert_to_indexer(k, axis\u001b[39m=\u001b[39mi) \u001b[39mfor\u001b[39;00m i, k \u001b[39min\u001b[39;00m \u001b[39menumerate\u001b[39m(key)]\n",
      "\u001b[1;32m    928\u001b[0m     \u001b[39mreturn\u001b[39;00m \u001b[39mtuple\u001b[39m(keyidx)\n",
      "\n",
      "File \u001b[0;32m~/mambaforge/envs/ncil/lib/python3.10/site-packages/pandas/core/indexing.py:927\u001b[0m, in \u001b[0;36m<listcomp>\u001b[0;34m(.0)\u001b[0m\n",
      "\u001b[1;32m    923\u001b[0m \u001b[39m@final\u001b[39m\n",
      "\u001b[1;32m    924\u001b[0m \u001b[39mdef\u001b[39;00m \u001b[39m_convert_tuple\u001b[39m(\u001b[39mself\u001b[39m, key: \u001b[39mtuple\u001b[39m) \u001b[39m-\u001b[39m\u001b[39m>\u001b[39m \u001b[39mtuple\u001b[39m:\n",
      "\u001b[1;32m    925\u001b[0m     \u001b[39m# Note: we assume _tupleize_axis_indexer has been called, if necessary.\u001b[39;00m\n",
      "\u001b[1;32m    926\u001b[0m     \u001b[39mself\u001b[39m\u001b[39m.\u001b[39m_validate_key_length(key)\n",
      "\u001b[0;32m--> 927\u001b[0m     keyidx \u001b[39m=\u001b[39m [\u001b[39mself\u001b[39;49m\u001b[39m.\u001b[39;49m_convert_to_indexer(k, axis\u001b[39m=\u001b[39;49mi) \u001b[39mfor\u001b[39;00m i, k \u001b[39min\u001b[39;00m \u001b[39menumerate\u001b[39m(key)]\n",
      "\u001b[1;32m    928\u001b[0m     \u001b[39mreturn\u001b[39;00m \u001b[39mtuple\u001b[39m(keyidx)\n",
      "\n",
      "File \u001b[0;32m~/mambaforge/envs/ncil/lib/python3.10/site-packages/pandas/core/indexing.py:1426\u001b[0m, in \u001b[0;36m_LocIndexer._convert_to_indexer\u001b[0;34m(self, key, axis)\u001b[0m\n",
      "\u001b[1;32m   1424\u001b[0m         \u001b[39mreturn\u001b[39;00m key\n",
      "\u001b[1;32m   1425\u001b[0m     \u001b[39melse\u001b[39;00m:\n",
      "\u001b[0;32m-> 1426\u001b[0m         \u001b[39mreturn\u001b[39;00m \u001b[39mself\u001b[39;49m\u001b[39m.\u001b[39;49m_get_listlike_indexer(key, axis)[\u001b[39m1\u001b[39m]\n",
      "\u001b[1;32m   1427\u001b[0m \u001b[39melse\u001b[39;00m:\n",
      "\u001b[1;32m   1428\u001b[0m     \u001b[39mtry\u001b[39;00m:\n",
      "\n",
      "File \u001b[0;32m~/mambaforge/envs/ncil/lib/python3.10/site-packages/pandas/core/indexing.py:1462\u001b[0m, in \u001b[0;36m_LocIndexer._get_listlike_indexer\u001b[0;34m(self, key, axis)\u001b[0m\n",
      "\u001b[1;32m   1459\u001b[0m ax \u001b[39m=\u001b[39m \u001b[39mself\u001b[39m\u001b[39m.\u001b[39mobj\u001b[39m.\u001b[39m_get_axis(axis)\n",
      "\u001b[1;32m   1460\u001b[0m axis_name \u001b[39m=\u001b[39m \u001b[39mself\u001b[39m\u001b[39m.\u001b[39mobj\u001b[39m.\u001b[39m_get_axis_name(axis)\n",
      "\u001b[0;32m-> 1462\u001b[0m keyarr, indexer \u001b[39m=\u001b[39m ax\u001b[39m.\u001b[39;49m_get_indexer_strict(key, axis_name)\n",
      "\u001b[1;32m   1464\u001b[0m \u001b[39mreturn\u001b[39;00m keyarr, indexer\n",
      "\n",
      "File \u001b[0;32m~/mambaforge/envs/ncil/lib/python3.10/site-packages/pandas/core/indexes/base.py:5877\u001b[0m, in \u001b[0;36mIndex._get_indexer_strict\u001b[0;34m(self, key, axis_name)\u001b[0m\n",
      "\u001b[1;32m   5874\u001b[0m \u001b[39melse\u001b[39;00m:\n",
      "\u001b[1;32m   5875\u001b[0m     keyarr, indexer, new_indexer \u001b[39m=\u001b[39m \u001b[39mself\u001b[39m\u001b[39m.\u001b[39m_reindex_non_unique(keyarr)\n",
      "\u001b[0;32m-> 5877\u001b[0m \u001b[39mself\u001b[39;49m\u001b[39m.\u001b[39;49m_raise_if_missing(keyarr, indexer, axis_name)\n",
      "\u001b[1;32m   5879\u001b[0m keyarr \u001b[39m=\u001b[39m \u001b[39mself\u001b[39m\u001b[39m.\u001b[39mtake(indexer)\n",
      "\u001b[1;32m   5880\u001b[0m \u001b[39mif\u001b[39;00m \u001b[39misinstance\u001b[39m(key, Index):\n",
      "\u001b[1;32m   5881\u001b[0m     \u001b[39m# GH 42790 - Preserve name from an Index\u001b[39;00m\n",
      "\n",
      "File \u001b[0;32m~/mambaforge/envs/ncil/lib/python3.10/site-packages/pandas/core/indexes/base.py:5941\u001b[0m, in \u001b[0;36mIndex._raise_if_missing\u001b[0;34m(self, key, indexer, axis_name)\u001b[0m\n",
      "\u001b[1;32m   5938\u001b[0m     \u001b[39mraise\u001b[39;00m \u001b[39mKeyError\u001b[39;00m(\u001b[39mf\u001b[39m\u001b[39m\"\u001b[39m\u001b[39mNone of [\u001b[39m\u001b[39m{\u001b[39;00mkey\u001b[39m}\u001b[39;00m\u001b[39m] are in the [\u001b[39m\u001b[39m{\u001b[39;00maxis_name\u001b[39m}\u001b[39;00m\u001b[39m]\u001b[39m\u001b[39m\"\u001b[39m)\n",
      "\u001b[1;32m   5940\u001b[0m not_found \u001b[39m=\u001b[39m \u001b[39mlist\u001b[39m(ensure_index(key)[missing_mask\u001b[39m.\u001b[39mnonzero()[\u001b[39m0\u001b[39m]]\u001b[39m.\u001b[39munique())\n",
      "\u001b[0;32m-> 5941\u001b[0m \u001b[39mraise\u001b[39;00m \u001b[39mKeyError\u001b[39;00m(\u001b[39mf\u001b[39m\u001b[39m\"\u001b[39m\u001b[39m{\u001b[39;00mnot_found\u001b[39m}\u001b[39;00m\u001b[39m not in index\u001b[39m\u001b[39m\"\u001b[39m)\n",
      "\n",
      "\u001b[0;31mKeyError\u001b[0m: \"['Belarus'] not in index\""
     ]
    }
   ],
   "source": [
    "# create a new column in the gapminder_europe data frame called 'region'.\n",
    "# Label each country as belonging to 'Northern Europe', 'Southern Europe',\n",
    "# 'Eastern Europe', or 'Western Europe'\n",
    "gapminder_europe['region'] = 'Western Europe'\n",
    "\n",
    "# label the countries in Northern Europe as 'Northern Europe'\n",
    "gapminder_europe.loc[northern_europe, 'region'] = 'Northern Europe'\n",
    "\n",
    "# label the countries in Southern Europe as 'Southern Europe'\n",
    "gapminder_europe.loc[southern_europe, 'region'] = 'Southern Europe'\n",
    "\n",
    "# label the countries in Eastern Europe as 'Eastern Europe'\n",
    "gapminder_europe.loc[eastern_europe, 'region'] = 'Eastern Europe'"
   ]
  },
  {
   "cell_type": "markdown",
   "metadata": {},
   "source": [
    "Another error, but it looks like the same problem as before: this time, `Belarus` is not in the DataFrame.\n",
    "\n",
    "Why is this happening? Well, we assumed that when Copilot generated those lists of countries in each region, it would use the countries in the `gapminder_europe` DataFrame. But in reality, we don't know how it generated those lists. Maybe it was based on data used to train Copilot that had a larger list of countries in Europe, rather than just the countries in the DataFrame. And again, Copilot was not accurately sensitive to the context of our notebook file. \n",
    "\n",
    "Anyway, we now know how to fix this error, based on what we did above for Malta. But what next? How many more countries did Copilot \"hallucinate\" were in our DataFrame? We can keep repeating this process until we get no errors, but that seems tedious, and could take a long time (especially if we were working with a larger data set). Let's see if we can tweak our prompts from above to generate more accurate lists of countries in each region.\n"
   ]
  },
  {
   "cell_type": "markdown",
   "metadata": {},
   "source": [
    "\n",
    "### More Prompt Engineering\n",
    "\n",
    "My first attempt at a prompt was:\n",
    "```python\n",
    "# create a list of the countries in Northern Europe, limited to the countries in the gapminder_europe data frame\n",
    "```\n",
    "\n",
    "However, this generated the code below, which is obviously wrong. First of all, it's circular, in that it's defining a variable `northern_europe` based on selecting rows in the DataFrame that are in a variable with the same name (`northern_europe`).\n",
    "\n",
    "```python\n",
    "northern_europe = gapminder_europe.loc[northern_europe]\n",
    "```\n",
    "\n",
    "The larger problem with this code is that it's using the `northern_europe` list, but the issue we're trying to fix is that that list is incorrect. So we need a better prompt. Again, we need to break the problem down into smaller steps. Let's start with the first step, and see if we can get Copilot to generate the code to create a list of the countries in Northern Europe,as it did before. Then, in a second step, let's ask it to remove the countries not in the DataFrame. I tried this:\n",
    "\n",
    "```python\n",
    "# create a list of countries in northern europe. Then, remove the names of any \n",
    "# countries in the list that are not in the gapminder_europe data frame\n",
    "```\n",
    "\n",
    "But Copilot only generated code for the first step. So, then I cut the second step from the first prompt, and made it a second step. As you see below, this generated code that ran with no errors. "
   ]
  },
  {
   "cell_type": "code",
   "execution_count": null,
   "metadata": {},
   "outputs": [],
   "source": [
    "# create a list of countries in northern europe. \n",
    "northern_europe = ['Belgium', 'Denmark', 'Finland', 'Iceland', 'Ireland', 'Luxembourg', 'Netherlands', 'Norway', 'Sweden', 'United Kingdom']\n",
    "\n",
    "# remove the names of any countries in the list northern_europe that are not in the gapminder_europe data frame\n",
    "northern_europe = [country for country in northern_europe if country in gapminder_europe.index]"
   ]
  },
  {
   "cell_type": "markdown",
   "metadata": {},
   "source": [
    "Note that the last line of code above is using **list comprehension**. This is useful and efficient, but it can be a bit challenging to read and understand if you're not familiar with it. \n",
    "\n",
    "The list comprehension above is equivalent to this code:\n",
    "\n",
    "```python\n",
    "tmp = []\n",
    "for country in northern_europe:\n",
    "    if country in gapminder_europe.index:\n",
    "        tmp.append(country)\n",
    "\n",
    "northern_europe = tmp\n",
    "```\n",
    "\n",
    "In this code, we have to create a temporary variable `tmp` to store the new results as we iterate through the items in the list `northern_europe`. In contrast, list comprehension works all at once, rather than iteratively over each item in the list. Therefore it's OK to modify the list while we're iterating over it, because we're not actually iterating over it.\n",
    "\n",
    "Of course, with Copilot if the code works, we don't necessarily need to understand it. But it's still good practice to actually understand what your code is doing. If Copilot generates code that you don't understand, you should take the time to learn something new!"
   ]
  },
  {
   "cell_type": "markdown",
   "metadata": {},
   "source": [
    "### Check Your Results\n",
    "\n",
    "Even if we understand what the code is doing, we should double-check whether the list got changed! We can check by viewing the list. You could ask Copilot to do this, but sometimes for simple things it's faster just to type the code yourself:"
   ]
  },
  {
   "cell_type": "code",
   "execution_count": null,
   "metadata": {},
   "outputs": [
    {
     "name": "stdout",
     "output_type": "stream",
     "text": [
      "['Belgium', 'Denmark', 'Finland', 'Iceland', 'Ireland', 'Netherlands', 'Norway', 'Sweden', 'United Kingdom']\n"
     ]
    }
   ],
   "source": [
    "print(northern_europe)"
   ]
  },
  {
   "cell_type": "markdown",
   "metadata": {},
   "source": [
    "Cross-checking this list against the original one, we can see that `Luxembourg` is no longer in the list. That suggests that Copilot did indeed remove the countries not in the DataFrame. Let's try this for the other regions. For completeness – having all the code for one conceptual step in one cell – we'll copy and paste the Northern Europe code from above, then generate additional prompts for the other regions. Copilot catches on to the repetitive nature of this process quickly, and should generate most of the prompts and code for you. (remember to hit `Enter` twice after each line of code that you accept, to get the next prompt). In fact, after Copilot finished generating prompts for each region, it again generated the prompts to create a new `region` column in our DataFrame, and populate it with the region labels. "
   ]
  },
  {
   "cell_type": "code",
   "execution_count": 11,
   "metadata": {},
   "outputs": [],
   "source": [
    "# create a list of countries in northern europe. \n",
    "northern_europe = ['Belgium', 'Denmark', 'Finland', 'Iceland', 'Ireland', 'Luxembourg', 'Netherlands', 'Norway', 'Sweden', 'United Kingdom']\n",
    "\n",
    "# remove the names of any countries in the list northern_europe that are not in the gapminder_europe data frame\n",
    "northern_europe = [country for country in northern_europe if country in gapminder_europe.index]\n",
    "\n",
    "# create a list of countries in southern europe.\n",
    "southern_europe = ['Albania', 'Bosnia and Herzegovina', 'Croatia', 'Greece', 'Italy', 'Montenegro', 'Portugal', 'Serbia', 'Slovenia', 'Spain']\n",
    "\n",
    "# remove the names of any countries in the list southern_europe that are not in the gapminder_europe data frame\n",
    "southern_europe = [country for country in southern_europe if country in gapminder_europe.index]\n",
    "\n",
    "# create a list of countries in eastern europe.\n",
    "eastern_europe = ['Belarus', 'Bulgaria', 'Czech Republic', 'Hungary', 'Poland', 'Romania', 'Slovak Republic']\n",
    "\n",
    "# remove the names of any countries in the list eastern_europe that are not in the gapminder_europe data frame\n",
    "eastern_europe = [country for country in eastern_europe if country in gapminder_europe.index]\n",
    "\n",
    "# create a list of countries in western europe.\n",
    "western_europe = ['Austria', 'France', 'Germany', 'Switzerland']\n",
    "\n",
    "# remove the names of any countries in the list western_europe that are not in the gapminder_europe data frame\n",
    "western_europe = [country for country in western_europe if country in gapminder_europe.index]\n",
    "\n",
    "# create a new column in the gapminder_europe data frame called 'region'.\n",
    "# Label each country as belonging to 'Northern Europe', 'Southern Europe',\n",
    "# 'Eastern Europe', or 'Western Europe'\n",
    "gapminder_europe['region'] = 'Western Europe'\n",
    "\n",
    "# label the countries in Northern Europe as 'Northern Europe'\n",
    "gapminder_europe.loc[northern_europe, 'region'] = 'Northern Europe'\n",
    "\n",
    "# label the countries in Southern Europe as 'Southern Europe'\n",
    "gapminder_europe.loc[southern_europe, 'region'] = 'Southern Europe'\n",
    "\n",
    "# label the countries in Eastern Europe as 'Eastern Europe'\n",
    "gapminder_europe.loc[eastern_europe, 'region'] = 'Eastern Europe'"
   ]
  },
  {
   "cell_type": "markdown",
   "metadata": {},
   "source": [
    "This time the code ran without errors. We can spot-check our region labels by getting a random sample of rows from the DataFrame:"
   ]
  },
  {
   "cell_type": "code",
   "execution_count": 12,
   "metadata": {},
   "outputs": [
    {
     "data": {
      "text/html": [
       "<div>\n",
       "<style scoped>\n",
       "    .dataframe tbody tr th:only-of-type {\n",
       "        vertical-align: middle;\n",
       "    }\n",
       "\n",
       "    .dataframe tbody tr th {\n",
       "        vertical-align: top;\n",
       "    }\n",
       "\n",
       "    .dataframe thead th {\n",
       "        text-align: right;\n",
       "    }\n",
       "</style>\n",
       "<table border=\"1\" class=\"dataframe\">\n",
       "  <thead>\n",
       "    <tr style=\"text-align: right;\">\n",
       "      <th></th>\n",
       "      <th>gdpPercap_1952</th>\n",
       "      <th>gdpPercap_1957</th>\n",
       "      <th>gdpPercap_1962</th>\n",
       "      <th>gdpPercap_1967</th>\n",
       "      <th>gdpPercap_1972</th>\n",
       "      <th>gdpPercap_1977</th>\n",
       "      <th>gdpPercap_1982</th>\n",
       "      <th>gdpPercap_1987</th>\n",
       "      <th>gdpPercap_1992</th>\n",
       "      <th>gdpPercap_1997</th>\n",
       "      <th>gdpPercap_2002</th>\n",
       "      <th>gdpPercap_2007</th>\n",
       "      <th>region</th>\n",
       "    </tr>\n",
       "    <tr>\n",
       "      <th>country</th>\n",
       "      <th></th>\n",
       "      <th></th>\n",
       "      <th></th>\n",
       "      <th></th>\n",
       "      <th></th>\n",
       "      <th></th>\n",
       "      <th></th>\n",
       "      <th></th>\n",
       "      <th></th>\n",
       "      <th></th>\n",
       "      <th></th>\n",
       "      <th></th>\n",
       "      <th></th>\n",
       "    </tr>\n",
       "  </thead>\n",
       "  <tbody>\n",
       "    <tr>\n",
       "      <th>Iceland</th>\n",
       "      <td>7267.688428</td>\n",
       "      <td>9244.001412</td>\n",
       "      <td>10350.159060</td>\n",
       "      <td>13319.895680</td>\n",
       "      <td>15798.06362</td>\n",
       "      <td>19654.96247</td>\n",
       "      <td>23269.60750</td>\n",
       "      <td>26923.20628</td>\n",
       "      <td>25144.39201</td>\n",
       "      <td>28061.09966</td>\n",
       "      <td>31163.20196</td>\n",
       "      <td>36180.78919</td>\n",
       "      <td>Northern Europe</td>\n",
       "    </tr>\n",
       "    <tr>\n",
       "      <th>Norway</th>\n",
       "      <td>10095.421720</td>\n",
       "      <td>11653.973040</td>\n",
       "      <td>13450.401510</td>\n",
       "      <td>16361.876470</td>\n",
       "      <td>18965.05551</td>\n",
       "      <td>23311.34939</td>\n",
       "      <td>26298.63531</td>\n",
       "      <td>31540.97480</td>\n",
       "      <td>33965.66115</td>\n",
       "      <td>41283.16433</td>\n",
       "      <td>44683.97525</td>\n",
       "      <td>49357.19017</td>\n",
       "      <td>Northern Europe</td>\n",
       "    </tr>\n",
       "    <tr>\n",
       "      <th>Austria</th>\n",
       "      <td>6137.076492</td>\n",
       "      <td>8842.598030</td>\n",
       "      <td>10750.721110</td>\n",
       "      <td>12834.602400</td>\n",
       "      <td>16661.62560</td>\n",
       "      <td>19749.42230</td>\n",
       "      <td>21597.08362</td>\n",
       "      <td>23687.82607</td>\n",
       "      <td>27042.01868</td>\n",
       "      <td>29095.92066</td>\n",
       "      <td>32417.60769</td>\n",
       "      <td>36126.49270</td>\n",
       "      <td>Western Europe</td>\n",
       "    </tr>\n",
       "    <tr>\n",
       "      <th>Spain</th>\n",
       "      <td>3834.034742</td>\n",
       "      <td>4564.802410</td>\n",
       "      <td>5693.843879</td>\n",
       "      <td>7993.512294</td>\n",
       "      <td>10638.75131</td>\n",
       "      <td>13236.92117</td>\n",
       "      <td>13926.16997</td>\n",
       "      <td>15764.98313</td>\n",
       "      <td>18603.06452</td>\n",
       "      <td>20445.29896</td>\n",
       "      <td>24835.47166</td>\n",
       "      <td>28821.06370</td>\n",
       "      <td>Southern Europe</td>\n",
       "    </tr>\n",
       "    <tr>\n",
       "      <th>Netherlands</th>\n",
       "      <td>8941.571858</td>\n",
       "      <td>11276.193440</td>\n",
       "      <td>12790.849560</td>\n",
       "      <td>15363.251360</td>\n",
       "      <td>18794.74567</td>\n",
       "      <td>21209.05920</td>\n",
       "      <td>21399.46046</td>\n",
       "      <td>23651.32361</td>\n",
       "      <td>26790.94961</td>\n",
       "      <td>30246.13063</td>\n",
       "      <td>33724.75778</td>\n",
       "      <td>36797.93332</td>\n",
       "      <td>Northern Europe</td>\n",
       "    </tr>\n",
       "  </tbody>\n",
       "</table>\n",
       "</div>"
      ],
      "text/plain": [
       "             gdpPercap_1952  gdpPercap_1957  gdpPercap_1962  gdpPercap_1967  \\\n",
       "country                                                                       \n",
       "Iceland         7267.688428     9244.001412    10350.159060    13319.895680   \n",
       "Norway         10095.421720    11653.973040    13450.401510    16361.876470   \n",
       "Austria         6137.076492     8842.598030    10750.721110    12834.602400   \n",
       "Spain           3834.034742     4564.802410     5693.843879     7993.512294   \n",
       "Netherlands     8941.571858    11276.193440    12790.849560    15363.251360   \n",
       "\n",
       "             gdpPercap_1972  gdpPercap_1977  gdpPercap_1982  gdpPercap_1987  \\\n",
       "country                                                                       \n",
       "Iceland         15798.06362     19654.96247     23269.60750     26923.20628   \n",
       "Norway          18965.05551     23311.34939     26298.63531     31540.97480   \n",
       "Austria         16661.62560     19749.42230     21597.08362     23687.82607   \n",
       "Spain           10638.75131     13236.92117     13926.16997     15764.98313   \n",
       "Netherlands     18794.74567     21209.05920     21399.46046     23651.32361   \n",
       "\n",
       "             gdpPercap_1992  gdpPercap_1997  gdpPercap_2002  gdpPercap_2007  \\\n",
       "country                                                                       \n",
       "Iceland         25144.39201     28061.09966     31163.20196     36180.78919   \n",
       "Norway          33965.66115     41283.16433     44683.97525     49357.19017   \n",
       "Austria         27042.01868     29095.92066     32417.60769     36126.49270   \n",
       "Spain           18603.06452     20445.29896     24835.47166     28821.06370   \n",
       "Netherlands     26790.94961     30246.13063     33724.75778     36797.93332   \n",
       "\n",
       "                      region  \n",
       "country                       \n",
       "Iceland      Northern Europe  \n",
       "Norway       Northern Europe  \n",
       "Austria       Western Europe  \n",
       "Spain        Southern Europe  \n",
       "Netherlands  Northern Europe  "
      ]
     },
     "execution_count": 12,
     "metadata": {},
     "output_type": "execute_result"
    }
   ],
   "source": [
    "# generate a random sample of rows from the gapminder_europe data frame\n",
    "gapminder_europe.sample(5)"
   ]
  },
  {
   "cell_type": "markdown",
   "metadata": {},
   "source": [
    "Since new columns are added to the right side of a DataFrame, you'll need to scroll to the right to see the new `region` column, but it is indeed there, and the labels in the sample are correct. If you want more reassurance, you could re-run the cell to get a new random sample, or increase the number of samples from 5 to a larger number.\n",
    "\n",
    "You could also modify your prompt to show only the `region` column, and then view ta random sample of rows:"
   ]
  },
  {
   "cell_type": "code",
   "execution_count": 13,
   "metadata": {},
   "outputs": [
    {
     "data": {
      "text/plain": [
       "country\n",
       "France              Western Europe\n",
       "Belgium            Northern Europe\n",
       "United Kingdom     Northern Europe\n",
       "Romania             Eastern Europe\n",
       "Slovak Republic     Eastern Europe\n",
       "Name: region, dtype: object"
      ]
     },
     "execution_count": 13,
     "metadata": {},
     "output_type": "execute_result"
    }
   ],
   "source": [
    "# show a random sample of rows from the gapminder_europe data frame, and only the region column\n",
    "gapminder_europe['region'].sample(5)"
   ]
  },
  {
   "cell_type": "markdown",
   "metadata": {},
   "source": [
    ":::{note}\n",
    "\n",
    "If you look at the code that Copilot generated above, and compare it to what we used in the <a href=../3-python/pandas_dataframes.ipynb>pandas lesson</a> previous chapter, you'll see that it's quite similar in that both use the <code>gapminder_europe.loc</code> method to label countries according to region. However, the process of generating it required some trial and error, and some manual intervention. This isn't actually different from what you would probably be doing – especially as a novice coder – if you were writing the code yourself. But, perhaps ironically, part of the code that we had to prompt Copilot to generate, was to fix errors in the code that it generated.\n",
    "\n",
    "At the same time, if you look back at the pandas lesson, the lists of countries in each region were defined manually — and in fact there was no explanation as to how those lists were created. Those lists were created manually by someone reviewing the list of country names in the DataFrame, and using their knowledge of geography (or maybe an internet search) to assign the countries to the labels. In contrast, Copilot generated those lists for us (based on the vast corpus of data it was trained on), which saved us a lot of time. The fact that we had to write additional code to clean up the lists is a small price to pay for that time savings. And indeed, cleaning data is a routine part of data science, and it's good to be able to do it in code, rather than manually. \n",
    ":::"
   ]
  },
  {
   "cell_type": "markdown",
   "metadata": {},
   "source": [
    "\n",
    "## Critically Evaluating Copilot's Code\n",
    "\n",
    "Although our previous pandas lesson and Copilot both used the `gapminder_europe.loc` method to label countries, there is one important difference between what we showed in the previous lesson, and Copilot's code. Copilot first labelled all countries as `Western Europe`, and then changed the label for non-Western countries. In contrast, in the previous lesson we used the same `gapminder_europe.loc` method to label Western countries as Copilot did here for the other regions. This illustrates how different code can be used to accomplish the same task.\n",
    "\n",
    "However, just because two approaches do the same job (or appear to), there is some danger to the approach that Copilot took here. In labelling all the countries first as `Western Europe`, the assumption is that the other labels we use will cover all of the countries that are not `Western Europe`. However, what if there was a country that was in the DataFrame, but not in any of Copilot's lists of regions? Those countries would be labeled as `Western Europe`, which might be incorrect. In that case, the code Copilot generated would create bugs that would affect the outcome of any analyses applied to the data. This is a good example of why it's important to **read and understand the code you're using**, and not just blindly accept what Copilot generates.\n",
    "\n",
    "At the very least, a good data scientist will assume the worst of their, or AI-generated, code, and test it to make sure it's doing what it's supposed to do. In this case, since the concern is that a country not in Western Europe may get that label, we can check by comparing the countries with that label in the DataFrame, with the list `western_europe`.\n",
    "\n",
    "### Using Copilot to Check its Own Work\n",
    "Fortunately, Copilot can help us check it's own work – it even correctly generated a lot of the detailed prompt you see below! The prompt below also shows that you can use complex, multi-step prompts with Copilot, and it will generate code for each step. The difference between the complex prompt here, and some that failed above, is that we clearly end each step with a period, and start the next step as a new sentence."
   ]
  },
  {
   "cell_type": "code",
   "execution_count": null,
   "metadata": {},
   "outputs": [
    {
     "name": "stdout",
     "output_type": "stream",
     "text": [
      "set()\n"
     ]
    }
   ],
   "source": [
    "# list all of the countries in the gapminder_europe data frame labelled as \"Western Europe\".\n",
    "# Then compare this list to the contents of the western_europe list. Print the names of any\n",
    "# countries that are in the western_europe list but not in the gapminder_europe data frame.\n",
    "print(set(western_europe) - set(gapminder_europe[gapminder_europe['region'] == 'Western Europe'].index))"
   ]
  },
  {
   "cell_type": "markdown",
   "metadata": {},
   "source": [
    "The output shows that there are no countries labelled as `Western Europe` that are not in the `western_europe` list. So, Copilot's code is correct. But, it is important to always check – whether it's your own code, or AI-generated.\n",
    "\n",
    "Finally, note that the code that Copilot did generate there is pretty complex. At this point in your development as a coder, do you think you could have written that? And if so, how long do you think it would have taken? Copilot generated that code in a few seconds. This is the promise of AI-assisted coding. At the same time, as a learner and a critical user of AI-generated code, you should take the time to understand what the code is doing, and why. In this case, you can do internet searches for the components of that code that you may not recognize, such as the `set()` function and the `.index` method (``)."
   ]
  },
  {
   "cell_type": "markdown",
   "metadata": {},
   "source": [
    "## Summary\n",
    "\n",
    "- GitHub Copilot is a great coding **partner**. On its own, it often generates errors — including both fatal Python errors, and more sneaky errors that may not be obvious — cases where the code runs without errors, but there are flaws in the logic of the code. \n",
    "- In spite of the risk of errors errors, Copilot can save you time by quickly generating code, and often generating things that would take you significant time to look up. \n",
    "- The best approach to using Copilot is to break down your coding tasks into small steps, and prompt Copilot to generate code for each step. Always be conscious of what you're trying to do and be clear in the expected outputs of that code. \n",
    "- Always actually *read* the code that Copilot generates and be sure you understand it. Based on that understanding, confirm the logic of what it's doing, and ensure it's what you expect.\n",
    "- Always *test* the results of the code Copilot generates, to confirm that it's doing what you expect.\n",
    "- This approach will help you both code more efficiently, and become a better coder yourself. Professional coders have eagerly adopted Copilot due to the efficiencies it creates — but there is a learning curve, and ultimately it is just another tool in your toolbox, not the *only* tool you need. "
   ]
  }
 ],
 "metadata": {
  "kernelspec": {
   "display_name": "ncil",
   "language": "python",
   "name": "python3"
  },
  "language_info": {
   "codemirror_mode": {
    "name": "ipython",
    "version": 3
   },
   "file_extension": ".py",
   "mimetype": "text/x-python",
   "name": "python",
   "nbconvert_exporter": "python",
   "pygments_lexer": "ipython3",
   "version": "3.10.12"
  },
  "orig_nbformat": 4
 },
 "nbformat": 4,
 "nbformat_minor": 2
}
