{
 "cells": [
  {
   "cell_type": "markdown",
   "metadata": {},
   "source": [
    "# `for` Loops\n",
    "\n",
    "\n",
    "- [Watch a walk-through of this lesson on YouTube](https://youtu.be/DJNtjCvrJe8)\n",
    "- [Download all the Jupyter notebooks and other files you need to complete the lessons in this chapter (Chapter 3)](https://github.com/neural-data-science/Introducing-Python)\n",
    "- Turn **off** the GitHub Copilot AI assistant so you can focus on learning Python using your HI (human intelligence). Click the `Deactivate Copilot` button in the bottom right of VS Code, if it is currently activated.\n",
    "\n",
    "---"
   ]
  },
  {
   "cell_type": "markdown",
   "metadata": {},
   "source": [
    "## Questions:\n",
    "- How can I make a program do things repeatedly?\n",
    "\n",
    "## Learning Objectives:\n",
    "- Explain what for loops are normally used for.\n",
    "- Trace the execution of a simple (unnested) loop and correctly state the values of variables in each iteration.\n",
    "- Write for loops that use the Accumulator pattern to aggregate values.\n",
    "\n",
    "---"
   ]
  },
  {
   "cell_type": "markdown",
   "metadata": {},
   "source": [
    "## A `for` loop executes commands once for each value in a collection\n",
    "\n",
    "*   Doing calculations on the values in a list one by one is as painful as working with many individual variables rather than a list or dictionary (e.g., `life_exp_1900`, `life_exp_1920`, etc. rather than `life_exp = [48.1, 56.6, 64.0, 71.0, 75.2, 79.2]`\n",
    "*   A ***for loop*** tells Python to execute some statements once for each value in a list, a character string, or some other collection\n",
    "*  The `for` command means, \"for each thing in this group, do these operations\"\n",
    "\n",
    "~~~python\n",
    "for number in [2, 3, 5]:\n",
    "    print(number)\n",
    "~~~"
   ]
  },
  {
   "cell_type": "markdown",
   "metadata": {},
   "source": [
    "The `for` loop above is equivalent to:\n",
    "\n",
    "~~~python\n",
    "print(2)\n",
    "print(3)\n",
    "print(5)\n",
    "~~~\n",
    "\n",
    "and the `for` loop's output is:"
   ]
  },
  {
   "cell_type": "code",
   "execution_count": 1,
   "metadata": {},
   "outputs": [
    {
     "name": "stdout",
     "output_type": "stream",
     "text": [
      "2\n",
      "3\n",
      "5\n"
     ]
    }
   ],
   "source": [
    "for number in [2, 3, 5]:\n",
    "    print(number)"
   ]
  },
  {
   "cell_type": "markdown",
   "metadata": {},
   "source": [
    "\n",
    "- However, the `for` loop is *scalable* to any length input. \n",
    "- This makes it flexible, because we might not know in advance how many inputs we want to operate on."
   ]
  },
  {
   "cell_type": "markdown",
   "metadata": {},
   "source": [
    "## A `for` loop is made up of a collection, a loop variable, and a body.\n",
    "\n",
    "In our example:\n",
    "\n",
    "~~~python\n",
    "for number in [2, 3, 5]:\n",
    "    print(number)\n",
    "~~~\n",
    "\n",
    "- The **collection**, `[2, 3, 5]`, is what the loop is being run on.\n",
    "- The **loop variable**, `number`, is what changes for each *iteration* of the loop.\n",
    "    - This keeps track of where we are in the loop — the \"current thing\"\n",
    "- The **body**, `print(number)`, specifies what to do for each value in the collection.\n",
    "\n",
    "\n"
   ]
  },
  {
   "cell_type": "markdown",
   "metadata": {},
   "source": [
    "## The first line of the `for` loop must end with a colon, and the body must be indented\n",
    "\n",
    "*   The colon at the end of the first line signals the start of a *block* of statements.\n",
    "*   Python uses indentation to show *nesting* (this is different from other languages, which often use explicit markers for the start and end (e.g., `{}` or `begin`/`end`) of a nesting.\n",
    "    *   Any consistent indentation is legal, but almost everyone uses four spaces.\n",
    "\n",
    "~~~python\n",
    "for number in [2, 3, 5]:\n",
    "    print(number)\n",
    "~~~\n",
    "\n"
   ]
  },
  {
   "cell_type": "markdown",
   "metadata": {},
   "source": [
    "### Indentation is always meaningful in Python\n",
    "\n",
    "- After a `for` statement, Python expects at least one indented line with the body of the for loop\n",
    "- The end of the body of a for loop is indicated by a line of code that is not indented\n",
    "- It's good coding style (although not required) to put a blank line after the end of the body of a for loop, before the next line of code that's not in the for loop\n",
    "\n",
    "For example:\n"
   ]
  },
  {
   "cell_type": "code",
   "execution_count": 2,
   "metadata": {},
   "outputs": [
    {
     "name": "stdout",
     "output_type": "stream",
     "text": [
      "Canada\n",
      "USA\n",
      "Mexico\n",
      "All done printing country names\n"
     ]
    }
   ],
   "source": [
    "for country in ['Canada', 'USA', 'Mexico']:\n",
    "    print(country)\n",
    "    \n",
    "print('All done printing country names')"
   ]
  },
  {
   "cell_type": "markdown",
   "metadata": {},
   "source": [
    "- Because indentation is always meaningful, the code below generates an error:\n",
    "\n",
    "~~~python\n",
    "life_exp_1900 = 48.1\n",
    "  life_exp_1920 = 56.6\n",
    "~~~"
   ]
  },
  {
   "cell_type": "code",
   "execution_count": 3,
   "metadata": {},
   "outputs": [],
   "source": [
    "life_exp_1900 = 48.1\n",
    "life_exp_1920 = 56.6"
   ]
  },
  {
   "cell_type": "markdown",
   "metadata": {},
   "source": [
    "This error can be fixed by removing the extra spaces at the beginning of the second line."
   ]
  },
  {
   "cell_type": "code",
   "execution_count": 4,
   "metadata": {},
   "outputs": [],
   "source": [
    "life_exp_1900 = 48.1\n",
    "life_exp_1920 = 56.6"
   ]
  },
  {
   "cell_type": "markdown",
   "metadata": {},
   "source": [
    "### Question\n",
    "Is an indentation error a syntax error or a runtime error?\n",
    "\n",
    "### Solution\n",
    "A Python `IndentationError` is a syntax error. Programs with syntax errors cannot be started.\n",
    "A program with a runtime error will start but an error will be thrown under certain conditions.\n"
   ]
  },
  {
   "cell_type": "markdown",
   "metadata": {},
   "source": [
    "## Loop variables can be called anything.\n",
    "\n",
    "As with all variables, loop variables are:\n",
    "- Created on demand\n",
    "- Meaningless: their names can be anything at all\n",
    "- So the following are valid `for` loops, but not great loop variable names (unless in the first example your data actually concern kittens):"
   ]
  },
  {
   "cell_type": "code",
   "execution_count": 5,
   "metadata": {},
   "outputs": [
    {
     "name": "stdout",
     "output_type": "stream",
     "text": [
      "2\n",
      "3\n",
      "5\n"
     ]
    }
   ],
   "source": [
    "for kitten in [2, 3, 5]:\n",
    "    print(kitten)"
   ]
  },
  {
   "cell_type": "code",
   "execution_count": 6,
   "metadata": {},
   "outputs": [
    {
     "name": "stdout",
     "output_type": "stream",
     "text": [
      "2\n",
      "3\n",
      "5\n"
     ]
    }
   ],
   "source": [
    "for ytrjmn in [2, 3, 5]:\n",
    "    print(ytrjmn)   "
   ]
  },
  {
   "cell_type": "markdown",
   "metadata": {},
   "source": [
    "- As always, clear and meaningful variable names are best practice"
   ]
  },
  {
   "cell_type": "markdown",
   "metadata": {},
   "source": [
    "## The collection can be a list, dictionary, etc. that was defined previously\n",
    "\n"
   ]
  },
  {
   "cell_type": "code",
   "execution_count": 7,
   "metadata": {},
   "outputs": [
    {
     "name": "stdout",
     "output_type": "stream",
     "text": [
      "48.1\n",
      "56.6\n",
      "64.0\n",
      "71.0\n",
      "75.2\n",
      "79.2\n"
     ]
    }
   ],
   "source": [
    "life_exp = [48.1, 56.6, 64.0, 71.0, 75.2, 79.2]\n",
    "\n",
    "for e in life_exp:\n",
    "    print(e)"
   ]
  },
  {
   "cell_type": "markdown",
   "metadata": {},
   "source": [
    "- Strings can also be used as the collection, in which case the loop will step through each character of the string:"
   ]
  },
  {
   "cell_type": "code",
   "execution_count": 8,
   "metadata": {},
   "outputs": [
    {
     "name": "stdout",
     "output_type": "stream",
     "text": [
      "S\n",
      "U\n",
      "R\n",
      "G\n",
      "E\n"
     ]
    }
   ],
   "source": [
    "for c in 'SURGE':\n",
    "    print(c)"
   ]
  },
  {
   "cell_type": "markdown",
   "metadata": {},
   "source": [
    "## The body of a loop can contain many statements.\n"
   ]
  },
  {
   "cell_type": "code",
   "execution_count": 9,
   "metadata": {},
   "outputs": [
    {
     "name": "stdout",
     "output_type": "stream",
     "text": [
      "2 4 8\n",
      "3 9 27\n",
      "5 25 125\n"
     ]
    }
   ],
   "source": [
    "primes = [2, 3, 5]\n",
    "\n",
    "for p in primes:\n",
    "    squared = p ** 2\n",
    "    cubed = p ** 3\n",
    "    print(p, squared, cubed)"
   ]
  },
  {
   "cell_type": "markdown",
   "metadata": {},
   "source": [
    "## Use `range` to iterate over a sequence of numbers\n",
    "\n",
    "- This is an easy way to generate a sequence of numbers to make looping over large ranges more efficient\n",
    "- `range(n)` is the numbers 0 ... *n*-1\n",
    "    - recall that Python counts from zero\n",
    "    - as with slicing, `range()` goes up to, but does not include, the last value\n"
   ]
  },
  {
   "cell_type": "code",
   "execution_count": 10,
   "metadata": {},
   "outputs": [
    {
     "name": "stdout",
     "output_type": "stream",
     "text": [
      "0\n",
      "1\n",
      "2\n",
      "3\n",
      "4\n",
      "5\n",
      "6\n",
      "7\n",
      "8\n",
      "9\n"
     ]
    }
   ],
   "source": [
    "for i in range(10):\n",
    "    print(i)"
   ]
  },
  {
   "cell_type": "markdown",
   "metadata": {},
   "source": [
    "- If we provide two arguments to `range()`, the first is the start and the second is the end of the range:\n",
    "\n"
   ]
  },
  {
   "cell_type": "code",
   "execution_count": 11,
   "metadata": {},
   "outputs": [
    {
     "name": "stdout",
     "output_type": "stream",
     "text": [
      "10\n",
      "11\n",
      "12\n",
      "13\n",
      "14\n"
     ]
    }
   ],
   "source": [
    "for i in range(10, 15):\n",
    "    print(i)"
   ]
  },
  {
   "cell_type": "markdown",
   "metadata": {},
   "source": [
    "- Although the `range()` function can substitute for typing out a list, it does not actually produce a list\n",
    "- The numbers are produced on demand to make looping over large ranges more efficient. We can see this by printing the result of calling the `range()` function:\n"
   ]
  },
  {
   "cell_type": "code",
   "execution_count": 12,
   "metadata": {},
   "outputs": [
    {
     "name": "stdout",
     "output_type": "stream",
     "text": [
      "range(0, 10)\n"
     ]
    }
   ],
   "source": [
    "print(range(10))"
   ]
  },
  {
   "cell_type": "markdown",
   "metadata": {},
   "source": [
    "...or by printing its type:\n"
   ]
  },
  {
   "cell_type": "code",
   "execution_count": 13,
   "metadata": {},
   "outputs": [
    {
     "name": "stdout",
     "output_type": "stream",
     "text": [
      "<class 'range'>\n"
     ]
    }
   ],
   "source": [
    "print(type(range(10)))"
   ]
  },
  {
   "cell_type": "markdown",
   "metadata": {},
   "source": [
    "## The \"accumulator\" pattern turns many values into one\n",
    "\n",
    "A common pattern in programs is to:\n",
    "1.  Initialize an *accumulator* variable to zero\n",
    "2.  Update the variable with values from a collection.\n",
    "\n",
    "- The code below sums the integers 1-10:"
   ]
  },
  {
   "cell_type": "code",
   "execution_count": 14,
   "metadata": {},
   "outputs": [
    {
     "name": "stdout",
     "output_type": "stream",
     "text": [
      "55\n"
     ]
    }
   ],
   "source": [
    "total = 0\n",
    "\n",
    "for number in range(1, 11):\n",
    "    total = total + number\n",
    "    \n",
    "print(total)"
   ]
  },
  {
   "cell_type": "markdown",
   "metadata": {},
   "source": [
    "- Note that we specify a range of 1-11 because the `range()` goes up to, but does not include, the 'end' number"
   ]
  },
  {
   "cell_type": "markdown",
   "metadata": {},
   "source": [
    "*   Read `total = total + number ` as:\n",
    "    *   Add the value of `number` to the current value of the accumulator variable `total`.\n",
    "    *   Assign that to `total`, replacing the current value."
   ]
  },
  {
   "cell_type": "markdown",
   "metadata": {},
   "source": [
    "## Accumulators can also be empty lists\n",
    "\n",
    "This is where empty lists and the `.append()` method can be really useful - we can initialize an empty list and the append to it each time through the loop:"
   ]
  },
  {
   "cell_type": "code",
   "execution_count": 15,
   "metadata": {},
   "outputs": [
    {
     "name": "stdout",
     "output_type": "stream",
     "text": [
      "[0, 2, 4, 6, 8, 10, 12, 14, 16, 18]\n"
     ]
    }
   ],
   "source": [
    "output = []\n",
    "for i in range(10):\n",
    "    output.append(i * 2)\n",
    "    \n",
    "print(output)"
   ]
  },
  {
   "cell_type": "markdown",
   "metadata": {},
   "source": [
    "## List comprehension\n",
    "\n",
    "- List comprehension is a special kind of `for` loop that you can use to create a list \n",
    "- This can be a very powerful and compact way of doing things\n",
    "- For example, the following code creates a list of values from 1 to 10 in a single line of code:"
   ]
  },
  {
   "cell_type": "code",
   "execution_count": 16,
   "metadata": {},
   "outputs": [
    {
     "data": {
      "text/plain": [
       "[1, 2, 3, 4, 5, 6, 7, 8, 9, 10]"
      ]
     },
     "execution_count": 16,
     "metadata": {},
     "output_type": "execute_result"
    }
   ],
   "source": [
    "[x for x in range(1, 11)]"
   ]
  },
  {
   "cell_type": "markdown",
   "metadata": {},
   "source": [
    "- List comprehension can be very useful if you want to apply some operation to every value in a list\n",
    "- For example, let's say we had a set of times in seconds, and we wanted to convert them to milliseconds (thousandths of a second):\n"
   ]
  },
  {
   "cell_type": "code",
   "execution_count": 17,
   "metadata": {},
   "outputs": [
    {
     "name": "stdout",
     "output_type": "stream",
     "text": [
      "[198.59864, 1355.44082, 812.98099, 1808.73061, 789.08326, 1402.4270800000002, 395.63692, 1916.73302, 1075.2498500000002, 1021.6902100000001]\n"
     ]
    }
   ],
   "source": [
    "time_sec = [0.19859864, 1.35544082,  0.81298099,  1.80873061,  0.78908326, \n",
    "            1.40242708, 0.39563692,  1.91673302, 1.07524985, 1.02169021]\n",
    "\n",
    "time_ms = [t * 1000 for t in time_sec]\n",
    "\n",
    "print(time_ms)"
   ]
  },
  {
   "cell_type": "markdown",
   "metadata": {},
   "source": [
    "The equivalent `for` loop would require three lines of code:"
   ]
  },
  {
   "cell_type": "code",
   "execution_count": 18,
   "metadata": {},
   "outputs": [
    {
     "name": "stdout",
     "output_type": "stream",
     "text": [
      "[198.59864, 1355.44082, 812.98099, 1808.73061, 789.08326, 1402.4270800000002, 395.63692, 1916.73302, 1075.2498500000002, 1021.6902100000001]\n"
     ]
    }
   ],
   "source": [
    "time_ms = []\n",
    "\n",
    "for t in time_sec:\n",
    "    time_ms.append(t * 1000)\n",
    "    \n",
    "print(time_ms)    "
   ]
  },
  {
   "cell_type": "markdown",
   "metadata": {},
   "source": [
    "We can put multiple operations in a list comprehension, for example to  also round our milliseconds down to whole numbers:\n"
   ]
  },
  {
   "cell_type": "code",
   "execution_count": 19,
   "metadata": {},
   "outputs": [
    {
     "name": "stdout",
     "output_type": "stream",
     "text": [
      "[199, 1355, 813, 1809, 789, 1402, 396, 1917, 1075, 1022]\n"
     ]
    }
   ],
   "source": [
    "time_ms = [round(t * 1000) for t in time_sec]\n",
    "\n",
    "print(time_ms)"
   ]
  },
  {
   "cell_type": "markdown",
   "metadata": {
    "tags": []
   },
   "source": [
    "## Lambda Functions and Mapping\n",
    "\n",
    "Yet another way of performing an operation over a collection, is by combining `map()` and `lambda` functions.  Recall that *functions* are Python commands like `print()` and `type()`. A Python function is actually a program that is run when you execute the function.\n",
    "\n",
    "[`lambda` functions](https://www.datacamp.com/community/tutorials/python-lambda) are a way of creating your own very small functions, on the fly, to perform a specific operation or combination of operations. Lambda functions take variables as input and return a value (the results of the operations it performs). A lambda function is composed of:\n",
    "- the statement `lambda`\n",
    "- the argument(s) — the variable(s) you pass to the operations in the lambda function\n",
    "- a colon\n",
    "- the expression (operations you want the function to perform on the arguments)\n",
    "\n",
    "For example, we-writing the above code to convert seconds to milliseconds and round to integers as a lambda function would be:\n",
    "\n",
    "~~~python\n",
    "lambda t: round(t * 1000)\n",
    "~~~\n",
    "\n",
    "### Mapping\n",
    "\n",
    "As with the `print()` or `round()` functions, with a lambda function you need to pass something to it as an argument for it to operate on. The variable `t` in the lambda function above represents the argument passed to the lambda function. We can pass a collection to a lambda function, so that it will be applied to each item in the collection.  \n",
    "\n",
    "The `map()` function is used to apply a lambda function to a collection, instead of using a `for` loop\n",
    "\n",
    "`map()` takes two arguments:\n",
    "- the function you want to apply\n",
    "- the collection you want to apply it to\n",
    "\n",
    "The code below maps the convert-to-milliseconds-and-round function to the `time_sec` list:"
   ]
  },
  {
   "cell_type": "code",
   "execution_count": 20,
   "metadata": {},
   "outputs": [],
   "source": [
    "time_ms = map(lambda t: round(t * 1000), \n",
    "              time_sec)"
   ]
  },
  {
   "cell_type": "markdown",
   "metadata": {},
   "source": [
    "However, the result is not a list, but a Python `map' object:"
   ]
  },
  {
   "cell_type": "code",
   "execution_count": 21,
   "metadata": {},
   "outputs": [
    {
     "name": "stdout",
     "output_type": "stream",
     "text": [
      "<class 'map'>\n",
      "<map object at 0x110b85e40>\n"
     ]
    }
   ],
   "source": [
    "print(type(time_ms))\n",
    "print(time_ms)"
   ]
  },
  {
   "cell_type": "markdown",
   "metadata": {},
   "source": [
    "This is because the result of the `map()` function is a *mapping* between the lambda function and the collection. That is, it specifies how a function is applied to the collection, but it doesn't actually apply the function until you ask it to generate output. We can do this by telling Python to format the result of the mapping as a list with the `list()` function:"
   ]
  },
  {
   "cell_type": "code",
   "execution_count": 22,
   "metadata": {},
   "outputs": [
    {
     "name": "stdout",
     "output_type": "stream",
     "text": [
      "[199, 1355, 813, 1809, 789, 1402, 396, 1917, 1075, 1022]\n"
     ]
    }
   ],
   "source": [
    "time_ms = list(map(lambda t: round(t * 1000), \n",
    "                   time_sec))\n",
    "\n",
    "print(time_ms)"
   ]
  },
  {
   "cell_type": "markdown",
   "metadata": {
    "jp-MarkdownHeadingCollapsed": true,
    "tags": []
   },
   "source": [
    "## Which to use?\n",
    "\n",
    "- `for` loops are the most general, multipurpose way of performing an operation over many items\n",
    "- `for` loops are quite explicit compared to list comprehensions or mapped lambda functions, and a good way to start tackling any problem\n",
    "- The body of `for` loops can be of any length, whereas list comprehensions and lambda functions are best used with only one or a few operations\n",
    "- List comprehensions result in lists, which is not always what you want out of a `for` loop\n",
    "- List comprehensions are generally faster than `for` loops, for creating lists\n",
    "- Lambda functions will become useful later in the course, as we start working with larger data sets. Stay tuned!"
   ]
  },
  {
   "cell_type": "markdown",
   "metadata": {
    "tags": []
   },
   "source": [
    "---\n",
    "## Exercises"
   ]
  },
  {
   "cell_type": "markdown",
   "metadata": {},
   "source": [
    "### Tracing Execution\n",
    "\n",
    "In the Markdown cell below (not code!) trace the execution of the `for` loop as it would run. That is, type what you expect would be the values of `total` and `c` each time through the loop. Use a separate line for each pass through the loop.\n",
    "\n",
    "~~~python\n",
    "total = 0\n",
    "for c in 'tin':\n",
    "    total = total + 1\n",
    "~~~\n",
    "\n",
    "An interesting thing to note in this example is that we never use the looping variable (`c`) inside the loop; we only use it to control how many times we go through the loop. It's a bit odd to use a string to define the number of times we want to perform an operation (since we're not operating on the string), but it's entirely valid Python code."
   ]
  },
  {
   "cell_type": "markdown",
   "metadata": {},
   "source": []
  },
  {
   "cell_type": "markdown",
   "metadata": {},
   "source": [
    "### Reversing a String\n",
    "\n",
    "Fill in the blanks in the program below so that it reverses the order of the letters in `original` (Hint: remember that you can concatenate strings in Python with the `+` operator)\n",
    "\n",
    "~~~python\n",
    "original = 'semordnilap'\n",
    "result = ____ \n",
    "for char in original:\n",
    "    result = ____\n",
    "\n",
    "print(result)\n",
    "~~~"
   ]
  },
  {
   "cell_type": "markdown",
   "metadata": {
    "jp-MarkdownHeadingCollapsed": true,
    "tags": []
   },
   "source": [
    "```{admonition} Click the plus to show the answer\n",
    ":class: dropdown\n",
    "```python\n",
    "original = 'semordnilap'\n",
    "result = ''\n",
    "\n",
    "for char in original:\n",
    "    result = char + result\n",
    "    \n",
    "print(result)\n",
    "\n",
    "```"
   ]
  },
  {
   "cell_type": "markdown",
   "metadata": {},
   "source": [
    "### Practice Accumulating\n",
    "\n",
    "Fill in the blanks in each of the programs below\n",
    "to produce the indicated result.\n",
    "\n",
    "#### 1. Print the total number of characters in all of the words in the list \n",
    "(Correct answer is 12)\n",
    "\n",
    "~~~python\n",
    "total = 0\n",
    "\n",
    "for word in ['red', 'green', 'blue']:\n",
    "    ____ = ____ + len(word)\n",
    "\n",
    "print(total)\n",
    "~~~"
   ]
  },
  {
   "cell_type": "markdown",
   "metadata": {},
   "source": [
    "```{admonition} Click the plus to show the answer\n",
    ":class: dropdown\n",
    "~~~python\n",
    "total = 0\n",
    "for word in ['red', 'green', 'blue']:\n",
    "    total = total + len(word)\n",
    "print(total)\n",
    "~~~\n",
    "```"
   ]
  },
  {
   "cell_type": "markdown",
   "metadata": {},
   "source": [
    "#### 2. Print a list of the lengths of *each* word in the list \n",
    "(correct answer is `[3, 5, 4]`)"
   ]
  },
  {
   "cell_type": "markdown",
   "metadata": {},
   "source": [
    "~~~python\n",
    "lengths = ____\n",
    "\n",
    "for word in ['red', 'green', 'blue']:\n",
    "    lengths.____(____)\n",
    "\n",
    "print(lengths)\n",
    "~~~"
   ]
  },
  {
   "cell_type": "markdown",
   "metadata": {},
   "source": [
    "```{admonition} Click the plus to show the answer\n",
    ":class: dropdown\n",
    "~~~python\n",
    "lengths = []\n",
    "for word in ['red', 'green', 'blue']:\n",
    "    lengths.append(len(word))\n",
    "print(lengths)\n",
    "~~~\n",
    "```"
   ]
  },
  {
   "cell_type": "markdown",
   "metadata": {},
   "source": [
    "#### 3. Concatenate all of the words in the list into one string\n",
    "(correct answer is `\"redgreenblue\"`)"
   ]
  },
  {
   "cell_type": "markdown",
   "metadata": {},
   "source": [
    "```python\n",
    "words = ['red', 'green', 'blue']\n",
    "result = ____\n",
    "\n",
    "for ____ in ____:\n",
    "    ____\n",
    "    \n",
    "print(result)\n",
    "```"
   ]
  },
  {
   "cell_type": "markdown",
   "metadata": {},
   "source": [
    "```{admonition} Click the plus to show the answer\n",
    ":class: dropdown\n",
    "\n",
    "~~~python\n",
    "words = ['red', 'green', 'blue']\n",
    "\n",
    "result = ''\n",
    "for word in words:\n",
    "    result = result + word\n",
    "print(result)\n",
    "~~~\n",
    "```"
   ]
  },
  {
   "cell_type": "markdown",
   "metadata": {},
   "source": [
    "#### 4. Create acronym: [\"red\", \"green\", \"blue\"] = \"RGB\"\n",
    "\n",
    "Write all the code this time!\n",
    "\n",
    "Hint: Python as a `.upper()` method that works on characters and strings"
   ]
  },
  {
   "cell_type": "code",
   "execution_count": null,
   "metadata": {},
   "outputs": [],
   "source": []
  },
  {
   "cell_type": "markdown",
   "metadata": {},
   "source": [
    "```{admonition} Click the plus to show the answer\n",
    ":class: dropdown\n",
    "\n",
    "~~~python\n",
    "acronym = ''\n",
    "\n",
    "for word in ['red', 'green', 'blue']:\n",
    "    acronym = acronym + word[0].upper()\n",
    "    \n",
    "print(acronym)\n",
    "~~~\n",
    "```"
   ]
  },
  {
   "cell_type": "markdown",
   "metadata": {},
   "source": [
    "### Cumulative Sum\n",
    "\n",
    "Reorder and properly indent the lines of code below\n",
    "so that they print a list with the cumulative sum of data.\n",
    "The result should be `[1, 3, 5, 10]`.\n",
    "\n",
    "~~~python\n",
    "cumulative.append(sum)\n",
    "for number in data:\n",
    "cumulative = []\n",
    "sum += number\n",
    "sum = 0\n",
    "print(cumulative)\n",
    "data = [1, 2, 2, 5]\n",
    "~~~"
   ]
  },
  {
   "cell_type": "markdown",
   "metadata": {},
   "source": [
    "```{admonition} Click the plus to show the answer\n",
    ":class: dropdown\n",
    "~~~python\n",
    "sum = 0\n",
    "data = [1, 2, 2, 5]\n",
    "cumulative = []\n",
    "for number in data:\n",
    "    sum += number\n",
    "    cumulative.append(sum)\n",
    "print(cumulative)\n",
    "~~~\n",
    "```"
   ]
  },
  {
   "cell_type": "markdown",
   "metadata": {},
   "source": [
    "### Identifying Item Errors\n",
    "\n",
    "1. Read the code below and try to identify what the errors are *without* running it.\n",
    "1. Run the code, and read the error message. What type of error is it?\n",
    "1. Fix the error.\n",
    "\n",
    "~~~python\n",
    "seasons = ['Spring', 'Summer', 'Fall', 'Winter']\n",
    "print('My favorite season is ', seasons[4])\n",
    "~~~"
   ]
  },
  {
   "cell_type": "markdown",
   "metadata": {},
   "source": [
    "```{admonition} Click the plus to show the answer\n",
    ":class: dropdown\n",
    "~~~python\n",
    "# This list has 4 elements and the index to access the last element in the list is `3`.\n",
    "seasons = ['Spring', 'Summer', 'Fall', 'Winter']\n",
    "print('My favorite season is ', seasons[3])\n",
    "~~~\n",
    "```"
   ]
  },
  {
   "cell_type": "markdown",
   "metadata": {
    "jupyter": {
     "outputs_hidden": false
    },
    "tags": []
   },
   "source": [
    "---\n",
    "## Summary of Key Points:\n",
    "\n",
    "- A `for` loop executes commands once for each value in a collection.\n",
    "- A `for` loop is made up of a collection, a loop variable, and a body.\n",
    "- The first line of the `for` loop must end with a colon, and the body must be indented.\n",
    "- Indentation is always meaningful in Python.\n",
    "- Loop variables can be called anything (but it is strongly advised to have a meaningful name to the looping variable).\n",
    "- The body of a loop can contain many statements.\n",
    "- Use `range` to iterate over a sequence of numbers.\n",
    "- The *accumulator* pattern turns many values into one.\n",
    "- List comprehension is a powerful way to create lists using a `for` loop, in a single line of code.\n",
    "- Mapped lambda functions are another way of performing an operation(s) over a collection of values"
   ]
  },
  {
   "cell_type": "markdown",
   "metadata": {},
   "source": [
    "---\n",
    "This lesson is adapted from the [Software Carpentry](https://software-carpentry.org/lessons/) [Plotting and Programming in Python](http://swcarpentry.github.io/python-novice-gapminder/) workshop. "
   ]
  }
 ],
 "metadata": {
  "kernelspec": {
   "display_name": "Python 3 (ipykernel)",
   "language": "python",
   "name": "python3"
  },
  "language_info": {
   "codemirror_mode": {
    "name": "ipython",
    "version": 3
   },
   "file_extension": ".py",
   "mimetype": "text/x-python",
   "name": "python",
   "nbconvert_exporter": "python",
   "pygments_lexer": "ipython3",
   "version": "3.10.12"
  }
 },
 "nbformat": 4,
 "nbformat_minor": 4
}
