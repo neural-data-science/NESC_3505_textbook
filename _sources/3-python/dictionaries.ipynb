{
 "cells": [
  {
   "cell_type": "markdown",
   "metadata": {},
   "source": [
    "# Dictionaries\n",
    "\n",
    "- [Watch a walk-through of this lesson on YouTube](https://youtu.be/Owig-7vPyPU)\n",
    "- [Download all the Jupyter notebooks and other files you need to complete the lessons in this chapter (Chapter 3)](https://github.com/neural-data-science/Introducing-Python)\n",
    "- Turn **off** the GitHub Copilot AI assistant so you can focus on learning Python using your HI (human intelligence). Click the `Deactivate Copilot` button in the bottom right of VS Code, if it is currently activated.\n",
    "\n",
    "---"
   ]
  },
  {
   "cell_type": "markdown",
   "metadata": {},
   "source": [
    "## Questions:\n",
    "- How can I organize data to store values associated with labels?\n",
    "- How do I work with such data structures?\n",
    "\n",
    "## Learning Objectives:\n",
    "- Be able to store data in dictionaries\n",
    "- Be able to retrieve specific items from dictionaries\n",
    "---"
   ]
  },
  {
   "cell_type": "markdown",
   "metadata": {},
   "source": [
    "## Dictionaries are mappings\n",
    "\n",
    "- Python provides a valuable data type called the **dictionary** (often abbreviated as \"dict\")\n",
    "- Dictionaries are *collections* — Python data types that store multiple values — like lists or strings\n",
    "- However, dictionaries are *mappings*. Like a traditional dictionary that contains a word, followed by a definition, dictionaries are pairings of **keys** and **values**\n",
    "- A dictionary can be defined using curly braces that specify key-value mappings using the colon (`:`)\n",
    "- For example, the following defines a dictionary with four keys (`First Name`, `Last Name`, etc.), each with an associated value:\n"
   ]
  },
  {
   "cell_type": "code",
   "execution_count": 1,
   "metadata": {
    "collapsed": false,
    "jupyter": {
     "outputs_hidden": false
    }
   },
   "outputs": [],
   "source": [
    "my_info = {'First Name':'Annikki', \n",
    "           'Last Name':'Bogdana', \n",
    "           'Age':15, \n",
    "           'Height':1.66}"
   ]
  },
  {
   "cell_type": "markdown",
   "metadata": {},
   "source": [
    "- Like lists, dictionaries can contain a mixture of data types. \n",
    "- Dictionary **keys** must be an *immutable* type, such as a string or number (int or float). This is because dictionaries are organized by keys, and once a key is defined, it cannot be changed. \n",
    "- Dictionary **values** can be any type. \n",
    "\n",
    "The values in a dictionary are accessed using their keys inside square brackets:\n"
   ]
  },
  {
   "cell_type": "code",
   "execution_count": 2,
   "metadata": {
    "collapsed": false,
    "jupyter": {
     "outputs_hidden": false
    }
   },
   "outputs": [
    {
     "data": {
      "text/plain": [
       "'Annikki'"
      ]
     },
     "execution_count": 2,
     "metadata": {},
     "output_type": "execute_result"
    }
   ],
   "source": [
    "my_info['First Name']"
   ]
  },
  {
   "cell_type": "markdown",
   "metadata": {},
   "source": [
    "## Why Dictionaries?"
   ]
  },
  {
   "cell_type": "markdown",
   "metadata": {},
   "source": [
    "- Dictionaries provide a convenient way for labelling data. For example, in the previous lesson on lists, we used an example of a list of life expectancies for a country (Canada) for different years:\n",
    "\n",
    "~~~python\n",
    "life_exp = [48.1, 56.6, 64.0, 71.0, 75.2, 79.2]\n",
    "~~~\n",
    "\n",
    "- One limitation of using list like this, is that we don't know what years the values are associated with. For example, in what year was 48.1 the average life expectancy?\n",
    "\n",
    "- Dictionaries solve this problem, because we can use the keys to label the data. For example define the following dictionary in which keys indicated years, and values are life expectancies:\n",
    "\n",
    "~~~python\n",
    "life_exp = {1900:48.1, 1920:56.6, 1940:64.0, 1960:71.0, 1980:75.2, 2000:79.2}\n",
    "~~~\n",
    "\n",
    "- In defining a dictionary, we use **curly braces {}** \n",
    "- We associate keys and values with a colon **`:`**"
   ]
  },
  {
   "cell_type": "code",
   "execution_count": 3,
   "metadata": {
    "collapsed": false,
    "jupyter": {
     "outputs_hidden": false
    }
   },
   "outputs": [],
   "source": [
    "life_exp = {1900:48.1, 1920:56.6, 1940:64.0, 1960:71.0, 1980:75.2, 2000:79.2}"
   ]
  },
  {
   "cell_type": "markdown",
   "metadata": {},
   "source": [
    "- Now we can see the life expectancy associated with a given year like so:\n"
   ]
  },
  {
   "cell_type": "code",
   "execution_count": 4,
   "metadata": {
    "collapsed": false,
    "jupyter": {
     "outputs_hidden": false
    }
   },
   "outputs": [
    {
     "data": {
      "text/plain": [
       "64.0"
      ]
     },
     "execution_count": 4,
     "metadata": {},
     "output_type": "execute_result"
    }
   ],
   "source": [
    "life_exp[1940]"
   ]
  },
  {
   "cell_type": "markdown",
   "metadata": {},
   "source": [
    "- What happens if we ask for a key that doesn't exist?\n"
   ]
  },
  {
   "cell_type": "code",
   "execution_count": 5,
   "metadata": {
    "collapsed": false,
    "jupyter": {
     "outputs_hidden": false
    }
   },
   "outputs": [
    {
     "ename": "KeyError",
     "evalue": "2021",
     "output_type": "error",
     "traceback": [
      "\u001b[0;31m---------------------------------------------------------------------------\u001b[0m",
      "\u001b[0;31mKeyError\u001b[0m                                  Traceback (most recent call last)",
      "\u001b[0;32m/var/folders/x0/pvpjfdzd39sc5rqvsk5lvv4m0000gn/T/ipykernel_12883/170411263.py\u001b[0m in \u001b[0;36m<module>\u001b[0;34m\u001b[0m\n\u001b[0;32m----> 1\u001b[0;31m \u001b[0mlife_exp\u001b[0m\u001b[0;34m[\u001b[0m\u001b[0;36m2021\u001b[0m\u001b[0;34m]\u001b[0m\u001b[0;34m\u001b[0m\u001b[0;34m\u001b[0m\u001b[0m\n\u001b[0m",
      "\u001b[0;31mKeyError\u001b[0m: 2021"
     ]
    }
   ],
   "source": [
    "life_exp[2021]"
   ]
  },
  {
   "cell_type": "markdown",
   "metadata": {},
   "source": [
    "- We get a specific type of error called a KeyError, which tells us that the key isn't defined"
   ]
  },
  {
   "cell_type": "markdown",
   "metadata": {},
   "source": [
    "## Dictionaries are mutable \n",
    "\n",
    "- We previously discussed the difference between *immutable* types like strings — whose contents cannot be changed — and *mutable* types like lists — which can be changed. Dictionaries are mutable.\n",
    "- This means we can:\n",
    "    - add new key:value pairs after the dictionary is first defined, and \n",
    "    - modify the values associated with existing keys\n",
    "- For example, we can add a new key:value pair by using the dict name plus square brackets to specify a new key, followed by `=` to assign the value to this key:\n"
   ]
  },
  {
   "cell_type": "code",
   "execution_count": 6,
   "metadata": {
    "collapsed": false,
    "jupyter": {
     "outputs_hidden": false
    }
   },
   "outputs": [
    {
     "name": "stdout",
     "output_type": "stream",
     "text": [
      "{1900: 48.1, 1920: 56.6, 1940: 64.0, 1960: 71.0, 1980: 75.2, 2000: 79.2, 2020: 83.2}\n"
     ]
    }
   ],
   "source": [
    "life_exp[2020] = 83.2\n",
    "print(life_exp)"
   ]
  },
  {
   "cell_type": "markdown",
   "metadata": {},
   "source": [
    "- We can also change the value for an existing key in the same way. In the example above we assigned the wrong value to 2020; it should be 82.3 not 83.2. So we can fix it like this:"
   ]
  },
  {
   "cell_type": "code",
   "execution_count": 7,
   "metadata": {
    "collapsed": false,
    "jupyter": {
     "outputs_hidden": false
    }
   },
   "outputs": [
    {
     "name": "stdout",
     "output_type": "stream",
     "text": [
      "{1900: 48.1, 1920: 56.6, 1940: 64.0, 1960: 71.0, 1980: 75.2, 2000: 79.2, 2020: 82.3}\n"
     ]
    }
   ],
   "source": [
    "life_exp[2020] = 82.3\n",
    "print(life_exp)"
   ]
  },
  {
   "cell_type": "markdown",
   "metadata": {},
   "source": [
    "- Note that Python doesn't warn you if you're overwriting a value associated with an existing key."
   ]
  },
  {
   "cell_type": "markdown",
   "metadata": {},
   "source": [
    "### Dictionary keys cannot be renamed\n",
    "- Although dictionaries are mutable, we can't rename dictionary *keys*. However, we can delete existing entries and create new ones if we need to. \n",
    "- For example, below we add a life expectancy value for the year 2040, but we mistakenly make the key a string instead of an integer like the other, existing keys:\n"
   ]
  },
  {
   "cell_type": "code",
   "execution_count": 8,
   "metadata": {
    "collapsed": false,
    "jupyter": {
     "outputs_hidden": false
    }
   },
   "outputs": [
    {
     "name": "stdout",
     "output_type": "stream",
     "text": [
      "{1900: 48.1, 1920: 56.6, 1940: 64.0, 1960: 71.0, 1980: 75.2, 2000: 79.2, 2020: 82.3, '2040': 85.1}\n"
     ]
    }
   ],
   "source": [
    "life_exp['2040'] = 85.1\n",
    "print(life_exp)"
   ]
  },
  {
   "cell_type": "markdown",
   "metadata": {},
   "source": [
    "- We can add another entry using the correct (integer) key, but this doesn't delete the old entry:"
   ]
  },
  {
   "cell_type": "code",
   "execution_count": 9,
   "metadata": {},
   "outputs": [
    {
     "name": "stdout",
     "output_type": "stream",
     "text": [
      "{1900: 48.1, 1920: 56.6, 1940: 64.0, 1960: 71.0, 1980: 75.2, 2000: 79.2, 2020: 82.3, '2040': 85.1, 2040: 85.1}\n"
     ]
    }
   ],
   "source": [
    "life_exp[2040] = 85.1\n",
    "print(life_exp)"
   ]
  },
  {
   "cell_type": "markdown",
   "metadata": {},
   "source": [
    "- Alternatively, rather than manually entering the new value manually, we can copy it from the value corresponding to the original (incorrect) key:"
   ]
  },
  {
   "cell_type": "code",
   "execution_count": 10,
   "metadata": {},
   "outputs": [
    {
     "name": "stdout",
     "output_type": "stream",
     "text": [
      "{1900: 48.1, 1920: 56.6, 1940: 64.0, 1960: 71.0, 1980: 75.2, 2000: 79.2, 2020: 82.3, '2040': 85.1, 2040: 85.1}\n"
     ]
    }
   ],
   "source": [
    "life_exp[2040] = life_exp['2040']\n",
    "print(life_exp)"
   ]
  },
  {
   "cell_type": "markdown",
   "metadata": {},
   "source": [
    "- Whether we manually enter a new key:value pair, or copy a value from an existing dictionary entry, we still retain the original dictionary entry (in this case, `'2040'`)"
   ]
  },
  {
   "cell_type": "markdown",
   "metadata": {},
   "source": [
    "### Removing dictionary entries\n",
    "\n",
    "- We can remove a dictionary entry with the **`del`** statement. `del` is a Python *statement* (not a function or method), so it is followed by a space rather than parentheses:"
   ]
  },
  {
   "cell_type": "code",
   "execution_count": 11,
   "metadata": {},
   "outputs": [
    {
     "name": "stdout",
     "output_type": "stream",
     "text": [
      "{1900: 48.1, 1920: 56.6, 1940: 64.0, 1960: 71.0, 1980: 75.2, 2000: 79.2, 2020: 82.3, 2040: 85.1}\n"
     ]
    }
   ],
   "source": [
    "del life_exp['2040']\n",
    "print(life_exp)"
   ]
  },
  {
   "cell_type": "markdown",
   "metadata": {},
   "source": [
    "- We can alternatively remove a dictionary item using the **`.pop()`** method, as we saw last time for lists. \n",
    "- The key for the dictionary entry you wish to delete is the argument you pass to `.pop()`\n",
    "- In this example we first create an erroneous entry, then remove it with `.pop()`:"
   ]
  },
  {
   "cell_type": "code",
   "execution_count": 12,
   "metadata": {},
   "outputs": [
    {
     "name": "stdout",
     "output_type": "stream",
     "text": [
      "{1900: 48.1, 1920: 56.6, 1940: 64.0, 1960: 71.0, 1980: 75.2, 2000: 79.2, 2020: 82.3, 2040: 85.1, 200: 79.2}\n",
      "{1900: 48.1, 1920: 56.6, 1940: 64.0, 1960: 71.0, 1980: 75.2, 2000: 79.2, 2020: 82.3, 2040: 85.1}\n"
     ]
    }
   ],
   "source": [
    "# Create incorrect entry\n",
    "life_exp[200] = 79.2\n",
    "print(life_exp)\n",
    "\n",
    "# Remove incorrect entry\n",
    "life_exp.pop(200)\n",
    "print(life_exp)"
   ]
  },
  {
   "cell_type": "markdown",
   "metadata": {},
   "source": [
    "## Dictionaries are unordered\n",
    "- Both strings and lists are *ordered* — the items exist in a string or list in a specific order. This is why we can use integers to index string or list items based on their position\n",
    "- Dictionaries, in contrast, are *unordered*. Because they are not ordered, you can't access values using numerical indexing, only by their keys. For example, this will fail:\n"
   ]
  },
  {
   "cell_type": "code",
   "execution_count": 13,
   "metadata": {
    "collapsed": false,
    "jupyter": {
     "outputs_hidden": false
    }
   },
   "outputs": [
    {
     "ename": "KeyError",
     "evalue": "0",
     "output_type": "error",
     "traceback": [
      "\u001b[0;31m---------------------------------------------------------------------------\u001b[0m",
      "\u001b[0;31mKeyError\u001b[0m                                  Traceback (most recent call last)",
      "\u001b[0;32m/var/folders/x0/pvpjfdzd39sc5rqvsk5lvv4m0000gn/T/ipykernel_12883/1067234015.py\u001b[0m in \u001b[0;36m<module>\u001b[0;34m\u001b[0m\n\u001b[0;32m----> 1\u001b[0;31m \u001b[0mlife_exp\u001b[0m\u001b[0;34m[\u001b[0m\u001b[0;36m0\u001b[0m\u001b[0;34m]\u001b[0m\u001b[0;34m\u001b[0m\u001b[0;34m\u001b[0m\u001b[0m\n\u001b[0m",
      "\u001b[0;31mKeyError\u001b[0m: 0"
     ]
    }
   ],
   "source": [
    "life_exp[0]"
   ]
  },
  {
   "cell_type": "markdown",
   "metadata": {},
   "source": [
    "- The code above results in a `KeyError`, because Python interprets what's in the square brackets as a dictionary key, not a sequential index. This makes sense, since dictionary keys can be integers."
   ]
  },
  {
   "cell_type": "markdown",
   "metadata": {},
   "source": [
    "## Dictionaries have properties\n",
    "\n",
    "- Like other Python collections, dictionaries have a length property, which is the number of key:value pairs:\n"
   ]
  },
  {
   "cell_type": "code",
   "execution_count": 14,
   "metadata": {
    "collapsed": false,
    "jupyter": {
     "outputs_hidden": false
    }
   },
   "outputs": [
    {
     "data": {
      "text/plain": [
       "8"
      ]
     },
     "execution_count": 14,
     "metadata": {},
     "output_type": "execute_result"
    }
   ],
   "source": [
    "len(life_exp)"
   ]
  },
  {
   "cell_type": "markdown",
   "metadata": {},
   "source": [
    "## Viewing all the keys or values in a dictionary\n",
    "\n",
    "- You can view the entire set of keys in a dictionary like this:\n",
    "    "
   ]
  },
  {
   "cell_type": "code",
   "execution_count": 15,
   "metadata": {
    "collapsed": false,
    "jupyter": {
     "outputs_hidden": false
    }
   },
   "outputs": [
    {
     "data": {
      "text/plain": [
       "dict_keys([1900, 1920, 1940, 1960, 1980, 2000, 2020, 2040])"
      ]
     },
     "execution_count": 15,
     "metadata": {},
     "output_type": "execute_result"
    }
   ],
   "source": [
    "life_exp.keys()"
   ]
  },
  {
   "cell_type": "markdown",
   "metadata": {},
   "source": [
    "- Likewise, you can view all of the values using `.values()`:\n"
   ]
  },
  {
   "cell_type": "code",
   "execution_count": 16,
   "metadata": {
    "collapsed": false,
    "jupyter": {
     "outputs_hidden": false
    }
   },
   "outputs": [
    {
     "data": {
      "text/plain": [
       "dict_values([48.1, 56.6, 64.0, 71.0, 75.2, 79.2, 82.3, 85.1])"
      ]
     },
     "execution_count": 16,
     "metadata": {},
     "output_type": "execute_result"
    }
   ],
   "source": [
    "life_exp.values()"
   ]
  },
  {
   "cell_type": "markdown",
   "metadata": {},
   "source": [
    "- You can also view both the keys and values at once, using `.items()`:\n"
   ]
  },
  {
   "cell_type": "code",
   "execution_count": 17,
   "metadata": {
    "collapsed": false,
    "jupyter": {
     "outputs_hidden": false
    }
   },
   "outputs": [
    {
     "data": {
      "text/plain": [
       "dict_items([(1900, 48.1), (1920, 56.6), (1940, 64.0), (1960, 71.0), (1980, 75.2), (2000, 79.2), (2020, 82.3), (2040, 85.1)])"
      ]
     },
     "execution_count": 17,
     "metadata": {},
     "output_type": "execute_result"
    }
   ],
   "source": [
    "life_exp.items()"
   ]
  },
  {
   "cell_type": "markdown",
   "metadata": {},
   "source": [
    "- The output of `.items()` is more complex than just asking Python to print the dictionary, but it's organized in a way that will be useful in later lessons, for example if you want to systematically do the same thing to each item in a a dictionary.\n",
    "\n",
    "**Skill-Testing Question:**\n",
    "What Python type are the results of the `.keys()` and `.values()` methods?"
   ]
  },
  {
   "cell_type": "markdown",
   "metadata": {},
   "source": [
    "## Finding a key in a dictionary\n",
    "\n",
    "- If your dictionary is very large, it may not be feasible to visually scan through all the entries to determine if a particular key is present. You can use the `in` statement to check whether a key is in a dictionary:\n"
   ]
  },
  {
   "cell_type": "code",
   "execution_count": 18,
   "metadata": {
    "collapsed": false,
    "jupyter": {
     "outputs_hidden": false
    }
   },
   "outputs": [
    {
     "name": "stdout",
     "output_type": "stream",
     "text": [
      "True\n",
      "False\n"
     ]
    }
   ],
   "source": [
    "print(1900 in life_exp)\n",
    "print(1800 in life_exp)"
   ]
  },
  {
   "cell_type": "markdown",
   "metadata": {},
   "source": [
    "## Dictionary values can be any type\n",
    "\n",
    "- While dictionary keys must be an immutable type, such as strings or numbers, values can be any type — including lists, or other dictionaries.\n",
    "\n",
    "- For example, here we create a dictionary in which each key is a country name, and the value is a list of life expectancies for different years:\n"
   ]
  },
  {
   "cell_type": "code",
   "execution_count": 19,
   "metadata": {
    "collapsed": false,
    "jupyter": {
     "outputs_hidden": false
    }
   },
   "outputs": [
    {
     "data": {
      "text/plain": [
       "[32.7, 32.6, 33.8, 46.9, 58.0, 68.7]"
      ]
     },
     "execution_count": 19,
     "metadata": {},
     "output_type": "execute_result"
    }
   ],
   "source": [
    "intl_life_exp = {'Canada':[48.1, 56.6, 64.0, 71.0, 75.2, 79.2],\n",
    "                   'Denmark':[51.3, 57.5, 66.1, 72.0, 74.2, 77.0],\n",
    "                   'Egypt':[32.7, 32.6, 33.8, 46.9, 58.0, 68.7]\n",
    "                  }\n",
    "intl_life_exp['Egypt']"
   ]
  },
  {
   "cell_type": "markdown",
   "metadata": {},
   "source": [
    "### Nested indexing\n",
    "\n",
    "- `intl_life_exp` is an example of *nesting*, which we saw previously in the lesson on lists. Each dictionary entry's value is a list, which is \"nested\" inside the dictionary. \n",
    "\n",
    "- Since we can index entries in a list, we can use a sequence of specifiers to access a particular element within the list for a specific country's dictionary entry:\n"
   ]
  },
  {
   "cell_type": "code",
   "execution_count": 20,
   "metadata": {
    "collapsed": false,
    "jupyter": {
     "outputs_hidden": false
    }
   },
   "outputs": [
    {
     "data": {
      "text/plain": [
       "57.5"
      ]
     },
     "execution_count": 20,
     "metadata": {},
     "output_type": "execute_result"
    }
   ],
   "source": [
    "intl_life_exp['Denmark'][1]"
   ]
  },
  {
   "cell_type": "markdown",
   "metadata": {},
   "source": [
    "### Nested dictionaries\n",
    "- Using lists in the above example has the same limitation talked about at the start of this lesson: we don't know what years correspond to the values in each list.\n",
    "- Using a dictionary of dictionaries solves this problem:"
   ]
  },
  {
   "cell_type": "code",
   "execution_count": 21,
   "metadata": {
    "collapsed": false,
    "jupyter": {
     "outputs_hidden": false
    }
   },
   "outputs": [
    {
     "data": {
      "text/plain": [
       "{1900: 32.7, 1920: 32.6, 1940: 33.8, 1980: 58.0}"
      ]
     },
     "execution_count": 21,
     "metadata": {},
     "output_type": "execute_result"
    }
   ],
   "source": [
    "intl_life_exp = {'Canada':{1900:48.1, 1920:56.6, 1940:64.0, 1960:71.0, 1980:75.2, 2000:79.2},\n",
    "                   'Denmark':{1900:51.3, 1920:57.5, 1940:66.1},\n",
    "                   'Egypt':{1900:32.7, 1920:32.6, 1940:33.8, 1980:58.0}\n",
    "                  }\n",
    "intl_life_exp['Egypt']\n"
   ]
  },
  {
   "cell_type": "markdown",
   "metadata": {},
   "source": [
    "- Note that each nested dictionary is independent of the others, so you don't need ot have the same keys in each dictionary."
   ]
  },
  {
   "cell_type": "markdown",
   "metadata": {},
   "source": [
    "- We can now obtain values for specific years, within specific countries, using a sequence of keys\n",
    "- The order of keys goes from the outside in as you move from left to right, so `'Denmark'` comes before the year we want to access for Denmark\n"
   ]
  },
  {
   "cell_type": "code",
   "execution_count": 22,
   "metadata": {
    "collapsed": false,
    "jupyter": {
     "outputs_hidden": false
    }
   },
   "outputs": [
    {
     "data": {
      "text/plain": [
       "66.1"
      ]
     },
     "execution_count": 22,
     "metadata": {},
     "output_type": "execute_result"
    }
   ],
   "source": [
    "intl_life_exp['Denmark'][1940]"
   ]
  },
  {
   "cell_type": "markdown",
   "metadata": {},
   "source": [
    "---\n",
    "## Exercises \n",
    "\n",
    "### Creating a dictionary\n",
    "- Create a dictionary called `weekdays` in which the keys are the names of the days of the week from Monday to Friday (not including weekends), and the values are the dates of the days of the week for this week (e.g., if today is Monday, Sept 20, then your value for `Monday` would be `20`)"
   ]
  },
  {
   "cell_type": "code",
   "execution_count": null,
   "metadata": {
    "collapsed": false,
    "jupyter": {
     "outputs_hidden": false
    }
   },
   "outputs": [],
   "source": []
  },
  {
   "cell_type": "markdown",
   "metadata": {},
   "source": [
    "- Using the `weekdays` list you created, print the value for `Wednesday`"
   ]
  },
  {
   "cell_type": "code",
   "execution_count": null,
   "metadata": {
    "collapsed": false,
    "jupyter": {
     "outputs_hidden": false
    }
   },
   "outputs": [],
   "source": []
  },
  {
   "cell_type": "markdown",
   "metadata": {},
   "source": [
    "### Sorting dictionaries\n",
    "\n",
    "- Although dictionaries are not stored in an ordered fashion, it is possible to view a sorted list of dictionary keys using the `sorted()` function we learned in the previous lesson on lists. Try printing the sorted keys for `weekdays`"
   ]
  },
  {
   "cell_type": "code",
   "execution_count": null,
   "metadata": {
    "collapsed": false,
    "jupyter": {
     "outputs_hidden": false
    }
   },
   "outputs": [],
   "source": []
  },
  {
   "cell_type": "markdown",
   "metadata": {},
   "source": [
    "### Extending dictionaries"
   ]
  },
  {
   "cell_type": "markdown",
   "metadata": {},
   "source": [
    "- Add key:value pairs for the weekend days to `weekdays`"
   ]
  },
  {
   "cell_type": "code",
   "execution_count": null,
   "metadata": {
    "collapsed": false,
    "jupyter": {
     "outputs_hidden": false
    }
   },
   "outputs": [],
   "source": []
  },
  {
   "cell_type": "markdown",
   "metadata": {},
   "source": [
    "### Deleting dictionary entries\n",
    "\n",
    "- remove the entry for `Wednesday` from the `weekdays` dictionary"
   ]
  },
  {
   "cell_type": "code",
   "execution_count": null,
   "metadata": {
    "collapsed": false,
    "jupyter": {
     "outputs_hidden": false
    }
   },
   "outputs": [],
   "source": []
  },
  {
   "cell_type": "markdown",
   "metadata": {},
   "source": [
    "- Remove the entry for 1980 from the `intl_life_exp` dictionary entry for Canada"
   ]
  },
  {
   "cell_type": "code",
   "execution_count": null,
   "metadata": {
    "collapsed": false,
    "jupyter": {
     "outputs_hidden": false
    }
   },
   "outputs": [],
   "source": []
  },
  {
   "cell_type": "markdown",
   "metadata": {},
   "source": [
    "### Checking dictionaries\n",
    "\n",
    "- Check if the year 1940 is a key in the entry for Denmark in the `intl_life_exp` dictionary"
   ]
  },
  {
   "cell_type": "code",
   "execution_count": null,
   "metadata": {
    "collapsed": false,
    "jupyter": {
     "outputs_hidden": false
    }
   },
   "outputs": [],
   "source": []
  },
  {
   "cell_type": "markdown",
   "metadata": {},
   "source": [
    "- Check if the year 2000 is a key in the entry for Egypt in the `intl_life_exp` dictionary"
   ]
  },
  {
   "cell_type": "code",
   "execution_count": null,
   "metadata": {
    "collapsed": false,
    "jupyter": {
     "outputs_hidden": false
    }
   },
   "outputs": [],
   "source": []
  },
  {
   "cell_type": "markdown",
   "metadata": {},
   "source": [
    "---\n",
    "## Summary of Key Points\n",
    "- Dictionaries are a special type of collection called *mappings*\n",
    "- Each dictionary entry is specified as a key:value pair\n",
    "- Key:value pairs are assigned to variable names within curly braces: `{}`\n",
    "- Keys must be immutable types, such as strings or numbers. \n",
    "    - However, dictionary values can be any Python type, including lists or other dictionaries\n",
    "- Dictionaries are mutable, in that one can add or delete entries, or change the value of an entry\n",
    "    - You can add a new dictionary entry through assignment\n",
    "    - However, dictionary keys cannot be renamed. Instead, you must delete the old key:value pair and create a new one\n",
    "    - You can delete a dictionary entry using wither the `del` statement or the `.pop()` method\n",
    "- Dictionaries are unordered, so you cannot access an entry based on its serial (sequential) position the way you can entries in a list\n",
    "    - Instead, you access values based on their keys\n",
    "- The length of a dictionary is the number of key:value pairs it contains\n",
    "- You can see a list of all dictionary keys or values using the `.keys()` and `.values()` methods, respectively\n"
   ]
  }
 ],
 "metadata": {
  "kernelspec": {
   "display_name": "Python 3 (ipykernel)",
   "language": "python",
   "name": "python3"
  },
  "language_info": {
   "codemirror_mode": {
    "name": "ipython",
    "version": 3
   },
   "file_extension": ".py",
   "mimetype": "text/x-python",
   "name": "python",
   "nbconvert_exporter": "python",
   "pygments_lexer": "ipython3",
   "version": "3.9.6"
  }
 },
 "nbformat": 4,
 "nbformat_minor": 4
}
