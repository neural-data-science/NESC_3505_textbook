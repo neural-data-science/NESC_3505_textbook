{
 "cells": [
  {
   "cell_type": "markdown",
   "metadata": {},
   "source": [
    "# Variables and Assignment\n",
    "\n",
    "- [Watch a walk-through of this lesson on YouTube](https://youtu.be/raWzwl5fxHc)\n",
    "- [Download all the Jupyter notebooks and other files you need to complete the lessons in this chapter (Chapter 3)](https://github.com/neural-data-science/Introducing-Python)\n",
    "- Turn **off** the GitHub Copilot AI assistant so you can focus on learning Python using your HI (human intelligence). Click the `Deactivate Copilot` button in the bottom right of VS Code, if it is currently activated.\n",
    "---\n",
    "\n",
    "## Questions\n",
    "- How can I store data in programs?\n",
    "\n",
    "## Learning Objectives\n",
    "- Write programs that assign values to variables and perform calculations with those values.\n",
    "- Correctly trace value changes in programs that use scalar assignment.\n",
    "\n",
    "---"
   ]
  },
  {
   "cell_type": "markdown",
   "metadata": {},
   "source": [
    "## Use variables to store values.\n",
    "\n",
    "*   **Variables** are names for values.\n",
    "*   In Python the `=` symbol **assigns** the value on the right to the name on the left.\n",
    "*   The variable is created when a value is assigned to it.\n",
    "*   Here, Python assigns an age to a variable `age`\n",
    "    and a name in quotes to a variable `first_name`. "
   ]
  },
  {
   "cell_type": "code",
   "execution_count": 1,
   "metadata": {
    "collapsed": false,
    "jupyter": {
     "outputs_hidden": false
    }
   },
   "outputs": [],
   "source": [
    "age = 42\n",
    "first_name = 'Ahmed'"
   ]
  },
  {
   "cell_type": "markdown",
   "metadata": {},
   "source": [
    "*   Variable names\n",
    "    * can **only** contain letters, digits, and underscore `_` (typically used to separate words in long variable names)\n",
    "    * cannot start with a digit\n",
    "    * are **case sensitive** (age, Age and AGE are three different variables)\n",
    "*   Variable names that start with underscores like `__aarons_real_age` have a special meaning\n",
    "    so we won't do that until we understand the convention."
   ]
  },
  {
   "cell_type": "markdown",
   "metadata": {},
   "source": [
    "## Use `print` to display values.\n",
    "\n",
    "*   Python has a built-in function called `print` that prints things as text.\n",
    "*   Call the function (i.e., tell Python to run it) by using its name.\n",
    "*   Provide values to the function (i.e., the things to print) in parentheses.\n",
    "*   To add a string to the printout, wrap the string in single or double quotes.\n",
    "*   The values passed to the function are called **arguments**\n"
   ]
  },
  {
   "cell_type": "code",
   "execution_count": 2,
   "metadata": {
    "collapsed": false,
    "jupyter": {
     "outputs_hidden": false
    }
   },
   "outputs": [
    {
     "name": "stdout",
     "output_type": "stream",
     "text": [
      "Ahmed is 42 years old\n"
     ]
    }
   ],
   "source": [
    "print(first_name, 'is', age, 'years old')"
   ]
  },
  {
   "cell_type": "markdown",
   "metadata": {},
   "source": [
    "*   `print` automatically puts a single space between items to separate them.\n",
    "*   It also wraps around to a new line at the end."
   ]
  },
  {
   "cell_type": "markdown",
   "metadata": {},
   "source": [
    "## Variables must be created before they are used.\n",
    "\n",
    "*   If a variable doesn't exist yet, or if the name has been mis-spelled,\n",
    "    Python reports an error. (Unlike some languages, which \"guess\" a default value.)\n"
   ]
  },
  {
   "cell_type": "code",
   "execution_count": 3,
   "metadata": {
    "collapsed": false,
    "jupyter": {
     "outputs_hidden": false
    }
   },
   "outputs": [
    {
     "ename": "NameError",
     "evalue": "name 'last_name' is not defined",
     "output_type": "error",
     "traceback": [
      "\u001b[0;31m---------------------------------------------------------------------------\u001b[0m",
      "\u001b[0;31mNameError\u001b[0m                                 Traceback (most recent call last)",
      "\u001b[0;32m/var/folders/x0/pvpjfdzd39sc5rqvsk5lvv4m0000gn/T/ipykernel_13779/2532117691.py\u001b[0m in \u001b[0;36m<module>\u001b[0;34m\u001b[0m\n\u001b[0;32m----> 1\u001b[0;31m \u001b[0mprint\u001b[0m\u001b[0;34m(\u001b[0m\u001b[0mlast_name\u001b[0m\u001b[0;34m)\u001b[0m\u001b[0;34m\u001b[0m\u001b[0;34m\u001b[0m\u001b[0m\n\u001b[0m",
      "\u001b[0;31mNameError\u001b[0m: name 'last_name' is not defined"
     ]
    }
   ],
   "source": [
    "print(last_name)"
   ]
  },
  {
   "cell_type": "markdown",
   "metadata": {},
   "source": [
    "*   The last line of an error message is usually the most informative.\n",
    "*   We will look at error messages in detail later.\n",
    "\n",
    "## Variables persist between cells\n",
    "\n",
    "Be aware that it is the *order of execution* of cells that is important in a Jupyter notebook, not the order in which they appear. Python will remember *all* the code that was run previously, including any variables you have defined, irrespective of the order in the notebook. Therefore if you define variables lower down the notebook and then (re)run cells further up, those defined further down will still be present. As an example, consider the following"
   ]
  },
  {
   "cell_type": "code",
   "execution_count": 4,
   "metadata": {
    "collapsed": false,
    "jupyter": {
     "outputs_hidden": false
    }
   },
   "outputs": [
    {
     "ename": "NameError",
     "evalue": "name 'myval' is not defined",
     "output_type": "error",
     "traceback": [
      "\u001b[0;31m---------------------------------------------------------------------------\u001b[0m",
      "\u001b[0;31mNameError\u001b[0m                                 Traceback (most recent call last)",
      "\u001b[0;32m/var/folders/x0/pvpjfdzd39sc5rqvsk5lvv4m0000gn/T/ipykernel_13779/909858625.py\u001b[0m in \u001b[0;36m<module>\u001b[0;34m\u001b[0m\n\u001b[0;32m----> 1\u001b[0;31m \u001b[0mprint\u001b[0m\u001b[0;34m(\u001b[0m\u001b[0mmyval\u001b[0m\u001b[0;34m)\u001b[0m\u001b[0;34m\u001b[0m\u001b[0;34m\u001b[0m\u001b[0m\n\u001b[0m\u001b[1;32m      2\u001b[0m \u001b[0mmyval\u001b[0m \u001b[0;34m=\u001b[0m \u001b[0;36m1\u001b[0m\u001b[0;34m\u001b[0m\u001b[0;34m\u001b[0m\u001b[0m\n",
      "\u001b[0;31mNameError\u001b[0m: name 'myval' is not defined"
     ]
    }
   ],
   "source": [
    "print(myval)\n",
    "myval = 1"
   ]
  },
  {
   "cell_type": "markdown",
   "metadata": {},
   "source": [
    "If you execute this in order, the first cell will give an error. However, if you run the first cell *after* the second cell it will print out `1`. It's possible to drag 'n drop cells in CoCalc, to reorder them."
   ]
  },
  {
   "cell_type": "code",
   "execution_count": 5,
   "metadata": {
    "collapsed": false,
    "jupyter": {
     "outputs_hidden": false
    }
   },
   "outputs": [
    {
     "name": "stdout",
     "output_type": "stream",
     "text": [
      "1\n"
     ]
    }
   ],
   "source": [
    "myval = 1\n",
    "print(myval)"
   ]
  },
  {
   "cell_type": "markdown",
   "metadata": {},
   "source": [
    "If you start to get confused about what order you've run cells in, it can be helpful to use the `Kernel` -`Restart & Run All` menu option which clears the interpreter and runs everything from a clean slate going top to bottom."
   ]
  },
  {
   "cell_type": "markdown",
   "metadata": {},
   "source": [
    "## Variables can be used in calculations.\n",
    "\n",
    "*   We can use variables in calculations just as if they were values.\n",
    "    *   Remember, we assigned the value `42` to `age` a few lines ago.\n"
   ]
  },
  {
   "cell_type": "code",
   "execution_count": 6,
   "metadata": {
    "collapsed": false,
    "jupyter": {
     "outputs_hidden": false
    }
   },
   "outputs": [
    {
     "name": "stdout",
     "output_type": "stream",
     "text": [
      "Age in three years: 45\n"
     ]
    }
   ],
   "source": [
    "age = age + 3\n",
    "print('Age in three years:', age)"
   ]
  },
  {
   "cell_type": "markdown",
   "metadata": {},
   "source": [
    "## Python is case-sensitive.\n",
    "\n",
    "*   Python thinks that upper- and lower-case letters are different,\n",
    "    so `Name` and `name` are different variables. You can prove this by running `print(Age)` in the cell below.\n",
    "*   There are conventions for using upper-case letters at the start of variable names— they should only be used in specific circumstances in Python —  so **it is good practice to only use lower-case letters for variable names**\n"
   ]
  },
  {
   "cell_type": "code",
   "execution_count": 7,
   "metadata": {
    "collapsed": false,
    "jupyter": {
     "outputs_hidden": false
    }
   },
   "outputs": [
    {
     "ename": "NameError",
     "evalue": "name 'Age' is not defined",
     "output_type": "error",
     "traceback": [
      "\u001b[0;31m---------------------------------------------------------------------------\u001b[0m",
      "\u001b[0;31mNameError\u001b[0m                                 Traceback (most recent call last)",
      "\u001b[0;32m/var/folders/x0/pvpjfdzd39sc5rqvsk5lvv4m0000gn/T/ipykernel_13779/2955847039.py\u001b[0m in \u001b[0;36m<module>\u001b[0;34m\u001b[0m\n\u001b[0;32m----> 1\u001b[0;31m \u001b[0mprint\u001b[0m\u001b[0;34m(\u001b[0m\u001b[0mAge\u001b[0m\u001b[0;34m)\u001b[0m\u001b[0;34m\u001b[0m\u001b[0;34m\u001b[0m\u001b[0m\n\u001b[0m",
      "\u001b[0;31mNameError\u001b[0m: name 'Age' is not defined"
     ]
    }
   ],
   "source": [
    "print(Age)"
   ]
  },
  {
   "cell_type": "markdown",
   "metadata": {},
   "source": [
    "## Use meaningful variable names.\n",
    "\n",
    "*   Python doesn't care what you call variables as long as they obey the rules\n",
    "    (alphanumeric characters and the underscore).\n",
    "\n"
   ]
  },
  {
   "cell_type": "code",
   "execution_count": 8,
   "metadata": {
    "collapsed": false,
    "jupyter": {
     "outputs_hidden": false
    }
   },
   "outputs": [
    {
     "name": "stdout",
     "output_type": "stream",
     "text": [
      "Ahmed is 42 years old\n"
     ]
    }
   ],
   "source": [
    "flabadab = 42\n",
    "ewr_422_yY = 'Ahmed'\n",
    "print(ewr_422_yY, 'is', flabadab, 'years old')"
   ]
  },
  {
   "cell_type": "markdown",
   "metadata": {},
   "source": [
    "*   However, if you use meaningful variable names, you help other people (and your future self!) understand what the program does"
   ]
  },
  {
   "cell_type": "markdown",
   "metadata": {
    "tags": []
   },
   "source": [
    ":::{important}\n",
    "Although Python allows you to use virtually any characters in variable names, there are style conventions that you should learn and follow. Python PEP 8](https://www.python.org/dev/peps/pep-0008/#naming-conventions) (PEPs are the \"Python Enhancement Proposals\" that provide standards for the language) specifies that regular variables \"should be lowercase, with words separated by underscores as necessary to improve readability\". \n",
    "    \n",
    "So, **you should only use lower-case letters**in variable names. This is because upper-case letters are used for specific purposes in Python. As well, if your variable name is more than one word (such as `first_name`), you should use underscores to separate the words. This naming convention is called **snake case**.\n",
    "    \n",
    "You may encounter different conventions as standard in other programming languages (or in examples of Python that don't properly follow style conventions), such as [**camel case**](https://en.wikipedia.org/wiki/Camel_case) which would be `FirstName` or possibly `firstName` (for the aficionados: the first is is a sub-type of camel case called **Pascal case**, while the second is **dromedary case**). \n",
    "    \n",
    "There is a good reason for following these conventions: when a seasoned Python programmer sees something in camel case, they will expect it to be a class or type variable, not a regular variable. Following Python's conventions thus improves the readability, sharability, and transparency of code.\n",
    ":::"
   ]
  },
  {
   "cell_type": "markdown",
   "metadata": {},
   "source": [
    "---\n",
    "# Exercises\n",
    "\n",
    "Exercises in this workshop are tasks that we encourage you to work on , on your own. We'll give you some time to work on them and then check in and discuss.\n",
    "\n",
    "## What's in a name?\n",
    "\n",
    "Which is a better variable name, `m`, `min`, or `minutes`? Why? (Hint: think about which code you would rather inherit from someone who is leaving the lab):\n",
    "```python\n",
    "ts = m * 60 + s\n",
    "tot_sec = min * 60 + sec\n",
    "total_seconds = minutes * 60 + seconds\n",
    "```"
   ]
  },
  {
   "cell_type": "markdown",
   "metadata": {},
   "source": [
    "## Variables only change value when something is assigned to them\n",
    "\n",
    "*   If we make one cell in a spreadsheet depend on another, and update the latter, the former updates automatically\n",
    "*   This does **not** happen in programming languages\n",
    "\n",
    "~~~python\n",
    "first = 1\n",
    "second = 5 * first\n",
    "first = 2\n",
    "print('first is', first, 'and second is', second)\n",
    "~~~"
   ]
  },
  {
   "cell_type": "code",
   "execution_count": null,
   "metadata": {
    "collapsed": false,
    "jupyter": {
     "outputs_hidden": false
    }
   },
   "outputs": [],
   "source": []
  },
  {
   "cell_type": "markdown",
   "metadata": {},
   "source": [
    "*   The computer reads the value of `first` when doing the multiplication,\n",
    "    creates a new value, and assigns it to `second`.\n",
    "*   After that, `second` does not remember where it came from."
   ]
  },
  {
   "cell_type": "markdown",
   "metadata": {},
   "source": [
    "## Swapping Values\n",
    "\n",
    "Try to follow what happens in the following sequence of commands. Guess what the final values of `x` and `y` will be, then run the code yourself to check your guess.\n",
    "\n",
    "~~~python\n",
    "x = 1.0   \n",
    "y = 3.0    \n",
    "swap = x  \n",
    "x = y      \n",
    "y = swap \n",
    "~~~"
   ]
  },
  {
   "cell_type": "code",
   "execution_count": null,
   "metadata": {
    "collapsed": false,
    "jupyter": {
     "outputs_hidden": false
    }
   },
   "outputs": [],
   "source": []
  },
  {
   "cell_type": "markdown",
   "metadata": {},
   "source": [
    "These three lines exchange the values in `x` and `y` using the `swap`\n",
    "variable for temporary storage. This is a fairly common programming idiom.\n"
   ]
  },
  {
   "cell_type": "markdown",
   "metadata": {},
   "source": [
    "---\n",
    "## Key Points Summary:\n",
    "- Use variables to store values\n",
    "- Use `print` to display values\n",
    "- Variables persist between cells\n",
    "- Variables must be created before they are used\n",
    "- Variables can be used in calculations\n",
    "- Python is case-sensitive\n",
    "- Variables only change value when something is assigned to them\n",
    "- Use meaningful variable names\n",
    "- Use only lower-case letters, separated by underscores, in variable names"
   ]
  },
  {
   "cell_type": "markdown",
   "metadata": {},
   "source": [
    "---\n",
    "This lesson is adapted from the [Software Carpentry](https://software-carpentry.org/lessons/) [Plotting and Programming in Python](http://swcarpentry.github.io/python-novice-gapminder/) workshop. "
   ]
  }
 ],
 "metadata": {
  "kernelspec": {
   "display_name": "Python 3 (ipykernel)",
   "language": "python",
   "name": "python3"
  },
  "language_info": {
   "codemirror_mode": {
    "name": "ipython",
    "version": 3
   },
   "file_extension": ".py",
   "mimetype": "text/x-python",
   "name": "python",
   "nbconvert_exporter": "python",
   "pygments_lexer": "ipython3",
   "version": "3.9.6"
  }
 },
 "nbformat": 4,
 "nbformat_minor": 4
}
