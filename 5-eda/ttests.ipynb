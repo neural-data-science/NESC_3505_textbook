{
 "cells": [
  {
   "cell_type": "markdown",
   "id": "72783e71-969b-4dbd-85a0-d6feb3b8d118",
   "metadata": {
    "tags": []
   },
   "source": [
    "# Basic Statistics in Python: *t* tests with SciPy\n",
    "---\n",
    "\n",
    "## Learning Objectives\n",
    "- implement paired, unpaired, and 1-sample *t* tests using the SciPy package\n",
    "\n",
    "---\n",
    "\n",
    "## Introduction\n",
    "An introductory course in statistics is a prerequisite for this class, so we assume you remember (some of) the basics including *t*-tests, ANOVAs, and regression (or at least correlation). \n",
    "\n",
    "Here we will demonstrate how to perform *t* tests in Python. Future lessons will cover ANOVA and regression.\n"
   ]
  },
  {
   "cell_type": "markdown",
   "id": "ab2e8d2f-8de3-43f7-9e22-4b3929d9d107",
   "metadata": {},
   "source": [
    "## The *t* test\n",
    "\n",
    "A *t* test is used to compare the means of two sets of data. For example, in the flanker experiment we used in the [previous section](./repeated_meaasures), we could compare the mean RTs for the congruent and incongruent conditions. *t* tests consider the size of the difference between the means of the two data sets, relative to the variance in each one. The less the distributions of values in the two data sets overlap, the larger the *t* value will tend to be. We can then estimate the probability that the observed difference occurred simply by chance, rather than due to a true difference — this is the *p* value. Typically, researchers use a *p* < .05 threshold to determine statistical significance. \n",
    "\n",
    "*t* tests are implemented in the [SciPy](https://docs.scipy.org) library, which \"provides many user-friendly and efficient numerical routines, such as routines for numerical integration, interpolation, optimization, linear algebra, and statistics.\" Each of those type of routines is in a separate sub-module of SciPy; the one we'll want is `scipy.stats`. We can import this specific module with the command:"
   ]
  },
  {
   "cell_type": "code",
   "execution_count": 1,
   "id": "0240588e-b6d6-43db-b65d-6a6e6b28e1e7",
   "metadata": {},
   "outputs": [],
   "source": [
    "from scipy import stats"
   ]
  },
  {
   "cell_type": "markdown",
   "id": "21c4fe04-9ef7-4090-b434-1a869de22dce",
   "metadata": {},
   "source": [
    "We'll also import some other packages we'll need, and the flanker data from the previous lesson to work with:"
   ]
  },
  {
   "cell_type": "code",
   "execution_count": 2,
   "id": "663b7b91-8352-40ea-be68-31ed1df7c6c7",
   "metadata": {},
   "outputs": [],
   "source": [
    "import pandas as pd\n",
    "import numpy as np\n",
    "import seaborn as sns\n",
    "import matplotlib.pyplot as plt\n",
    "import glob\n",
    "\n",
    "# Import the data\n",
    "df = pd.read_csv('data/flanker_rt_data.csv')\n",
    "\n",
    "## Aggregate the data across participants\n",
    "df_avg = pd.DataFrame(df.groupby(['participant', 'flankers'])['rt'].mean()).reset_index()"
   ]
  },
  {
   "cell_type": "markdown",
   "id": "415fbe3c-3026-46ed-b08b-80cb38995030",
   "metadata": {},
   "source": [
    "---\n",
    "## Paired *t*-test\n",
    "\n",
    "Let's start by comparing the mean RTs for the congruent and incongruent flanker conditions. \n",
    "\n",
    "Recall that we are working with repeated-measures data – for each participant, we have 160 trials across 4 conditions. *t* tests are not meant for *within-condition* repeated measures data — we need only one measurement per participant in each condition. This is for essentially the same reason discussed at the end of the previous section on repeated measures data: if we treat the within-participant variability the same as the between-participant variability, then we will tend to grossly under-estimate the true (between-participant) variance. When running a *t* test, this would result in erroneously large *t* values that could often falsely suggest a statistically significant result. So, we need to use the aggregated data, `df_avg`. \n",
    "\n",
    "The other important characteristic of our data are that, even though aggregation has reduced the data to one measurement per participant, we still have repeated measures, across the two conditions. The default assumption of a *t* test is that each of the two data sets being compared come from different samples of the population (often called a *between-subjects design* in Psychology). This means that *t* tests assume there is no relationship between any particular measurement in each of the two data sets being compared. When we have measurements from the same people in both data sets (a *within-subjects. design*), we need to account for this, or the *t* test will again suggest an inflated (incorrect) value. We account for this by using a **paired *t* test**. In SciPy, this is the function [`ttest_rel()`](https://docs.scipy.org/doc/scipy/reference/generated/scipy.stats.ttest_rel.html).  (For a between-subjects — or *independent groups* design, which we will not cover here, you would use [`ttest_ind()`](https://docs.scipy.org/doc/scipy/reference/generated/scipy.stats.ttest_ind.html)).\n",
    "\n",
    "### Select the data\n",
    "Running `ttest_rel()` is as simple as giving it the two sets of data you want to compare, as arguments. We can pull these directly from our `df_avg` pandas DataFrame. We'll do this in a few lines of code below, first assigning each data set to a new variable, and then running the *t* test. "
   ]
  },
  {
   "cell_type": "code",
   "execution_count": 3,
   "id": "45d3ade0-85ea-4140-99e7-c757ac97eff3",
   "metadata": {},
   "outputs": [],
   "source": [
    "congr = df_avg[df_avg['flankers'] == 'congruent']['rt']\n",
    "incongr = df_avg[df_avg['flankers'] == 'incongruent']['rt']"
   ]
  },
  {
   "cell_type": "markdown",
   "id": "7ba8757e-0f48-4db9-8967-e4632bc2fbf2",
   "metadata": {},
   "source": [
    "Let's make sure you understand the code above before we go on. We've seen it before, but maybe not in exactly this form — and it is quite complex, but logical.\n",
    "\n",
    "We start on the first line by selecting only the rows of the DataFrame associated with congruent trials, which returns a Boolean mask:"
   ]
  },
  {
   "cell_type": "code",
   "execution_count": 4,
   "id": "35950f4e-cdf8-4a22-b203-4f8ba0986ec8",
   "metadata": {},
   "outputs": [
    {
     "data": {
      "text/plain": [
       "0      True\n",
       "1     False\n",
       "2     False\n",
       "3      True\n",
       "4     False\n",
       "      ...  \n",
       "76    False\n",
       "77    False\n",
       "78     True\n",
       "79    False\n",
       "80    False\n",
       "Name: flankers, Length: 81, dtype: bool"
      ]
     },
     "execution_count": 4,
     "metadata": {},
     "output_type": "execute_result"
    }
   ],
   "source": [
    "df_avg['flankers'] == 'congruent'"
   ]
  },
  {
   "cell_type": "markdown",
   "id": "d76ab3e5-b57a-4ab9-b209-70fcef1ba67c",
   "metadata": {},
   "source": [
    "We embed this inside another selector `df_avg[df_avg['flankers'] == 'congruent']`, which applies the Boolean mask to the DataFrame, essentially saying, \"select from `df_avg` all the columns associated with congruent trials\". "
   ]
  },
  {
   "cell_type": "code",
   "execution_count": 5,
   "id": "09892e53-7faf-4e30-810b-5830b27abbe5",
   "metadata": {},
   "outputs": [
    {
     "data": {
      "text/html": [
       "<div>\n",
       "<style scoped>\n",
       "    .dataframe tbody tr th:only-of-type {\n",
       "        vertical-align: middle;\n",
       "    }\n",
       "\n",
       "    .dataframe tbody tr th {\n",
       "        vertical-align: top;\n",
       "    }\n",
       "\n",
       "    .dataframe thead th {\n",
       "        text-align: right;\n",
       "    }\n",
       "</style>\n",
       "<table border=\"1\" class=\"dataframe\">\n",
       "  <thead>\n",
       "    <tr style=\"text-align: right;\">\n",
       "      <th></th>\n",
       "      <th>participant</th>\n",
       "      <th>flankers</th>\n",
       "      <th>rt</th>\n",
       "    </tr>\n",
       "  </thead>\n",
       "  <tbody>\n",
       "    <tr>\n",
       "      <th>0</th>\n",
       "      <td>s1</td>\n",
       "      <td>congruent</td>\n",
       "      <td>0.455259</td>\n",
       "    </tr>\n",
       "    <tr>\n",
       "      <th>3</th>\n",
       "      <td>s10</td>\n",
       "      <td>congruent</td>\n",
       "      <td>0.471231</td>\n",
       "    </tr>\n",
       "    <tr>\n",
       "      <th>6</th>\n",
       "      <td>s11</td>\n",
       "      <td>congruent</td>\n",
       "      <td>0.417540</td>\n",
       "    </tr>\n",
       "    <tr>\n",
       "      <th>9</th>\n",
       "      <td>s12</td>\n",
       "      <td>congruent</td>\n",
       "      <td>0.429758</td>\n",
       "    </tr>\n",
       "    <tr>\n",
       "      <th>12</th>\n",
       "      <td>s13</td>\n",
       "      <td>congruent</td>\n",
       "      <td>0.419096</td>\n",
       "    </tr>\n",
       "  </tbody>\n",
       "</table>\n",
       "</div>"
      ],
      "text/plain": [
       "   participant   flankers        rt\n",
       "0           s1  congruent  0.455259\n",
       "3          s10  congruent  0.471231\n",
       "6          s11  congruent  0.417540\n",
       "9          s12  congruent  0.429758\n",
       "12         s13  congruent  0.419096"
      ]
     },
     "execution_count": 5,
     "metadata": {},
     "output_type": "execute_result"
    }
   ],
   "source": [
    "df_avg[df_avg['flankers'] == 'congruent'].head()"
   ]
  },
  {
   "cell_type": "markdown",
   "id": "d76921e9-781c-4e51-9bad-b5704a1f1859",
   "metadata": {},
   "source": [
    "Finally, we add `['rt']` to the end to indicate that, having selected the incongruent rows, we actually only want the column with the RT values, because those are what we want to perform the *t* test on. The second line does the same thing for incongruent trials."
   ]
  },
  {
   "cell_type": "code",
   "execution_count": 6,
   "id": "fc0e02a6-20ba-4b8e-9fed-5c2723e2218e",
   "metadata": {},
   "outputs": [
    {
     "data": {
      "text/plain": [
       "0     0.455259\n",
       "3     0.471231\n",
       "6     0.417540\n",
       "9     0.429758\n",
       "12    0.419096\n",
       "Name: rt, dtype: float64"
      ]
     },
     "execution_count": 6,
     "metadata": {},
     "output_type": "execute_result"
    }
   ],
   "source": [
    "df_avg[df_avg['flankers'] == 'congruent']['rt'].head()"
   ]
  },
  {
   "cell_type": "markdown",
   "id": "051e34ad-1b35-4673-9c88-30f6ed9e5272",
   "metadata": {},
   "source": [
    "This last result is what we assign to `congr` (note, by the way, that this is a pandas Series, not a DataFrame)."
   ]
  },
  {
   "cell_type": "markdown",
   "id": "9ace238b-901e-4ee6-84ba-689635b694fd",
   "metadata": {},
   "source": [
    "### Run the *t* test\n",
    "\n",
    "Now we just pass `congr` and `incongr` as the first (and only) two arguments to `ttest_rel()`, and print the results out with some explanatory text. Note that we have to write `stats.ttest_rel()`, because we imported the library as `stats` and `ttest_rel()` is a function within `stats`.\n",
    "\n",
    "If you were to look at the [API](https://docs.scipy.org/doc/scipy/reference/generated/scipy.stats.ttest_rel.html) for `ttest_rel`, you'd see that the function returns *two* values: the first is the *t* value, and the second is the *p* value. Therefore, on the left side of the assignment operator, we need to list two variables for outputs, which we call `t` and `p`"
   ]
  },
  {
   "cell_type": "code",
   "execution_count": 7,
   "id": "65ea1df7-ce07-4e44-bf97-da4eb21138f6",
   "metadata": {},
   "outputs": [
    {
     "name": "stdout",
     "output_type": "stream",
     "text": [
      "Congruent vs. Incongruent t =  -10.209634805365013  p =  1.3739296579820675e-10\n"
     ]
    }
   ],
   "source": [
    "t, p = stats.ttest_rel(congr, incongr)\n",
    "# Print the results with explanatory text\n",
    "print('Congruent vs. Incongruent t = ', str(t), ' p = ', str(p))"
   ]
  },
  {
   "cell_type": "markdown",
   "id": "315368ad-d006-4f12-acdd-c97fd3434c33",
   "metadata": {},
   "source": [
    "We can make the output nicer by rounding to a reasonable level of precision:"
   ]
  },
  {
   "cell_type": "code",
   "execution_count": 8,
   "id": "04b721e4-d89e-4225-b0d1-d5ff8aa29754",
   "metadata": {},
   "outputs": [
    {
     "name": "stdout",
     "output_type": "stream",
     "text": [
      "Congruent vs. Incongruent t =  -10.21  p =  0.0\n"
     ]
    }
   ],
   "source": [
    "print('Congruent vs. Incongruent t = ', str(round(t, 2)), ' p = ', str(round(p, 4)))"
   ]
  },
  {
   "cell_type": "markdown",
   "id": "ab284c88-df8e-4b2e-bc1f-ec7fb8cc130c",
   "metadata": {},
   "source": [
    "Now that's a result any researcher would be happy to see! The *p* value is not actually zero by the way, but note in the original output the *p* value was reported in scientific notation, ending in `e-10`. This means that the *p* value is actually 0.00000000013739. We would typically report this as *p* < .0001, since we rounded to 4 decimal places (which is fairly typical for reporting *p* values), but Python simply rounds the value as we asked."
   ]
  },
  {
   "cell_type": "markdown",
   "id": "a7b5d08d-49c6-421a-a6bf-218fc1afccfc",
   "metadata": {},
   "source": [
    "### 1-tailed vs. 2-tailed *p* values\n",
    "    \n",
    "By default, SciPy's `ttest_` functions return **2-tailed *p* values**. This means that the *p* value considers both possible directions of difference between the two conditions. In the present example, that means *either* RTs for congruent are faster than incongruent, *or* they are slower for congruent than incongruent. In contrast, a **1-tailed *p* value** should be used if we have a specific prediction of a \"direction\" of the difference. Using a 1-tailed *p* value will tend to be less conservative, i.e., more likely to find a significant effect. This is because, for a given *p* threshold (e.g., $\\alpha = .05$), a 2-tailed test effectively splits the *p* in half, and reflects a probability of 2.5% that the result occurred by chance in one direction (e.g., congruent slower) and a 2.5% probability of getting the reverse result (e.g., congruent faster) by chance. In contrast, a 1-tailed test allocates all of the 5% chance probability to the likelihood of a difference in one direction (e.g., congruent faster).\n",
    "    \n",
    "If you have a specific a priori hypothesis regarding the direction of the difference, you should use a 1-tailed test, because you increase your sensitivity to the predicted effect. For example, for the flanker experiment we're working with here, previous research would lead us to the congruent-faster hypothesis. A 2-tailed test is more appropriate in exploratory analyses, if you don't have a clear prediction as to which direction the difference might be in.\n",
    "\n",
    "In the present example, it really doesn't matter since the two-tailed *p* value is wildly significant. However, if you want to convert to one-tailed *p* values, you just need to divide *p* in half:"
   ]
  },
  {
   "cell_type": "code",
   "execution_count": 9,
   "id": "0aa4c7bf-b53f-46ed-be69-285c19c57011",
   "metadata": {},
   "outputs": [
    {
     "name": "stdout",
     "output_type": "stream",
     "text": [
      "Congruent vs. Incongruent t =  -10.21  p (one-tailed) =  6.869648289910338e-11\n"
     ]
    }
   ],
   "source": [
    "print('Congruent vs. Incongruent t = ', str(round(t, 2)), ' p (one-tailed) = ', str(p / 2))"
   ]
  },
  {
   "cell_type": "markdown",
   "id": "11c0cd19-06ee-45f0-9ecd-ce031045d9ee",
   "metadata": {},
   "source": [
    "---\n",
    "## Be careful about order of data values\n",
    "\n",
    "Paired *t* tests are meant to compare two sets of data that are paired in some way. In our case, the data are paired because they come from the same participants. It's important when passing the two sets of data to the *t* test function that the order of the data points is the same in both sets. The above paired *t* test worked properly because `congr` and `incongr` were extracted from a pandas DataFrame, in which each row holds data from a particular participant. So the order of the data points was the same in `congr` and `incongr`. This is an important consideration to keep in mind though — it's always a very good idea to ensure your data are stored with indexes that ensure your pairings of data values are correct."
   ]
  },
  {
   "cell_type": "markdown",
   "id": "fd6fce73-1ea1-4f48-b5e4-a158411a3654",
   "metadata": {},
   "source": [
    "### Solution 1: Use DataFrame columns rather than extracting Series\n",
    "\n",
    "Above, we extracted the two data sets we wanted to compare with a *t* test from a DataFrame (df) to two pandas Series, `congr` and `incongr`. On the one hand, this simplifies the syntax of the *t* test command, but on the other hand we lose the structure of the pandas DataFrame. That is, in the DataFrame, the values from each participant are in the same row, and so we don't have to worry about the order of the data values. We can run the *t* test on two columns of the pandas DataFrame, the code is just a little more complex to look at:"
   ]
  },
  {
   "cell_type": "code",
   "execution_count": 10,
   "id": "3f511a83-c35b-4343-be5a-5d8db6858dc8",
   "metadata": {},
   "outputs": [
    {
     "name": "stdout",
     "output_type": "stream",
     "text": [
      "Congruent vs. Incongruent t =  -10.21  p =  0.0\n"
     ]
    }
   ],
   "source": [
    "t, p = stats.ttest_rel(df_avg[df_avg['flankers'] == 'congruent']['rt'],\n",
    "                       df_avg[df_avg['flankers'] == 'incongruent']['rt'])\n",
    "print('Congruent vs. Incongruent t = ', str(round(t, 2)), ' p = ', str(round(p, 4)))"
   ]
  },
  {
   "cell_type": "markdown",
   "id": "5a6bd0fe-1f33-4abd-ace3-4b9264a9cfa6",
   "metadata": {},
   "source": [
    "This is probably the best approach to use in most cases, because:\n",
    "\n",
    "1. It ensures that the repeated-measures structure of the data is preserved\n",
    "1. It uses less memory resources, because we aren't copying columns of our DataFrame to new Series/vairables.\n",
    "    \n",
    "It may in fact seem overly convoluted to have first demonstrated the extract-to-Series approach, then explain that it's not the ideal way to do things! However, for many people, it's intuitive to extract subsets of data to perform further processing on. One point of this lesson was to illustrate how that can create problems, even though it might seem like a logical approach. "
   ]
  },
  {
   "cell_type": "markdown",
   "id": "7267af3f-c61b-4ccc-b9b7-b559f42a501c",
   "metadata": {},
   "source": [
    "### Solution 2: Use `.sort_index()` to ensure paired data are aligned\n",
    "\n",
    "If you do choose to work with a pair of Series, the way we can ensure that the indexes of the two data sets align this is by *re-ordering* the data in both Series that we're comparing (`congr` and `incongr_rand` in this case), using pandas `.sort_index()` method:"
   ]
  },
  {
   "cell_type": "code",
   "execution_count": 12,
   "id": "2aaf4db0-3133-4259-b55d-b73fce10d6eb",
   "metadata": {},
   "outputs": [
    {
     "name": "stdout",
     "output_type": "stream",
     "text": [
      "Congruent vs. Incongruent t =  -10.21  p =  0.0\n"
     ]
    }
   ],
   "source": [
    "t, p = stats.ttest_rel(congr.sort_index(), incongr.sort_index())\n",
    "print('Congruent vs. Incongruent t = ', str(round(t, 2)), ' p = ', str(round(p, 4)))"
   ]
  },
  {
   "cell_type": "markdown",
   "id": "72202d04-dd4e-4673-ad4a-c235bd85690c",
   "metadata": {},
   "source": [
    "Long story short, it is good practice to index by participant ID, and use the `.sort_index()` method when applying *t* tests to pandas Series or DataFrames, to ensure that values are appropriately paired."
   ]
  },
  {
   "cell_type": "markdown",
   "id": "11f7b39e-f926-4b82-b466-ba0bb3a85f44",
   "metadata": {
    "tags": []
   },
   "source": [
    "---\n",
    "## One-sample *t* tests\n",
    "\n",
    "An alternative way to compare the congruent and incongruent conditions is to first compute the difference in mean RTs between the two conditions for each participant (since it is a paired design), and then run a *t* test on the differences. In this case, we use a **one sample** *t* test, in which we compare the data set to zero. In other words, is the difference between the conditions basically zero, or is it significantly different from zero (i.e., a believable difference)?\n",
    "\n",
    "Effectively, this is not different from a paired *t* test. However, there may be situations where your data are already stored as differences, and you want to know if the mean of those differences is significantly different from zero. In that case, you would use a one-sample *t* test. \n",
    "\n",
    "We can compute the difference between two pandas Series easily just using the `-` (minus) operator, so in this case we could use `congr - incongr`\n",
    "\n",
    "Note that this subtraction *only* works if the two Series are indexed by participant ID (or in some way that preserves the alignment of values between the two data sets). However, because we are subtracting two pandas objects, pandas recognizes the indexes in each and aligns them, even if the indexes aren't in the same order in the two input Series. So we don't have to worry about using `.sort_index()` as we did above for paired *t* tests."
   ]
  },
  {
   "cell_type": "code",
   "execution_count": 13,
   "id": "3f368065-f93e-4b74-8644-d0749810c983",
   "metadata": {
    "tags": []
   },
   "outputs": [
    {
     "name": "stdout",
     "output_type": "stream",
     "text": [
      "Congruent vs. Incongruent t =  nan  p =  nan\n"
     ]
    }
   ],
   "source": [
    "congr_vs_incongr = congr - incongr\n",
    "t, p = stats.ttest_1samp(congr_vs_incongr, 0)\n",
    "print('Congruent vs. Incongruent t = ', str(round(t, 2)), ' p = ', str(round(p, 4)))"
   ]
  },
  {
   "cell_type": "markdown",
   "id": "d730d0f9-57b8-4f16-8ec1-b74b6a5fa552",
   "metadata": {},
   "source": [
    "Note that we get the same result from the 1 sample *t* test if we perform the subtraction on the two Series that have the same order of indexes, as when we perform the subtraction using `incongr_rand`, which has a randomly shuffled order of indexes. We don't need to explicitly `.sort_index()` in this case:"
   ]
  },
  {
   "cell_type": "code",
   "execution_count": 14,
   "id": "b9592edc-c3ac-4c98-b5fa-ddeb933da86c",
   "metadata": {
    "tags": []
   },
   "outputs": [
    {
     "ename": "NameError",
     "evalue": "name 'incongr_rand' is not defined",
     "output_type": "error",
     "traceback": [
      "\u001b[0;31m---------------------------------------------------------------------------\u001b[0m",
      "\u001b[0;31mNameError\u001b[0m                                 Traceback (most recent call last)",
      "\u001b[1;32m/Users/aaron/3505/NESC_3505_textbook/5-eda/ttests.ipynb Cell 32\u001b[0m line \u001b[0;36m1\n\u001b[0;32m----> <a href='vscode-notebook-cell:/Users/aaron/3505/NESC_3505_textbook/5-eda/ttests.ipynb#X56sZmlsZQ%3D%3D?line=0'>1</a>\u001b[0m congr_vs_incongr \u001b[39m=\u001b[39m congr \u001b[39m-\u001b[39m incongr_rand\n\u001b[1;32m      <a href='vscode-notebook-cell:/Users/aaron/3505/NESC_3505_textbook/5-eda/ttests.ipynb#X56sZmlsZQ%3D%3D?line=1'>2</a>\u001b[0m t, p \u001b[39m=\u001b[39m stats\u001b[39m.\u001b[39mttest_1samp(congr_vs_incongr, \u001b[39m0\u001b[39m)\n\u001b[1;32m      <a href='vscode-notebook-cell:/Users/aaron/3505/NESC_3505_textbook/5-eda/ttests.ipynb#X56sZmlsZQ%3D%3D?line=2'>3</a>\u001b[0m \u001b[39mprint\u001b[39m(\u001b[39m'\u001b[39m\u001b[39mCongruent vs. Incongruent t = \u001b[39m\u001b[39m'\u001b[39m, \u001b[39mstr\u001b[39m(\u001b[39mround\u001b[39m(t, \u001b[39m2\u001b[39m)), \u001b[39m'\u001b[39m\u001b[39m p = \u001b[39m\u001b[39m'\u001b[39m, \u001b[39mstr\u001b[39m(\u001b[39mround\u001b[39m(p, \u001b[39m4\u001b[39m)))\n",
      "\u001b[0;31mNameError\u001b[0m: name 'incongr_rand' is not defined"
     ]
    }
   ],
   "source": [
    "congr_vs_incongr = congr - incongr_rand\n",
    "t, p = stats.ttest_1samp(congr_vs_incongr, 0)\n",
    "print('Congruent vs. Incongruent t = ', str(round(t, 2)), ' p = ', str(round(p, 4)))"
   ]
  },
  {
   "cell_type": "markdown",
   "id": "cf5a4e45-30dc-4a28-b1d9-266cc8a6f14c",
   "metadata": {},
   "source": [
    "<div class=\"alert alert-block alert-info\">\n",
    "\n",
    "### Paired vs. 1-sample *t* tests?\n",
    "\n",
    "You'll note the result of the 1-sample *t* test is the same as the paired *t* test above. This is expected, because in both cases we ran a *t* test to compare the difference between the same two sets of data. From a coding perspective, the paired *t* test is a bit simpler, because you don't have to perform a subtraction on the data prior to running the *t* test. \n",
    "    \n",
    "The reasons we might want to run a 1-sample *t* test include cases where are data are already represented as a subtraction, or in some cases when we're working with multiple variables, performing subtractions can be a way of simplifying our presentation of the results. As well, since pandas subtraction respects the indexes, computing differences and then 1-sample *t* tests can be a bit safer in ensuring that the proper within-participants nesting structure of your data is preserved.\n",
    "    \n",
    "</div>"
   ]
  },
  {
   "cell_type": "markdown",
   "id": "d37e3f36-68be-4864-8ff1-69185fa0e54b",
   "metadata": {
    "tags": []
   },
   "source": [
    "---\n",
    "## Summary\n",
    "- *t* tests are used to compare the means of two sets of data to each other, or the mean of one set of data against a particular value (such as zero)\n",
    "- An **unpaired *t* test** is used to compare two independent sets of data (e.g., from two different samples of a population, two groups, etc.)\n",
    "- A **paired *t* test** must be used when the two sets of data come from the same samples (e.g., the same individual participants)\n",
    "- A **1-sample *t* test** is used to compare the mean of one set of data against a specific value. This is often used to compare a data set to zero\n",
    "- Paired *t* tests and 1-sample *t* tests can both be used to determine whether differences between two samples are significantly different from zero (no difference). \n",
    "    - In the 1-sample case, you must first compute the difference between the pairs of data in two conditions.\n",
    "- When working with pandas data objects, it is important to remember that SciPy's functions (including `ttest`s) do not use pandas indexes. So when doing paired *t* tests, you must ensure that the data are listed in the same order in the two Series being compared.\n",
    "    - The best way to ensure that the within-participant/repeated measures structure of the data is preserved when doing a *t* test, is to use two columns from a DataFrame that is indexed by participant ID.\n",
    "    - One alternative is to use the `.sort_index()` method on two series that are indexed by participant ID\n",
    "    - Another alternative is to use the fact that pandas does respect its indexing when you subtract two Series, so if your data are indexed by participant ID, doing the subtraction followed by a 1-sample *t* test is a way of ensuring that the within-participants relationships between data sets are preserved."
   ]
  },
  {
   "cell_type": "markdown",
   "id": "4306e7ca",
   "metadata": {},
   "source": []
  }
 ],
 "metadata": {
  "kernelspec": {
   "display_name": "Python 3 (ipykernel)",
   "language": "python",
   "name": "python3"
  },
  "language_info": {
   "codemirror_mode": {
    "name": "ipython",
    "version": 3
   },
   "file_extension": ".py",
   "mimetype": "text/x-python",
   "name": "python",
   "nbconvert_exporter": "python",
   "pygments_lexer": "ipython3",
   "version": "3.10.12"
  }
 },
 "nbformat": 4,
 "nbformat_minor": 5
}
